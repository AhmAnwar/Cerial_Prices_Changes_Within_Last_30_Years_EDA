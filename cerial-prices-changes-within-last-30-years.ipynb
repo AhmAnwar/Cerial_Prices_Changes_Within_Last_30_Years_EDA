{
 "cells": [
  {
   "cell_type": "markdown",
   "id": "9f18e200",
   "metadata": {
    "papermill": {
     "duration": 0.012609,
     "end_time": "2023-08-10T13:58:38.793160",
     "exception": false,
     "start_time": "2023-08-10T13:58:38.780551",
     "status": "completed"
    },
    "tags": []
   },
   "source": [
    "# import libraries"
   ]
  },
  {
   "cell_type": "code",
   "execution_count": 1,
   "id": "028167f9",
   "metadata": {
    "execution": {
     "iopub.execute_input": "2023-08-10T13:58:38.820237Z",
     "iopub.status.busy": "2023-08-10T13:58:38.819279Z",
     "iopub.status.idle": "2023-08-10T13:58:41.333429Z",
     "shell.execute_reply": "2023-08-10T13:58:41.332524Z"
    },
    "papermill": {
     "duration": 2.530041,
     "end_time": "2023-08-10T13:58:41.335931",
     "exception": false,
     "start_time": "2023-08-10T13:58:38.805890",
     "status": "completed"
    },
    "tags": []
   },
   "outputs": [
    {
     "name": "stderr",
     "output_type": "stream",
     "text": [
      "/opt/conda/lib/python3.10/site-packages/scipy/__init__.py:146: UserWarning: A NumPy version >=1.16.5 and <1.23.0 is required for this version of SciPy (detected version 1.23.5\n",
      "  warnings.warn(f\"A NumPy version >={np_minversion} and <{np_maxversion}\"\n"
     ]
    }
   ],
   "source": [
    "import numpy as np\n",
    "import pandas as pd\n",
    "import matplotlib.pyplot as plt\n",
    "import seaborn as sns\n",
    "import plotly.express as px\n",
    "from plotly.subplots import make_subplots\n",
    "import plotly.graph_objects as go\n",
    "import sklearn as sk"
   ]
  },
  {
   "cell_type": "markdown",
   "id": "556537e0",
   "metadata": {
    "papermill": {
     "duration": 0.011287,
     "end_time": "2023-08-10T13:58:41.360315",
     "exception": false,
     "start_time": "2023-08-10T13:58:41.349028",
     "status": "completed"
    },
    "tags": []
   },
   "source": [
    "# import dataset"
   ]
  },
  {
   "cell_type": "code",
   "execution_count": 2,
   "id": "5ab51bbc",
   "metadata": {
    "execution": {
     "iopub.execute_input": "2023-08-10T13:58:41.385759Z",
     "iopub.status.busy": "2023-08-10T13:58:41.385127Z",
     "iopub.status.idle": "2023-08-10T13:58:41.432699Z",
     "shell.execute_reply": "2023-08-10T13:58:41.431584Z"
    },
    "papermill": {
     "duration": 0.062974,
     "end_time": "2023-08-10T13:58:41.435023",
     "exception": false,
     "start_time": "2023-08-10T13:58:41.372049",
     "status": "completed"
    },
    "tags": []
   },
   "outputs": [
    {
     "data": {
      "text/html": [
       "<div>\n",
       "<style scoped>\n",
       "    .dataframe tbody tr th:only-of-type {\n",
       "        vertical-align: middle;\n",
       "    }\n",
       "\n",
       "    .dataframe tbody tr th {\n",
       "        vertical-align: top;\n",
       "    }\n",
       "\n",
       "    .dataframe thead th {\n",
       "        text-align: right;\n",
       "    }\n",
       "</style>\n",
       "<table border=\"1\" class=\"dataframe\">\n",
       "  <thead>\n",
       "    <tr style=\"text-align: right;\">\n",
       "      <th></th>\n",
       "      <th>Year</th>\n",
       "      <th>Month</th>\n",
       "      <th>Price_wheat_ton</th>\n",
       "      <th>Price_rice_ton</th>\n",
       "      <th>Price_corn_ton</th>\n",
       "      <th>Inflation_rate</th>\n",
       "      <th>Price_wheat_ton_infl</th>\n",
       "      <th>Price_rice_ton_infl</th>\n",
       "      <th>Price_corn_ton_infl</th>\n",
       "    </tr>\n",
       "  </thead>\n",
       "  <tbody>\n",
       "    <tr>\n",
       "      <th>0</th>\n",
       "      <td>1992</td>\n",
       "      <td>Feb</td>\n",
       "      <td>170.12</td>\n",
       "      <td>278.25</td>\n",
       "      <td>113.62</td>\n",
       "      <td>89.59</td>\n",
       "      <td>322.53</td>\n",
       "      <td>527.53</td>\n",
       "      <td>215.41</td>\n",
       "    </tr>\n",
       "    <tr>\n",
       "      <th>1</th>\n",
       "      <td>1992</td>\n",
       "      <td>Mar</td>\n",
       "      <td>161.44</td>\n",
       "      <td>277.20</td>\n",
       "      <td>117.00</td>\n",
       "      <td>89.59</td>\n",
       "      <td>306.07</td>\n",
       "      <td>525.54</td>\n",
       "      <td>221.82</td>\n",
       "    </tr>\n",
       "    <tr>\n",
       "      <th>2</th>\n",
       "      <td>1992</td>\n",
       "      <td>Apr</td>\n",
       "      <td>153.07</td>\n",
       "      <td>278.00</td>\n",
       "      <td>108.52</td>\n",
       "      <td>89.59</td>\n",
       "      <td>290.21</td>\n",
       "      <td>527.06</td>\n",
       "      <td>205.74</td>\n",
       "    </tr>\n",
       "    <tr>\n",
       "      <th>3</th>\n",
       "      <td>1992</td>\n",
       "      <td>May</td>\n",
       "      <td>139.72</td>\n",
       "      <td>274.00</td>\n",
       "      <td>109.64</td>\n",
       "      <td>89.59</td>\n",
       "      <td>264.90</td>\n",
       "      <td>519.48</td>\n",
       "      <td>207.87</td>\n",
       "    </tr>\n",
       "    <tr>\n",
       "      <th>4</th>\n",
       "      <td>1992</td>\n",
       "      <td>Jun</td>\n",
       "      <td>140.36</td>\n",
       "      <td>268.80</td>\n",
       "      <td>110.90</td>\n",
       "      <td>89.59</td>\n",
       "      <td>266.11</td>\n",
       "      <td>509.62</td>\n",
       "      <td>210.26</td>\n",
       "    </tr>\n",
       "  </tbody>\n",
       "</table>\n",
       "</div>"
      ],
      "text/plain": [
       "   Year Month  Price_wheat_ton  Price_rice_ton  Price_corn_ton  \\\n",
       "0  1992   Feb           170.12          278.25          113.62   \n",
       "1  1992   Mar           161.44          277.20          117.00   \n",
       "2  1992   Apr           153.07          278.00          108.52   \n",
       "3  1992   May           139.72          274.00          109.64   \n",
       "4  1992   Jun           140.36          268.80          110.90   \n",
       "\n",
       "   Inflation_rate  Price_wheat_ton_infl  Price_rice_ton_infl  \\\n",
       "0           89.59                322.53               527.53   \n",
       "1           89.59                306.07               525.54   \n",
       "2           89.59                290.21               527.06   \n",
       "3           89.59                264.90               519.48   \n",
       "4           89.59                266.11               509.62   \n",
       "\n",
       "   Price_corn_ton_infl  \n",
       "0               215.41  \n",
       "1               221.82  \n",
       "2               205.74  \n",
       "3               207.87  \n",
       "4               210.26  "
      ]
     },
     "execution_count": 2,
     "metadata": {},
     "output_type": "execute_result"
    }
   ],
   "source": [
    "path='/kaggle/input/-cerial-prices-changes-within-last-30-years/rice_wheat_corn_prices.csv'\n",
    "df=pd.read_csv(path)\n",
    "df.head()"
   ]
  },
  {
   "cell_type": "markdown",
   "id": "3d5c7360",
   "metadata": {
    "papermill": {
     "duration": 0.011403,
     "end_time": "2023-08-10T13:58:41.458303",
     "exception": false,
     "start_time": "2023-08-10T13:58:41.446900",
     "status": "completed"
    },
    "tags": []
   },
   "source": [
    "# data cleaning and preparing"
   ]
  },
  {
   "cell_type": "markdown",
   "id": "1717013e",
   "metadata": {
    "papermill": {
     "duration": 0.01155,
     "end_time": "2023-08-10T13:58:41.481517",
     "exception": false,
     "start_time": "2023-08-10T13:58:41.469967",
     "status": "completed"
    },
    "tags": []
   },
   "source": [
    "# check of white spaces in columns name"
   ]
  },
  {
   "cell_type": "code",
   "execution_count": 3,
   "id": "ed65b1f9",
   "metadata": {
    "execution": {
     "iopub.execute_input": "2023-08-10T13:58:41.507209Z",
     "iopub.status.busy": "2023-08-10T13:58:41.506702Z",
     "iopub.status.idle": "2023-08-10T13:58:41.514255Z",
     "shell.execute_reply": "2023-08-10T13:58:41.512983Z"
    },
    "papermill": {
     "duration": 0.022981,
     "end_time": "2023-08-10T13:58:41.516338",
     "exception": false,
     "start_time": "2023-08-10T13:58:41.493357",
     "status": "completed"
    },
    "tags": []
   },
   "outputs": [
    {
     "data": {
      "text/plain": [
       "Index(['Year', 'Month', 'Price_wheat_ton', 'Price_rice_ton', 'Price_corn_ton',\n",
       "       'Inflation_rate', 'Price_wheat_ton_infl', 'Price_rice_ton_infl',\n",
       "       'Price_corn_ton_infl'],\n",
       "      dtype='object')"
      ]
     },
     "execution_count": 3,
     "metadata": {},
     "output_type": "execute_result"
    }
   ],
   "source": [
    "df.columns"
   ]
  },
  {
   "cell_type": "code",
   "execution_count": 4,
   "id": "e0c46004",
   "metadata": {
    "execution": {
     "iopub.execute_input": "2023-08-10T13:58:41.542751Z",
     "iopub.status.busy": "2023-08-10T13:58:41.541705Z",
     "iopub.status.idle": "2023-08-10T13:58:41.549804Z",
     "shell.execute_reply": "2023-08-10T13:58:41.548831Z"
    },
    "papermill": {
     "duration": 0.023255,
     "end_time": "2023-08-10T13:58:41.551801",
     "exception": false,
     "start_time": "2023-08-10T13:58:41.528546",
     "status": "completed"
    },
    "tags": []
   },
   "outputs": [
    {
     "data": {
      "text/plain": [
       "Index(['Year', 'Month', 'Price_wheat_ton', 'Price_rice_ton', 'Price_corn_ton',\n",
       "       'Inflation_rate', 'Price_wheat_ton_infl', 'Price_rice_ton_infl',\n",
       "       'Price_corn_ton_infl'],\n",
       "      dtype='object')"
      ]
     },
     "execution_count": 4,
     "metadata": {},
     "output_type": "execute_result"
    }
   ],
   "source": [
    "df.columns=df.columns.str.strip()\n",
    "df.columns"
   ]
  },
  {
   "cell_type": "markdown",
   "id": "18f096f9",
   "metadata": {
    "papermill": {
     "duration": 0.011671,
     "end_time": "2023-08-10T13:58:41.575619",
     "exception": false,
     "start_time": "2023-08-10T13:58:41.563948",
     "status": "completed"
    },
    "tags": []
   },
   "source": [
    "# check of data types"
   ]
  },
  {
   "cell_type": "code",
   "execution_count": 5,
   "id": "9a573756",
   "metadata": {
    "execution": {
     "iopub.execute_input": "2023-08-10T13:58:41.601693Z",
     "iopub.status.busy": "2023-08-10T13:58:41.601338Z",
     "iopub.status.idle": "2023-08-10T13:58:41.609268Z",
     "shell.execute_reply": "2023-08-10T13:58:41.608175Z"
    },
    "papermill": {
     "duration": 0.023686,
     "end_time": "2023-08-10T13:58:41.611353",
     "exception": false,
     "start_time": "2023-08-10T13:58:41.587667",
     "status": "completed"
    },
    "tags": []
   },
   "outputs": [
    {
     "data": {
      "text/plain": [
       "Year                      int64\n",
       "Month                    object\n",
       "Price_wheat_ton         float64\n",
       "Price_rice_ton          float64\n",
       "Price_corn_ton          float64\n",
       "Inflation_rate          float64\n",
       "Price_wheat_ton_infl    float64\n",
       "Price_rice_ton_infl     float64\n",
       "Price_corn_ton_infl     float64\n",
       "dtype: object"
      ]
     },
     "execution_count": 5,
     "metadata": {},
     "output_type": "execute_result"
    }
   ],
   "source": [
    "df.dtypes"
   ]
  },
  {
   "cell_type": "markdown",
   "id": "14a4819b",
   "metadata": {
    "papermill": {
     "duration": 0.011713,
     "end_time": "2023-08-10T13:58:41.635254",
     "exception": false,
     "start_time": "2023-08-10T13:58:41.623541",
     "status": "completed"
    },
    "tags": []
   },
   "source": [
    "**change the 'Month' column to int later in analyzing process**"
   ]
  },
  {
   "cell_type": "markdown",
   "id": "85de723b",
   "metadata": {
    "papermill": {
     "duration": 0.011539,
     "end_time": "2023-08-10T13:58:41.658733",
     "exception": false,
     "start_time": "2023-08-10T13:58:41.647194",
     "status": "completed"
    },
    "tags": []
   },
   "source": [
    "# check null values"
   ]
  },
  {
   "cell_type": "code",
   "execution_count": 6,
   "id": "9e6e4bca",
   "metadata": {
    "execution": {
     "iopub.execute_input": "2023-08-10T13:58:41.684707Z",
     "iopub.status.busy": "2023-08-10T13:58:41.684053Z",
     "iopub.status.idle": "2023-08-10T13:58:41.698127Z",
     "shell.execute_reply": "2023-08-10T13:58:41.696912Z"
    },
    "papermill": {
     "duration": 0.029611,
     "end_time": "2023-08-10T13:58:41.700470",
     "exception": false,
     "start_time": "2023-08-10T13:58:41.670859",
     "status": "completed"
    },
    "tags": []
   },
   "outputs": [
    {
     "data": {
      "text/plain": [
       "Year                    0\n",
       "Month                   0\n",
       "Price_wheat_ton         1\n",
       "Price_rice_ton          0\n",
       "Price_corn_ton          0\n",
       "Inflation_rate          1\n",
       "Price_wheat_ton_infl    1\n",
       "Price_rice_ton_infl     1\n",
       "Price_corn_ton_infl     1\n",
       "dtype: int64"
      ]
     },
     "execution_count": 6,
     "metadata": {},
     "output_type": "execute_result"
    }
   ],
   "source": [
    "df.isnull().sum()"
   ]
  },
  {
   "cell_type": "code",
   "execution_count": 7,
   "id": "b499943b",
   "metadata": {
    "execution": {
     "iopub.execute_input": "2023-08-10T13:58:41.727676Z",
     "iopub.status.busy": "2023-08-10T13:58:41.727299Z",
     "iopub.status.idle": "2023-08-10T13:58:41.731713Z",
     "shell.execute_reply": "2023-08-10T13:58:41.730651Z"
    },
    "papermill": {
     "duration": 0.020703,
     "end_time": "2023-08-10T13:58:41.733990",
     "exception": false,
     "start_time": "2023-08-10T13:58:41.713287",
     "status": "completed"
    },
    "tags": []
   },
   "outputs": [],
   "source": [
    "# try to find missing data by another valid one"
   ]
  },
  {
   "cell_type": "code",
   "execution_count": 8,
   "id": "d4f496e7",
   "metadata": {
    "execution": {
     "iopub.execute_input": "2023-08-10T13:58:41.761554Z",
     "iopub.status.busy": "2023-08-10T13:58:41.761168Z",
     "iopub.status.idle": "2023-08-10T13:58:41.780045Z",
     "shell.execute_reply": "2023-08-10T13:58:41.779179Z"
    },
    "papermill": {
     "duration": 0.034521,
     "end_time": "2023-08-10T13:58:41.782218",
     "exception": false,
     "start_time": "2023-08-10T13:58:41.747697",
     "status": "completed"
    },
    "tags": []
   },
   "outputs": [
    {
     "data": {
      "text/html": [
       "<div>\n",
       "<style scoped>\n",
       "    .dataframe tbody tr th:only-of-type {\n",
       "        vertical-align: middle;\n",
       "    }\n",
       "\n",
       "    .dataframe tbody tr th {\n",
       "        vertical-align: top;\n",
       "    }\n",
       "\n",
       "    .dataframe thead th {\n",
       "        text-align: right;\n",
       "    }\n",
       "</style>\n",
       "<table border=\"1\" class=\"dataframe\">\n",
       "  <thead>\n",
       "    <tr style=\"text-align: right;\">\n",
       "      <th></th>\n",
       "      <th>Year</th>\n",
       "      <th>Month</th>\n",
       "      <th>Price_wheat_ton</th>\n",
       "      <th>Price_rice_ton</th>\n",
       "      <th>Price_corn_ton</th>\n",
       "      <th>Inflation_rate</th>\n",
       "      <th>Price_wheat_ton_infl</th>\n",
       "      <th>Price_rice_ton_infl</th>\n",
       "      <th>Price_corn_ton_infl</th>\n",
       "    </tr>\n",
       "  </thead>\n",
       "  <tbody>\n",
       "    <tr>\n",
       "      <th>359</th>\n",
       "      <td>2022</td>\n",
       "      <td>Jan</td>\n",
       "      <td>NaN</td>\n",
       "      <td>427.0</td>\n",
       "      <td>276.62</td>\n",
       "      <td>NaN</td>\n",
       "      <td>NaN</td>\n",
       "      <td>NaN</td>\n",
       "      <td>NaN</td>\n",
       "    </tr>\n",
       "  </tbody>\n",
       "</table>\n",
       "</div>"
      ],
      "text/plain": [
       "     Year Month  Price_wheat_ton  Price_rice_ton  Price_corn_ton  \\\n",
       "359  2022   Jan              NaN           427.0          276.62   \n",
       "\n",
       "     Inflation_rate  Price_wheat_ton_infl  Price_rice_ton_infl  \\\n",
       "359             NaN                   NaN                  NaN   \n",
       "\n",
       "     Price_corn_ton_infl  \n",
       "359                  NaN  "
      ]
     },
     "execution_count": 8,
     "metadata": {},
     "output_type": "execute_result"
    }
   ],
   "source": [
    "df[df['Price_wheat_ton'].isnull()]"
   ]
  },
  {
   "cell_type": "code",
   "execution_count": 9,
   "id": "6429d731",
   "metadata": {
    "execution": {
     "iopub.execute_input": "2023-08-10T13:58:41.808987Z",
     "iopub.status.busy": "2023-08-10T13:58:41.808372Z",
     "iopub.status.idle": "2023-08-10T13:58:41.822008Z",
     "shell.execute_reply": "2023-08-10T13:58:41.821193Z"
    },
    "papermill": {
     "duration": 0.029489,
     "end_time": "2023-08-10T13:58:41.824233",
     "exception": false,
     "start_time": "2023-08-10T13:58:41.794744",
     "status": "completed"
    },
    "tags": []
   },
   "outputs": [
    {
     "data": {
      "text/html": [
       "<div>\n",
       "<style scoped>\n",
       "    .dataframe tbody tr th:only-of-type {\n",
       "        vertical-align: middle;\n",
       "    }\n",
       "\n",
       "    .dataframe tbody tr th {\n",
       "        vertical-align: top;\n",
       "    }\n",
       "\n",
       "    .dataframe thead th {\n",
       "        text-align: right;\n",
       "    }\n",
       "</style>\n",
       "<table border=\"1\" class=\"dataframe\">\n",
       "  <thead>\n",
       "    <tr style=\"text-align: right;\">\n",
       "      <th></th>\n",
       "      <th>Year</th>\n",
       "      <th>Month</th>\n",
       "      <th>Price_wheat_ton</th>\n",
       "      <th>Price_rice_ton</th>\n",
       "      <th>Price_corn_ton</th>\n",
       "      <th>Inflation_rate</th>\n",
       "      <th>Price_wheat_ton_infl</th>\n",
       "      <th>Price_rice_ton_infl</th>\n",
       "      <th>Price_corn_ton_infl</th>\n",
       "    </tr>\n",
       "  </thead>\n",
       "  <tbody>\n",
       "    <tr>\n",
       "      <th>359</th>\n",
       "      <td>2022</td>\n",
       "      <td>Jan</td>\n",
       "      <td>NaN</td>\n",
       "      <td>427.0</td>\n",
       "      <td>276.62</td>\n",
       "      <td>NaN</td>\n",
       "      <td>NaN</td>\n",
       "      <td>NaN</td>\n",
       "      <td>NaN</td>\n",
       "    </tr>\n",
       "  </tbody>\n",
       "</table>\n",
       "</div>"
      ],
      "text/plain": [
       "     Year Month  Price_wheat_ton  Price_rice_ton  Price_corn_ton  \\\n",
       "359  2022   Jan              NaN           427.0          276.62   \n",
       "\n",
       "     Inflation_rate  Price_wheat_ton_infl  Price_rice_ton_infl  \\\n",
       "359             NaN                   NaN                  NaN   \n",
       "\n",
       "     Price_corn_ton_infl  \n",
       "359                  NaN  "
      ]
     },
     "execution_count": 9,
     "metadata": {},
     "output_type": "execute_result"
    }
   ],
   "source": [
    "df[(df['Year']==2022) & (df['Month']=='Jan')]"
   ]
  },
  {
   "cell_type": "code",
   "execution_count": 10,
   "id": "3892b231",
   "metadata": {
    "execution": {
     "iopub.execute_input": "2023-08-10T13:58:41.852423Z",
     "iopub.status.busy": "2023-08-10T13:58:41.852041Z",
     "iopub.status.idle": "2023-08-10T13:58:41.866098Z",
     "shell.execute_reply": "2023-08-10T13:58:41.865080Z"
    },
    "papermill": {
     "duration": 0.030783,
     "end_time": "2023-08-10T13:58:41.868116",
     "exception": false,
     "start_time": "2023-08-10T13:58:41.837333",
     "status": "completed"
    },
    "tags": []
   },
   "outputs": [
    {
     "data": {
      "text/html": [
       "<div>\n",
       "<style scoped>\n",
       "    .dataframe tbody tr th:only-of-type {\n",
       "        vertical-align: middle;\n",
       "    }\n",
       "\n",
       "    .dataframe tbody tr th {\n",
       "        vertical-align: top;\n",
       "    }\n",
       "\n",
       "    .dataframe thead th {\n",
       "        text-align: right;\n",
       "    }\n",
       "</style>\n",
       "<table border=\"1\" class=\"dataframe\">\n",
       "  <thead>\n",
       "    <tr style=\"text-align: right;\">\n",
       "      <th></th>\n",
       "      <th>Year</th>\n",
       "      <th>Month</th>\n",
       "      <th>Price_wheat_ton</th>\n",
       "      <th>Price_rice_ton</th>\n",
       "      <th>Price_corn_ton</th>\n",
       "      <th>Inflation_rate</th>\n",
       "      <th>Price_wheat_ton_infl</th>\n",
       "      <th>Price_rice_ton_infl</th>\n",
       "      <th>Price_corn_ton_infl</th>\n",
       "    </tr>\n",
       "  </thead>\n",
       "  <tbody>\n",
       "    <tr>\n",
       "      <th>359</th>\n",
       "      <td>2022</td>\n",
       "      <td>Jan</td>\n",
       "      <td>NaN</td>\n",
       "      <td>427.0</td>\n",
       "      <td>276.62</td>\n",
       "      <td>NaN</td>\n",
       "      <td>NaN</td>\n",
       "      <td>NaN</td>\n",
       "      <td>NaN</td>\n",
       "    </tr>\n",
       "  </tbody>\n",
       "</table>\n",
       "</div>"
      ],
      "text/plain": [
       "     Year Month  Price_wheat_ton  Price_rice_ton  Price_corn_ton  \\\n",
       "359  2022   Jan              NaN           427.0          276.62   \n",
       "\n",
       "     Inflation_rate  Price_wheat_ton_infl  Price_rice_ton_infl  \\\n",
       "359             NaN                   NaN                  NaN   \n",
       "\n",
       "     Price_corn_ton_infl  \n",
       "359                  NaN  "
      ]
     },
     "execution_count": 10,
     "metadata": {},
     "output_type": "execute_result"
    }
   ],
   "source": [
    "df[df['Inflation_rate'].isnull()]"
   ]
  },
  {
   "cell_type": "code",
   "execution_count": 11,
   "id": "6239f65a",
   "metadata": {
    "execution": {
     "iopub.execute_input": "2023-08-10T13:58:41.896095Z",
     "iopub.status.busy": "2023-08-10T13:58:41.895720Z",
     "iopub.status.idle": "2023-08-10T13:58:41.899831Z",
     "shell.execute_reply": "2023-08-10T13:58:41.898788Z"
    },
    "papermill": {
     "duration": 0.020391,
     "end_time": "2023-08-10T13:58:41.901774",
     "exception": false,
     "start_time": "2023-08-10T13:58:41.881383",
     "status": "completed"
    },
    "tags": []
   },
   "outputs": [],
   "source": [
    "# drop null values"
   ]
  },
  {
   "cell_type": "code",
   "execution_count": 12,
   "id": "2382617d",
   "metadata": {
    "execution": {
     "iopub.execute_input": "2023-08-10T13:58:41.929325Z",
     "iopub.status.busy": "2023-08-10T13:58:41.928937Z",
     "iopub.status.idle": "2023-08-10T13:58:41.934806Z",
     "shell.execute_reply": "2023-08-10T13:58:41.934006Z"
    },
    "papermill": {
     "duration": 0.021751,
     "end_time": "2023-08-10T13:58:41.936754",
     "exception": false,
     "start_time": "2023-08-10T13:58:41.915003",
     "status": "completed"
    },
    "tags": []
   },
   "outputs": [],
   "source": [
    "df.dropna(axis=0,inplace=True)"
   ]
  },
  {
   "cell_type": "code",
   "execution_count": 13,
   "id": "963d54bc",
   "metadata": {
    "execution": {
     "iopub.execute_input": "2023-08-10T13:58:41.965146Z",
     "iopub.status.busy": "2023-08-10T13:58:41.964421Z",
     "iopub.status.idle": "2023-08-10T13:58:41.972764Z",
     "shell.execute_reply": "2023-08-10T13:58:41.971873Z"
    },
    "papermill": {
     "duration": 0.024835,
     "end_time": "2023-08-10T13:58:41.974864",
     "exception": false,
     "start_time": "2023-08-10T13:58:41.950029",
     "status": "completed"
    },
    "tags": []
   },
   "outputs": [
    {
     "data": {
      "text/plain": [
       "Year                    0\n",
       "Month                   0\n",
       "Price_wheat_ton         0\n",
       "Price_rice_ton          0\n",
       "Price_corn_ton          0\n",
       "Inflation_rate          0\n",
       "Price_wheat_ton_infl    0\n",
       "Price_rice_ton_infl     0\n",
       "Price_corn_ton_infl     0\n",
       "dtype: int64"
      ]
     },
     "execution_count": 13,
     "metadata": {},
     "output_type": "execute_result"
    }
   ],
   "source": [
    "df.isnull().sum()"
   ]
  },
  {
   "cell_type": "markdown",
   "id": "55c08afd",
   "metadata": {
    "papermill": {
     "duration": 0.012575,
     "end_time": "2023-08-10T13:58:42.000565",
     "exception": false,
     "start_time": "2023-08-10T13:58:41.987990",
     "status": "completed"
    },
    "tags": []
   },
   "source": [
    "# check duplicated values"
   ]
  },
  {
   "cell_type": "code",
   "execution_count": 14,
   "id": "10c5b104",
   "metadata": {
    "execution": {
     "iopub.execute_input": "2023-08-10T13:58:42.028211Z",
     "iopub.status.busy": "2023-08-10T13:58:42.027766Z",
     "iopub.status.idle": "2023-08-10T13:58:42.045587Z",
     "shell.execute_reply": "2023-08-10T13:58:42.044327Z"
    },
    "papermill": {
     "duration": 0.034473,
     "end_time": "2023-08-10T13:58:42.048025",
     "exception": false,
     "start_time": "2023-08-10T13:58:42.013552",
     "status": "completed"
    },
    "tags": []
   },
   "outputs": [
    {
     "data": {
      "text/plain": [
       "0"
      ]
     },
     "execution_count": 14,
     "metadata": {},
     "output_type": "execute_result"
    }
   ],
   "source": [
    "df.duplicated().sum()"
   ]
  },
  {
   "cell_type": "markdown",
   "id": "3faeaaee",
   "metadata": {
    "papermill": {
     "duration": 0.012761,
     "end_time": "2023-08-10T13:58:42.074160",
     "exception": false,
     "start_time": "2023-08-10T13:58:42.061399",
     "status": "completed"
    },
    "tags": []
   },
   "source": [
    "# check outliers"
   ]
  },
  {
   "cell_type": "code",
   "execution_count": 15,
   "id": "0c5ea216",
   "metadata": {
    "execution": {
     "iopub.execute_input": "2023-08-10T13:58:42.102742Z",
     "iopub.status.busy": "2023-08-10T13:58:42.101846Z",
     "iopub.status.idle": "2023-08-10T13:58:42.138893Z",
     "shell.execute_reply": "2023-08-10T13:58:42.137758Z"
    },
    "papermill": {
     "duration": 0.053953,
     "end_time": "2023-08-10T13:58:42.141350",
     "exception": false,
     "start_time": "2023-08-10T13:58:42.087397",
     "status": "completed"
    },
    "tags": []
   },
   "outputs": [
    {
     "data": {
      "text/html": [
       "<div>\n",
       "<style scoped>\n",
       "    .dataframe tbody tr th:only-of-type {\n",
       "        vertical-align: middle;\n",
       "    }\n",
       "\n",
       "    .dataframe tbody tr th {\n",
       "        vertical-align: top;\n",
       "    }\n",
       "\n",
       "    .dataframe thead th {\n",
       "        text-align: right;\n",
       "    }\n",
       "</style>\n",
       "<table border=\"1\" class=\"dataframe\">\n",
       "  <thead>\n",
       "    <tr style=\"text-align: right;\">\n",
       "      <th></th>\n",
       "      <th>Year</th>\n",
       "      <th>Price_wheat_ton</th>\n",
       "      <th>Price_rice_ton</th>\n",
       "      <th>Price_corn_ton</th>\n",
       "      <th>Inflation_rate</th>\n",
       "      <th>Price_wheat_ton_infl</th>\n",
       "      <th>Price_rice_ton_infl</th>\n",
       "      <th>Price_corn_ton_infl</th>\n",
       "    </tr>\n",
       "  </thead>\n",
       "  <tbody>\n",
       "    <tr>\n",
       "      <th>count</th>\n",
       "      <td>359.000000</td>\n",
       "      <td>359.000000</td>\n",
       "      <td>359.000000</td>\n",
       "      <td>359.000000</td>\n",
       "      <td>359.000000</td>\n",
       "      <td>359.000000</td>\n",
       "      <td>359.000000</td>\n",
       "      <td>359.000000</td>\n",
       "    </tr>\n",
       "    <tr>\n",
       "      <th>mean</th>\n",
       "      <td>2006.540390</td>\n",
       "      <td>185.302869</td>\n",
       "      <td>363.930418</td>\n",
       "      <td>155.165376</td>\n",
       "      <td>36.316685</td>\n",
       "      <td>241.726769</td>\n",
       "      <td>474.038384</td>\n",
       "      <td>201.211086</td>\n",
       "    </tr>\n",
       "    <tr>\n",
       "      <th>std</th>\n",
       "      <td>8.645592</td>\n",
       "      <td>64.985279</td>\n",
       "      <td>131.508817</td>\n",
       "      <td>62.370286</td>\n",
       "      <td>26.605378</td>\n",
       "      <td>65.234300</td>\n",
       "      <td>133.776144</td>\n",
       "      <td>61.727752</td>\n",
       "    </tr>\n",
       "    <tr>\n",
       "      <th>min</th>\n",
       "      <td>1992.000000</td>\n",
       "      <td>85.300000</td>\n",
       "      <td>163.750000</td>\n",
       "      <td>75.270000</td>\n",
       "      <td>-1.290000</td>\n",
       "      <td>136.220000</td>\n",
       "      <td>246.020000</td>\n",
       "      <td>116.280000</td>\n",
       "    </tr>\n",
       "    <tr>\n",
       "      <th>25%</th>\n",
       "      <td>1999.000000</td>\n",
       "      <td>137.315000</td>\n",
       "      <td>261.250000</td>\n",
       "      <td>104.155000</td>\n",
       "      <td>12.370000</td>\n",
       "      <td>193.010000</td>\n",
       "      <td>397.500000</td>\n",
       "      <td>159.015000</td>\n",
       "    </tr>\n",
       "    <tr>\n",
       "      <th>50%</th>\n",
       "      <td>2007.000000</td>\n",
       "      <td>175.270000</td>\n",
       "      <td>343.750000</td>\n",
       "      <td>149.340000</td>\n",
       "      <td>28.300000</td>\n",
       "      <td>228.310000</td>\n",
       "      <td>455.540000</td>\n",
       "      <td>186.020000</td>\n",
       "    </tr>\n",
       "    <tr>\n",
       "      <th>75%</th>\n",
       "      <td>2014.000000</td>\n",
       "      <td>220.260000</td>\n",
       "      <td>444.500000</td>\n",
       "      <td>176.010000</td>\n",
       "      <td>59.700000</td>\n",
       "      <td>275.835000</td>\n",
       "      <td>540.180000</td>\n",
       "      <td>220.940000</td>\n",
       "    </tr>\n",
       "    <tr>\n",
       "      <th>max</th>\n",
       "      <td>2021.000000</td>\n",
       "      <td>419.610000</td>\n",
       "      <td>907.000000</td>\n",
       "      <td>333.050000</td>\n",
       "      <td>89.590000</td>\n",
       "      <td>518.470000</td>\n",
       "      <td>1120.690000</td>\n",
       "      <td>385.910000</td>\n",
       "    </tr>\n",
       "  </tbody>\n",
       "</table>\n",
       "</div>"
      ],
      "text/plain": [
       "              Year  Price_wheat_ton  Price_rice_ton  Price_corn_ton  \\\n",
       "count   359.000000       359.000000      359.000000      359.000000   \n",
       "mean   2006.540390       185.302869      363.930418      155.165376   \n",
       "std       8.645592        64.985279      131.508817       62.370286   \n",
       "min    1992.000000        85.300000      163.750000       75.270000   \n",
       "25%    1999.000000       137.315000      261.250000      104.155000   \n",
       "50%    2007.000000       175.270000      343.750000      149.340000   \n",
       "75%    2014.000000       220.260000      444.500000      176.010000   \n",
       "max    2021.000000       419.610000      907.000000      333.050000   \n",
       "\n",
       "       Inflation_rate  Price_wheat_ton_infl  Price_rice_ton_infl  \\\n",
       "count      359.000000            359.000000           359.000000   \n",
       "mean        36.316685            241.726769           474.038384   \n",
       "std         26.605378             65.234300           133.776144   \n",
       "min         -1.290000            136.220000           246.020000   \n",
       "25%         12.370000            193.010000           397.500000   \n",
       "50%         28.300000            228.310000           455.540000   \n",
       "75%         59.700000            275.835000           540.180000   \n",
       "max         89.590000            518.470000          1120.690000   \n",
       "\n",
       "       Price_corn_ton_infl  \n",
       "count           359.000000  \n",
       "mean            201.211086  \n",
       "std              61.727752  \n",
       "min             116.280000  \n",
       "25%             159.015000  \n",
       "50%             186.020000  \n",
       "75%             220.940000  \n",
       "max             385.910000  "
      ]
     },
     "execution_count": 15,
     "metadata": {},
     "output_type": "execute_result"
    }
   ],
   "source": [
    "df.describe()"
   ]
  },
  {
   "cell_type": "code",
   "execution_count": 16,
   "id": "036897d0",
   "metadata": {
    "execution": {
     "iopub.execute_input": "2023-08-10T13:58:42.169986Z",
     "iopub.status.busy": "2023-08-10T13:58:42.169603Z",
     "iopub.status.idle": "2023-08-10T13:58:42.176507Z",
     "shell.execute_reply": "2023-08-10T13:58:42.175526Z"
    },
    "papermill": {
     "duration": 0.023722,
     "end_time": "2023-08-10T13:58:42.178570",
     "exception": false,
     "start_time": "2023-08-10T13:58:42.154848",
     "status": "completed"
    },
    "tags": []
   },
   "outputs": [
    {
     "data": {
      "text/plain": [
       "Index(['Year', 'Month', 'Price_wheat_ton', 'Price_rice_ton', 'Price_corn_ton',\n",
       "       'Inflation_rate', 'Price_wheat_ton_infl', 'Price_rice_ton_infl',\n",
       "       'Price_corn_ton_infl'],\n",
       "      dtype='object')"
      ]
     },
     "execution_count": 16,
     "metadata": {},
     "output_type": "execute_result"
    }
   ],
   "source": [
    "df.columns"
   ]
  },
  {
   "cell_type": "code",
   "execution_count": 17,
   "id": "79ada5cb",
   "metadata": {
    "execution": {
     "iopub.execute_input": "2023-08-10T13:58:42.207435Z",
     "iopub.status.busy": "2023-08-10T13:58:42.207043Z",
     "iopub.status.idle": "2023-08-10T13:58:42.224189Z",
     "shell.execute_reply": "2023-08-10T13:58:42.223043Z"
    },
    "papermill": {
     "duration": 0.034235,
     "end_time": "2023-08-10T13:58:42.226322",
     "exception": false,
     "start_time": "2023-08-10T13:58:42.192087",
     "status": "completed"
    },
    "tags": []
   },
   "outputs": [
    {
     "data": {
      "text/html": [
       "<div>\n",
       "<style scoped>\n",
       "    .dataframe tbody tr th:only-of-type {\n",
       "        vertical-align: middle;\n",
       "    }\n",
       "\n",
       "    .dataframe tbody tr th {\n",
       "        vertical-align: top;\n",
       "    }\n",
       "\n",
       "    .dataframe thead th {\n",
       "        text-align: right;\n",
       "    }\n",
       "</style>\n",
       "<table border=\"1\" class=\"dataframe\">\n",
       "  <thead>\n",
       "    <tr style=\"text-align: right;\">\n",
       "      <th></th>\n",
       "      <th>Year</th>\n",
       "      <th>Price_wheat_ton</th>\n",
       "      <th>Price_rice_ton</th>\n",
       "      <th>Price_corn_ton</th>\n",
       "      <th>Inflation_rate</th>\n",
       "      <th>Price_wheat_ton_infl</th>\n",
       "      <th>Price_rice_ton_infl</th>\n",
       "      <th>Price_corn_ton_infl</th>\n",
       "    </tr>\n",
       "  </thead>\n",
       "  <tbody>\n",
       "    <tr>\n",
       "      <th>0</th>\n",
       "      <td>1992</td>\n",
       "      <td>170.12</td>\n",
       "      <td>278.25</td>\n",
       "      <td>113.62</td>\n",
       "      <td>89.59</td>\n",
       "      <td>322.53</td>\n",
       "      <td>527.53</td>\n",
       "      <td>215.41</td>\n",
       "    </tr>\n",
       "    <tr>\n",
       "      <th>1</th>\n",
       "      <td>1992</td>\n",
       "      <td>161.44</td>\n",
       "      <td>277.20</td>\n",
       "      <td>117.00</td>\n",
       "      <td>89.59</td>\n",
       "      <td>306.07</td>\n",
       "      <td>525.54</td>\n",
       "      <td>221.82</td>\n",
       "    </tr>\n",
       "    <tr>\n",
       "      <th>2</th>\n",
       "      <td>1992</td>\n",
       "      <td>153.07</td>\n",
       "      <td>278.00</td>\n",
       "      <td>108.52</td>\n",
       "      <td>89.59</td>\n",
       "      <td>290.21</td>\n",
       "      <td>527.06</td>\n",
       "      <td>205.74</td>\n",
       "    </tr>\n",
       "    <tr>\n",
       "      <th>3</th>\n",
       "      <td>1992</td>\n",
       "      <td>139.72</td>\n",
       "      <td>274.00</td>\n",
       "      <td>109.64</td>\n",
       "      <td>89.59</td>\n",
       "      <td>264.90</td>\n",
       "      <td>519.48</td>\n",
       "      <td>207.87</td>\n",
       "    </tr>\n",
       "    <tr>\n",
       "      <th>4</th>\n",
       "      <td>1992</td>\n",
       "      <td>140.36</td>\n",
       "      <td>268.80</td>\n",
       "      <td>110.90</td>\n",
       "      <td>89.59</td>\n",
       "      <td>266.11</td>\n",
       "      <td>509.62</td>\n",
       "      <td>210.26</td>\n",
       "    </tr>\n",
       "  </tbody>\n",
       "</table>\n",
       "</div>"
      ],
      "text/plain": [
       "   Year  Price_wheat_ton  Price_rice_ton  Price_corn_ton  Inflation_rate  \\\n",
       "0  1992           170.12          278.25          113.62           89.59   \n",
       "1  1992           161.44          277.20          117.00           89.59   \n",
       "2  1992           153.07          278.00          108.52           89.59   \n",
       "3  1992           139.72          274.00          109.64           89.59   \n",
       "4  1992           140.36          268.80          110.90           89.59   \n",
       "\n",
       "   Price_wheat_ton_infl  Price_rice_ton_infl  Price_corn_ton_infl  \n",
       "0                322.53               527.53               215.41  \n",
       "1                306.07               525.54               221.82  \n",
       "2                290.21               527.06               205.74  \n",
       "3                264.90               519.48               207.87  \n",
       "4                266.11               509.62               210.26  "
      ]
     },
     "execution_count": 17,
     "metadata": {},
     "output_type": "execute_result"
    }
   ],
   "source": [
    "numerical_df=df.drop(columns='Month',axis=1)\n",
    "numerical_df.head()"
   ]
  },
  {
   "cell_type": "code",
   "execution_count": 18,
   "id": "a0e690fa",
   "metadata": {
    "execution": {
     "iopub.execute_input": "2023-08-10T13:58:42.255966Z",
     "iopub.status.busy": "2023-08-10T13:58:42.255558Z",
     "iopub.status.idle": "2023-08-10T13:58:42.687465Z",
     "shell.execute_reply": "2023-08-10T13:58:42.686247Z"
    },
    "papermill": {
     "duration": 0.449944,
     "end_time": "2023-08-10T13:58:42.689893",
     "exception": false,
     "start_time": "2023-08-10T13:58:42.239949",
     "status": "completed"
    },
    "tags": []
   },
   "outputs": [
    {
     "data": {
      "text/html": [
       "        <script type=\"text/javascript\">\n",
       "        window.PlotlyConfig = {MathJaxConfig: 'local'};\n",
       "        if (window.MathJax && window.MathJax.Hub && window.MathJax.Hub.Config) {window.MathJax.Hub.Config({SVG: {font: \"STIX-Web\"}});}\n",
       "        if (typeof require !== 'undefined') {\n",
       "        require.undef(\"plotly\");\n",
       "        requirejs.config({\n",
       "            paths: {\n",
       "                'plotly': ['https://cdn.plot.ly/plotly-2.24.1.min']\n",
       "            }\n",
       "        });\n",
       "        require(['plotly'], function(Plotly) {\n",
       "            window._Plotly = Plotly;\n",
       "        });\n",
       "        }\n",
       "        </script>\n",
       "        "
      ]
     },
     "metadata": {},
     "output_type": "display_data"
    },
    {
     "data": {
      "text/html": [
       "<div>                            <div id=\"1d9afbcc-510e-4467-afe1-f88a16d6340d\" class=\"plotly-graph-div\" style=\"height:525px; width:100%;\"></div>            <script type=\"text/javascript\">                require([\"plotly\"], function(Plotly) {                    window.PLOTLYENV=window.PLOTLYENV || {};                                    if (document.getElementById(\"1d9afbcc-510e-4467-afe1-f88a16d6340d\")) {                    Plotly.newPlot(                        \"1d9afbcc-510e-4467-afe1-f88a16d6340d\",                        [{\"boxpoints\":\"suspectedoutliers\",\"name\":\"Year\",\"y\":[1992,1992,1992,1992,1992,1992,1992,1992,1992,1992,1992,1993,1993,1993,1993,1993,1993,1993,1993,1993,1993,1993,1993,1994,1994,1994,1994,1994,1994,1994,1994,1994,1994,1994,1994,1995,1995,1995,1995,1995,1995,1995,1995,1995,1995,1995,1995,1996,1996,1996,1996,1996,1996,1996,1996,1996,1996,1996,1996,1997,1997,1997,1997,1997,1997,1997,1997,1997,1997,1997,1997,1998,1998,1998,1998,1998,1998,1998,1998,1998,1998,1998,1998,1999,1999,1999,1999,1999,1999,1999,1999,1999,1999,1999,1999,2000,2000,2000,2000,2000,2000,2000,2000,2000,2000,2000,2000,2001,2001,2001,2001,2001,2001,2001,2001,2001,2001,2001,2001,2002,2002,2002,2002,2002,2002,2002,2002,2002,2002,2002,2002,2003,2003,2003,2003,2003,2003,2003,2003,2003,2003,2003,2003,2004,2004,2004,2004,2004,2004,2004,2004,2004,2004,2004,2004,2005,2005,2005,2005,2005,2005,2005,2005,2005,2005,2005,2005,2006,2006,2006,2006,2006,2006,2006,2006,2006,2006,2006,2006,2007,2007,2007,2007,2007,2007,2007,2007,2007,2007,2007,2007,2008,2008,2008,2008,2008,2008,2008,2008,2008,2008,2008,2008,2009,2009,2009,2009,2009,2009,2009,2009,2009,2009,2009,2009,2010,2010,2010,2010,2010,2010,2010,2010,2010,2010,2010,2010,2011,2011,2011,2011,2011,2011,2011,2011,2011,2011,2011,2011,2012,2012,2012,2012,2012,2012,2012,2012,2012,2012,2012,2012,2013,2013,2013,2013,2013,2013,2013,2013,2013,2013,2013,2013,2014,2014,2014,2014,2014,2014,2014,2014,2014,2014,2014,2014,2015,2015,2015,2015,2015,2015,2015,2015,2015,2015,2015,2015,2016,2016,2016,2016,2016,2016,2016,2016,2016,2016,2016,2016,2017,2017,2017,2017,2017,2017,2017,2017,2017,2017,2017,2017,2018,2018,2018,2018,2018,2018,2018,2018,2018,2018,2018,2018,2019,2019,2019,2019,2019,2019,2019,2019,2019,2019,2019,2019,2020,2020,2020,2020,2020,2020,2020,2020,2020,2020,2020,2020,2021,2021,2021,2021,2021,2021,2021,2021,2021,2021,2021,2021],\"type\":\"box\",\"xaxis\":\"x\",\"yaxis\":\"y\"},{\"boxpoints\":\"suspectedoutliers\",\"name\":\"Price_wheat_ton\",\"y\":[170.12,161.44,153.07,139.72,140.36,129.93,118.8,131.47,137.42,145.84,146.27,156.92,149.43,145.46,156.34,140.09,112.25,116.77,119.55,115.71,127.87,136.41,140.49,152.71,144.19,133.49,129.98,125.25,120.15,119.51,128.15,142.12,157.38,152.39,157.34,152.99,149.71,143.08,140.68,143.28,153.48,173.36,168.47,185.61,194.04,198.27,205.33,196.98,203.96,205.51,247.52,213.43,180.6,181.08,174.99,169.71,158.44,158.21,158.6,154.01,143.58,153.8,158.62,152.65,131.59,127.78,140.91,143.22,143.65,138.23,135.74,130.21,127.32,129.85,118.33,112.29,107.18,96.78,92.85,96.34,107.64,115.28,104.11,103.18,94.96,100.24,99.65,96.59,92.94,85.3,92.78,102.06,98.67,96.91,92.06,98.56,100.06,97.19,95.19,104.28,99.28,91.17,90.87,97.88,104.33,103.21,104.95,110.37,106.74,103.49,101.09,102.55,97.42,107.98,105.91,107.57,115.01,116.36,118.2,121.68,113.38,116.62,112.99,110.91,115.44,123.5,130.05,151.84,156.82,160.02,146.24,137.53,140.77,129.36,125.8,129.15,126.28,128.95,144.17,138.36,142.82,160.94,158.77,155.89,157.49,156.51,157.24,148.31,137.21,131.63,129.13,138.19,141.44,140.82,139.46,142.47,141.62,152.16,132.14,133.13,131.06,130.85,131.77,128.24,135.26,132.35,137.59,144.16,149.25,142.66,140.82,150.92,140.14,143.85,148.36,166.89,197.77,192.94,189.85,175.98,176.46,168.54,175.27,180.78,205.03,225.61,253.9,322.98,325.55,307.65,345.31,343.81,388.75,419.61,323.43,255.1,254.74,245.45,255.37,223.77,185.92,182.98,179.31,195.11,183.35,183.72,182.62,202.46,201.72,175.63,161.67,158.37,175.63,204.66,206.5,198.78,191.8,189.96,187.76,190.33,182.62,222.28,261.61,276.31,267.49,278.52,308.65,320.4,338.78,303.14,314.89,308.65,282.19,266.39,277.62,267.49,253.53,253.16,244.71,253.9,263.08,259.78,254.63,251.33,249.49,322.98,333.73,343.55,340.25,346.49,325.18,309.01,297.99,285.87,278.15,279.25,268.23,260.88,252.43,259.8,287.72,274.43,267.05,246.55,258.67,286.92,277.09,277.21,236.65,218.31,220.36,202.83,220.14,236.03,261.78,231.47,219.85,218.8,209.7,200.77,204.99,207.38,187.87,193.97,206.34,203.41,191.98,191.73,188.43,189.69,192.76,189.85,187.01,166.51,159.28,157.56,164.37,167.28,161.17,173.61,181.0,176.54,172.19,174.97,183.36,201.77,172.68,176.9,177.01,175.66,172.49,178.34,190.56,198.86,198.79,209.95,206.0,206.93,217.44,202.05,209.1,210.85,217.81,220.16,217.25,200.39,197.33,200.32,222.41,203.96,197.52,201.91,212.85,223.54,237.68,247.99,238.98,228.12,221.69,209.93,200.5,212.74,208.94,219.68,245.2,247.95,251.15,276.45,276.63,272.58,281.38,270.98,263.48,254.67,276.18,263.6,334.5,327.82,332.06],\"type\":\"box\",\"xaxis\":\"x2\",\"yaxis\":\"y2\"},{\"boxpoints\":\"suspectedoutliers\",\"name\":\"Price_rice_ton\",\"y\":[278.25,277.2,278.0,274.0,268.8,278.5,270.8,257.0,250.0,252.6,256.25,259.75,254.25,230.2,206.25,184.75,189.0,200.75,209.0,206.0,256.75,307.75,320.5,356.0,343.75,269.75,269.25,233.0,213.75,226.25,252.6,259.75,262.0,264.5,260.5,276.8,280.5,286.25,281.5,291.0,326.0,345.6,339.5,359.75,382.6,340.5,341.5,369.2,368.0,359.5,327.2,332.25,341.5,358.0,335.5,328.4,312.75,315.0,319.2,356.0,347.0,323.4,304.5,324.5,323.2,320.0,285.0,270.6,265.75,252.5,269.67,288.0,297.25,296.0,311.5,318.25,325.5,324.25,321.4,321.25,298.75,270.0,277.75,299.75,280.0,256.2,235.5,244.25,253.8,259.0,244.5,229.25,217.0,228.0,233.75,241.4,241.0,225.75,214.75,198.6,196.0,189.0,186.5,179.0,187.5,185.0,184.25,184.4,184.5,175.0,163.75,164.33,168.0,169.4,168.25,173.0,170.6,173.5,179.33,191.75,195.33,189.0,190.2,197.5,202.67,199.6,190.33,186.6,186.25,186.75,186.5,200.75,198.75,197.0,195.0,198.0,203.4,198.5,195.0,197.6,195.75,193.4,198.25,212.75,213.25,237.8,240.75,232.0,229.0,230.75,239.0,235.25,244.0,259.2,278.25,287.0,290.0,292.75,297.25,293.8,285.0,276.75,282.8,285.25,286.4,277.75,280.5,291.25,301.5,303.5,302.25,308.0,312.5,315.4,312.67,309.2,301.0,296.25,305.0,313.0,315.0,318.67,316.5,317.6,323.25,328.8,327.5,325.0,329.2,342.0,360.67,375.6,464.75,594.0,907.0,901.8,757.0,731.75,693.5,683.8,609.25,552.0,531.8,580.0,590.75,588.25,549.67,533.0,574.5,572.0,526.25,518.75,493.0,542.75,591.0,568.8,535.0,502.2,466.0,451.33,440.0,441.8,452.75,476.5,486.0,514.5,532.0,516.8,524.0,492.75,484.25,481.4,513.75,538.25,566.0,598.75,599.4,615.25,585.75,542.0,537.5,548.0,547.75,600.5,600.0,573.75,567.75,563.25,558.25,559.25,557.8,564.2,563.0,559.0,557.0,543.5,524.25,509.0,478.75,444.0,439.0,438.0,451.0,450.0,459.0,422.0,395.0,388.0,397.0,422.0,445.0,432.0,428.0,418.0,418.0,420.0,420.0,410.0,399.0,381.0,376.0,392.0,373.0,357.0,373.0,368.0,363.0,369.0,384.0,384.0,395.0,433.0,441.0,442.0,415.0,384.0,369.0,365.0,373.0,377.0,367.0,370.0,380.0,421.0,458.0,417.0,393.0,402.0,394.0,402.0,406.0,442.0,425.0,430.0,451.0,451.0,427.0,398.0,405.0,405.0,409.0,401.0,404.0,410.0,408.0,406.0,413.0,409.0,420.0,416.0,430.0,427.0,424.0,421.0,432.0,451.0,450.0,494.0,564.0,510.0,520.0,480.0,505.0,507.0,471.0,489.0,520.0,545.0,557.0,525.0,495.0,493.0,466.0,414.0,403.0,400.0,401.0,400.0,400.0],\"type\":\"box\",\"xaxis\":\"x3\",\"yaxis\":\"y3\"},{\"boxpoints\":\"suspectedoutliers\",\"name\":\"Price_corn_ton\",\"y\":[113.62,117.0,108.52,109.64,110.9,102.75,96.96,98.05,95.11,94.48,94.61,94.21,94.38,97.14,100.55,98.59,92.76,101.25,100.31,100.9,106.53,116.67,121.79,127.23,123.22,119.4,113.23,109.59,112.16,97.83,95.99,97.51,96.48,95.47,102.49,106.96,106.69,109.7,109.3,111.97,119.86,126.99,126.44,130.48,140.86,143.95,148.65,156.13,164.81,184.86,190.37,204.02,197.55,197.8,185.5,145.39,127.85,117.74,117.69,118.36,121.67,127.6,124.4,118.77,112.05,106.06,112.92,112.24,120.36,117.22,113.45,114.71,113.38,114.21,107.12,106.1,104.23,100.51,87.86,86.31,95.53,98.12,95.76,97.44,94.19,96.18,94.13,92.49,93.65,83.99,85.65,86.47,85.8,85.43,87.18,93.29,95.15,95.05,95.2,96.35,84.33,75.27,75.58,80.43,85.03,89.17,97.56,95.15,91.97,90.25,87.99,84.09,83.31,91.73,93.14,90.08,86.56,89.54,91.88,91.98,90.82,89.61,87.13,90.27,94.09,98.69,108.93,114.14,109.7,108.93,106.96,106.14,105.85,105.6,105.46,107.49,107.33,96.81,100.66,104.08,105.39,108.48,111.16,115.52,123.54,127.85,133.5,128.22,123.32,104.85,104.05,97.87,93.79,93.75,95.39,96.25,94.14,99.88,96.28,95.42,97.1,107.52,101.67,96.35,101.94,95.37,102.14,102.65,107.13,105.25,107.72,110.65,109.4,113.99,116.59,121.75,142.17,164.54,160.38,164.77,177.35,170.51,152.75,160.23,165.25,146.84,151.17,159.44,164.16,171.25,180.25,206.66,220.07,234.36,246.44,243.46,287.11,265.34,235.03,233.85,183.06,163.77,158.26,172.83,163.38,164.56,168.5,179.91,179.52,151.57,151.96,150.39,167.31,171.64,164.56,167.31,161.8,159.05,157.08,163.38,152.75,163.76,175.58,205.89,235.81,238.18,250.38,264.95,292.9,290.54,319.27,307.86,310.61,300.77,310.22,295.26,274.79,274.39,258.65,272.84,279.46,280.69,274.0,269.28,267.31,333.05,331.99,320.85,321.24,321.64,308.65,303.13,302.74,309.04,279.91,295.54,298.41,279.51,238.74,207.41,201.73,199.13,197.39,198.06,209.32,222.33,222.36,217.3,202.39,182.73,176.42,163.06,163.12,178.74,178.73,174.71,173.7,174.23,172.05,166.29,166.72,179.6,162.59,165.62,171.39,166.16,163.95,161.03,159.68,159.14,164.41,168.96,179.87,161.76,150.15,148.43,152.26,151.8,152.45,159.99,162.86,158.96,156.44,158.59,157.93,157.51,148.5,147.29,148.62,148.7,148.98,155.84,163.36,172.0,175.6,179.09,165.07,156.46,162.37,154.8,160.26,160.69,167.44,166.74,169.52,166.22,161.49,171.08,195.08,189.42,163.59,157.26,167.15,166.33,166.96,171.79,168.71,162.42,146.91,143.91,147.99,152.55,149.34,166.08,186.75,190.38,198.77,234.47,245.24,245.17,268.23,305.31,292.56,278.43,256.61,235.62,239.65,248.72,264.54],\"type\":\"box\",\"xaxis\":\"x4\",\"yaxis\":\"y4\"},{\"boxpoints\":\"suspectedoutliers\",\"name\":\"Inflation_rate\",\"y\":[89.59,89.59,89.59,89.59,89.59,89.59,89.59,89.59,89.59,89.59,89.59,84.15,84.15,84.15,84.15,84.15,84.15,84.15,84.15,84.15,84.15,84.15,84.15,79.47,79.47,79.47,79.47,79.47,79.47,79.47,79.47,79.47,79.47,79.47,79.47,74.58,74.58,74.58,74.58,74.58,74.58,74.58,74.58,74.58,74.58,74.58,74.58,69.6,69.6,69.6,69.6,69.6,69.6,69.6,69.6,69.6,69.6,69.6,69.6,65.73,65.73,65.73,65.73,65.73,65.73,65.73,65.73,65.73,65.73,65.73,65.73,63.2,63.2,63.2,63.2,63.2,63.2,63.2,63.2,63.2,63.2,63.2,63.2,59.7,59.7,59.7,59.7,59.7,59.7,59.7,59.7,59.7,59.7,59.7,59.7,54.49,54.49,54.49,54.49,54.49,54.49,54.49,54.49,54.49,54.49,54.49,54.49,50.24,50.24,50.24,50.24,50.24,50.24,50.24,50.24,50.24,50.24,50.24,50.24,47.89,47.89,47.89,47.89,47.89,47.89,47.89,47.89,47.89,47.89,47.89,47.89,44.61,44.61,44.61,44.61,44.61,44.61,44.61,44.61,44.61,44.61,44.61,44.61,40.84,40.84,40.84,40.84,40.84,40.84,40.84,40.84,40.84,40.84,40.84,40.84,36.22,36.22,36.22,36.22,36.22,36.22,36.22,36.22,36.22,36.22,36.22,36.22,31.96,31.96,31.96,31.96,31.96,31.96,31.96,31.96,31.96,31.96,31.96,31.96,28.3,28.3,28.3,28.3,28.3,28.3,28.3,28.3,28.3,28.3,28.3,28.3,23.56,23.56,23.56,23.56,23.56,23.56,23.56,23.56,23.56,23.56,23.56,23.56,24.0,24.0,24.0,24.0,24.0,24.0,24.0,24.0,24.0,24.0,24.0,24.0,22.0,22.0,22.0,22.0,22.0,22.0,22.0,22.0,22.0,22.0,22.0,22.0,18.27,18.27,18.27,18.27,18.27,18.27,18.27,18.27,18.27,18.27,18.27,18.27,15.87,15.87,15.87,15.87,15.87,15.87,15.87,15.87,15.87,15.87,15.87,15.87,14.19,14.19,14.19,14.19,14.19,14.19,14.19,14.19,14.19,14.19,14.19,14.19,12.37,12.37,12.37,12.37,12.37,12.37,12.37,12.37,12.37,12.37,12.37,12.37,12.24,12.24,12.24,12.24,12.24,12.24,12.24,12.24,12.24,12.24,12.24,12.24,10.84,10.84,10.84,10.84,10.84,10.84,10.84,10.84,10.84,10.84,10.84,10.84,8.53,8.53,8.53,8.53,8.53,8.53,8.53,8.53,8.53,8.53,8.53,8.53,5.94,5.94,5.94,5.94,5.94,5.94,5.94,5.94,5.94,5.94,5.94,5.94,4.06,4.06,4.06,4.06,4.06,4.06,4.06,4.06,4.06,4.06,4.06,4.06,2.79,2.79,2.79,2.79,2.79,2.79,2.79,2.79,2.79,2.79,2.79,2.79,-1.29,-1.29,-1.29,-1.29,-1.29,-1.29,-1.29,-1.29,-1.29,-1.29,-1.29,-1.29],\"type\":\"box\",\"xaxis\":\"x5\",\"yaxis\":\"y5\"},{\"boxpoints\":\"suspectedoutliers\",\"name\":\"Price_wheat_ton_infl\",\"y\":[322.53,306.07,290.21,264.9,266.11,246.33,225.23,249.25,260.53,276.5,277.31,288.97,275.18,267.86,287.9,257.98,206.71,215.03,220.15,213.08,235.47,251.2,258.71,274.07,258.78,239.57,233.28,224.79,215.63,214.48,229.99,255.06,282.45,273.49,282.38,267.09,261.36,249.79,245.6,250.14,267.95,302.65,294.11,324.04,338.76,346.14,358.47,334.08,345.92,348.54,419.79,361.98,306.3,307.11,296.78,287.83,268.71,268.32,268.99,255.24,237.96,254.89,262.88,252.99,218.08,211.77,233.53,237.36,238.07,229.09,224.96,212.5,207.79,211.92,193.11,183.26,174.92,157.94,151.53,157.23,175.67,188.14,169.91,164.78,151.65,160.08,159.14,154.25,148.43,136.22,148.17,162.99,157.58,154.77,147.02,152.27,154.58,150.15,147.06,161.1,153.38,140.85,140.39,151.21,161.18,159.45,162.14,165.82,160.37,155.48,151.88,154.07,146.36,162.23,159.12,161.61,172.79,174.82,177.58,179.95,167.68,172.47,167.1,164.02,170.72,182.64,192.33,224.56,231.92,236.65,216.27,198.88,203.57,187.07,181.92,186.76,182.61,186.47,208.48,200.08,206.53,232.74,229.6,219.56,221.81,220.43,221.46,208.88,193.25,185.39,181.87,194.63,199.2,198.33,196.42,194.07,192.91,207.27,180.0,181.35,178.53,178.24,179.5,174.69,184.25,180.29,187.43,190.23,196.95,188.25,185.83,199.15,184.93,189.82,195.78,220.23,260.98,254.6,250.53,225.78,226.4,216.24,224.87,231.94,263.05,289.46,325.75,414.38,417.68,394.71,443.03,424.81,480.34,518.47,399.63,315.2,314.76,303.28,315.54,276.49,229.72,226.09,221.56,241.94,227.35,227.81,226.45,251.05,250.13,217.78,200.47,196.38,217.78,253.78,256.06,242.51,234.0,231.75,229.07,232.2,222.8,271.18,319.16,337.1,326.34,339.79,376.55,378.94,400.68,358.52,372.42,365.04,333.75,315.06,328.34,316.36,299.85,299.41,289.42,294.19,304.83,301.01,295.04,291.22,289.08,374.24,386.69,398.07,394.25,401.48,376.79,352.86,340.27,326.43,317.62,318.88,306.29,297.9,288.25,296.67,328.55,313.37,304.94,277.05,290.67,322.41,311.37,311.5,265.92,245.31,247.62,227.92,247.37,265.23,294.16,259.8,246.76,245.58,235.37,225.34,230.08,232.76,210.87,217.71,231.6,228.31,215.48,212.51,208.86,210.25,213.66,210.43,207.28,184.56,176.55,174.64,182.19,185.41,178.64,188.42,196.44,191.6,186.88,189.89,199.0,218.98,187.41,191.99,192.11,190.64,187.2,188.93,201.88,210.67,210.6,222.42,218.24,219.22,230.36,214.05,221.52,223.37,230.75,229.1,226.07,208.53,205.34,208.45,231.44,212.24,205.54,210.11,221.49,232.62,247.33,254.91,245.65,234.48,227.88,215.79,206.09,218.68,214.77,225.81,252.04,254.87,258.16,272.88,273.06,269.06,277.75,267.48,260.08,251.38,272.62,260.2,330.18,323.59,327.78],\"type\":\"box\",\"xaxis\":\"x6\",\"yaxis\":\"y6\"},{\"boxpoints\":\"suspectedoutliers\",\"name\":\"Price_rice_ton_infl\",\"y\":[527.53,525.54,527.06,519.48,509.62,528.01,513.41,487.25,473.98,478.9,485.82,478.33,468.2,423.91,379.81,340.22,348.04,369.68,384.87,379.35,472.81,566.72,590.2,638.91,616.93,484.12,483.22,418.17,383.62,406.05,453.34,466.17,470.21,474.7,467.52,483.24,489.7,499.74,491.44,508.03,569.13,603.35,592.7,628.05,667.94,594.44,596.19,626.16,624.13,609.71,554.93,563.5,579.18,607.17,569.01,556.97,530.42,534.24,541.36,590.0,575.08,535.97,504.65,537.79,535.64,530.34,472.33,448.47,440.43,418.47,446.92,470.02,485.11,483.07,508.37,519.38,531.22,529.18,524.52,524.28,487.56,440.64,453.29,478.7,447.16,409.15,376.09,390.07,405.32,413.62,390.47,366.11,346.55,364.12,373.3,372.94,372.32,348.76,331.77,306.82,302.8,291.99,288.12,276.54,289.67,285.81,284.65,277.04,277.19,262.92,246.02,246.89,252.4,254.51,252.78,259.92,256.31,260.67,269.43,283.58,288.87,279.51,281.29,292.08,299.73,295.19,281.48,275.96,275.45,276.18,275.81,290.3,287.41,284.88,281.99,286.33,294.14,287.05,281.99,285.75,283.07,279.68,286.69,299.64,300.34,334.92,339.07,326.75,322.52,324.99,336.61,331.33,343.65,365.06,391.89,390.95,395.04,398.78,404.91,400.21,388.23,376.99,385.23,388.57,390.13,378.35,382.1,384.33,397.86,400.5,398.85,406.44,412.38,416.2,412.6,408.02,397.2,390.93,402.48,401.58,404.14,408.85,406.07,407.48,414.73,421.85,420.18,416.98,422.36,438.79,462.74,464.09,574.25,733.95,1120.69,1114.26,935.35,904.15,856.89,844.9,752.79,682.05,657.09,719.2,732.53,729.43,681.59,660.92,712.38,709.28,652.55,643.25,611.32,673.01,732.84,693.94,652.7,612.68,568.52,550.62,536.8,539.0,552.36,581.33,592.92,627.69,649.04,611.22,619.73,582.78,572.72,569.35,607.61,636.59,669.41,708.14,708.91,727.66,692.77,628.02,622.8,634.97,634.68,695.8,695.22,664.8,657.85,652.64,646.84,648.0,646.32,644.26,642.89,638.32,636.04,620.62,598.64,581.23,546.68,507.0,501.29,500.15,515.0,505.66,515.78,474.2,443.86,436.0,446.11,474.2,500.05,485.44,480.94,469.71,469.71,471.41,471.41,460.18,447.84,427.63,422.02,439.98,418.66,400.7,418.66,413.04,407.43,409.0,425.63,425.63,437.82,479.94,488.8,489.91,459.99,425.63,409.0,404.57,413.43,409.16,398.31,401.56,412.41,456.91,497.07,452.57,426.52,436.29,427.61,436.29,440.63,468.25,450.24,455.54,477.79,477.79,452.36,421.64,429.06,429.06,433.29,424.82,428.0,426.65,424.56,422.48,429.77,425.61,437.05,432.89,447.46,444.34,441.21,438.09,449.54,463.58,462.56,507.78,579.74,524.23,534.51,493.39,519.09,521.15,484.14,502.64,534.51,537.97,549.81,518.23,488.61,486.64,459.99,408.66,397.8,394.84,395.83,394.84,394.84],\"type\":\"box\",\"xaxis\":\"x7\",\"yaxis\":\"y7\"},{\"boxpoints\":\"suspectedoutliers\",\"name\":\"Price_corn_ton_infl\",\"y\":[215.41,221.82,205.74,207.87,210.26,194.8,183.83,185.89,180.32,179.12,179.37,173.49,173.8,178.88,185.16,181.55,170.82,186.45,184.72,185.81,196.17,214.85,224.28,228.34,221.14,214.29,203.21,196.68,201.29,175.58,172.27,175.0,173.15,171.34,183.94,186.73,186.26,191.51,190.82,195.48,209.25,221.7,220.74,227.79,245.91,251.31,259.51,264.8,279.52,313.52,322.87,346.02,335.04,335.47,314.61,246.58,216.83,199.69,199.6,196.16,201.64,211.47,206.17,196.84,185.7,175.77,187.14,186.02,199.47,194.27,188.02,187.21,185.04,186.39,174.82,173.16,170.1,164.03,143.39,140.86,155.9,160.13,156.28,155.61,150.42,153.6,150.33,147.71,149.56,134.13,136.78,138.09,137.02,136.43,139.23,144.12,147.0,146.84,147.07,148.85,130.28,116.28,116.76,124.26,131.36,137.76,150.72,142.95,138.18,135.59,132.2,126.34,125.16,137.82,139.93,135.34,130.05,134.52,138.04,136.03,134.31,132.52,128.86,133.5,139.15,145.95,161.1,168.8,162.24,161.1,158.18,153.49,153.07,152.71,152.51,155.44,155.21,140.0,145.56,150.51,152.4,156.87,160.75,162.7,173.99,180.06,188.02,180.59,173.68,147.67,146.54,137.84,132.09,132.04,134.35,131.11,128.24,136.06,131.15,129.98,132.27,146.46,138.49,131.25,138.86,129.91,139.14,135.46,141.37,138.89,142.15,146.01,144.36,150.42,153.85,160.66,187.61,217.13,211.64,211.4,227.54,218.76,195.98,205.58,212.02,188.4,193.95,204.56,210.62,219.71,231.26,255.35,271.92,289.58,304.5,300.82,354.75,327.85,290.4,288.95,226.19,202.35,195.55,214.31,202.59,204.05,208.94,223.09,222.6,187.95,188.43,186.48,207.46,212.83,204.05,204.12,197.4,194.04,191.64,199.32,186.36,199.79,214.21,251.19,287.69,290.58,305.46,313.36,346.41,343.62,377.6,364.11,367.36,355.72,366.9,349.2,324.99,324.52,305.91,316.14,323.81,325.24,317.48,312.01,309.73,385.91,384.68,371.77,372.22,372.68,357.63,346.14,345.7,352.89,319.63,337.48,340.75,319.17,272.62,236.84,230.36,227.39,225.4,222.56,235.21,249.83,249.87,244.18,227.43,205.33,198.24,183.23,183.3,200.85,200.84,196.09,194.96,195.56,193.11,186.64,187.13,201.58,182.49,185.89,192.37,186.5,184.02,178.49,176.99,176.39,182.23,187.28,199.37,179.29,166.43,164.52,168.76,168.26,168.98,173.64,176.75,172.52,169.78,172.12,171.4,170.95,161.17,159.85,161.3,161.38,161.69,165.1,173.06,182.22,186.03,189.73,174.88,165.75,172.01,164.0,169.78,170.23,177.39,173.51,176.4,172.97,168.05,178.03,203.0,197.11,170.23,163.64,173.94,173.08,173.74,176.58,173.42,166.95,151.01,147.93,152.12,156.81,153.51,170.71,191.96,195.69,204.32,231.45,242.08,242.01,264.77,301.37,288.79,274.84,253.3,232.58,236.56,245.51,261.13],\"type\":\"box\",\"xaxis\":\"x8\",\"yaxis\":\"y8\"}],                        {\"template\":{\"data\":{\"histogram2dcontour\":[{\"type\":\"histogram2dcontour\",\"colorbar\":{\"outlinewidth\":0,\"ticks\":\"\"},\"colorscale\":[[0.0,\"#0d0887\"],[0.1111111111111111,\"#46039f\"],[0.2222222222222222,\"#7201a8\"],[0.3333333333333333,\"#9c179e\"],[0.4444444444444444,\"#bd3786\"],[0.5555555555555556,\"#d8576b\"],[0.6666666666666666,\"#ed7953\"],[0.7777777777777778,\"#fb9f3a\"],[0.8888888888888888,\"#fdca26\"],[1.0,\"#f0f921\"]]}],\"choropleth\":[{\"type\":\"choropleth\",\"colorbar\":{\"outlinewidth\":0,\"ticks\":\"\"}}],\"histogram2d\":[{\"type\":\"histogram2d\",\"colorbar\":{\"outlinewidth\":0,\"ticks\":\"\"},\"colorscale\":[[0.0,\"#0d0887\"],[0.1111111111111111,\"#46039f\"],[0.2222222222222222,\"#7201a8\"],[0.3333333333333333,\"#9c179e\"],[0.4444444444444444,\"#bd3786\"],[0.5555555555555556,\"#d8576b\"],[0.6666666666666666,\"#ed7953\"],[0.7777777777777778,\"#fb9f3a\"],[0.8888888888888888,\"#fdca26\"],[1.0,\"#f0f921\"]]}],\"heatmap\":[{\"type\":\"heatmap\",\"colorbar\":{\"outlinewidth\":0,\"ticks\":\"\"},\"colorscale\":[[0.0,\"#0d0887\"],[0.1111111111111111,\"#46039f\"],[0.2222222222222222,\"#7201a8\"],[0.3333333333333333,\"#9c179e\"],[0.4444444444444444,\"#bd3786\"],[0.5555555555555556,\"#d8576b\"],[0.6666666666666666,\"#ed7953\"],[0.7777777777777778,\"#fb9f3a\"],[0.8888888888888888,\"#fdca26\"],[1.0,\"#f0f921\"]]}],\"heatmapgl\":[{\"type\":\"heatmapgl\",\"colorbar\":{\"outlinewidth\":0,\"ticks\":\"\"},\"colorscale\":[[0.0,\"#0d0887\"],[0.1111111111111111,\"#46039f\"],[0.2222222222222222,\"#7201a8\"],[0.3333333333333333,\"#9c179e\"],[0.4444444444444444,\"#bd3786\"],[0.5555555555555556,\"#d8576b\"],[0.6666666666666666,\"#ed7953\"],[0.7777777777777778,\"#fb9f3a\"],[0.8888888888888888,\"#fdca26\"],[1.0,\"#f0f921\"]]}],\"contourcarpet\":[{\"type\":\"contourcarpet\",\"colorbar\":{\"outlinewidth\":0,\"ticks\":\"\"}}],\"contour\":[{\"type\":\"contour\",\"colorbar\":{\"outlinewidth\":0,\"ticks\":\"\"},\"colorscale\":[[0.0,\"#0d0887\"],[0.1111111111111111,\"#46039f\"],[0.2222222222222222,\"#7201a8\"],[0.3333333333333333,\"#9c179e\"],[0.4444444444444444,\"#bd3786\"],[0.5555555555555556,\"#d8576b\"],[0.6666666666666666,\"#ed7953\"],[0.7777777777777778,\"#fb9f3a\"],[0.8888888888888888,\"#fdca26\"],[1.0,\"#f0f921\"]]}],\"surface\":[{\"type\":\"surface\",\"colorbar\":{\"outlinewidth\":0,\"ticks\":\"\"},\"colorscale\":[[0.0,\"#0d0887\"],[0.1111111111111111,\"#46039f\"],[0.2222222222222222,\"#7201a8\"],[0.3333333333333333,\"#9c179e\"],[0.4444444444444444,\"#bd3786\"],[0.5555555555555556,\"#d8576b\"],[0.6666666666666666,\"#ed7953\"],[0.7777777777777778,\"#fb9f3a\"],[0.8888888888888888,\"#fdca26\"],[1.0,\"#f0f921\"]]}],\"mesh3d\":[{\"type\":\"mesh3d\",\"colorbar\":{\"outlinewidth\":0,\"ticks\":\"\"}}],\"scatter\":[{\"fillpattern\":{\"fillmode\":\"overlay\",\"size\":10,\"solidity\":0.2},\"type\":\"scatter\"}],\"parcoords\":[{\"type\":\"parcoords\",\"line\":{\"colorbar\":{\"outlinewidth\":0,\"ticks\":\"\"}}}],\"scatterpolargl\":[{\"type\":\"scatterpolargl\",\"marker\":{\"colorbar\":{\"outlinewidth\":0,\"ticks\":\"\"}}}],\"bar\":[{\"error_x\":{\"color\":\"#2a3f5f\"},\"error_y\":{\"color\":\"#2a3f5f\"},\"marker\":{\"line\":{\"color\":\"#E5ECF6\",\"width\":0.5},\"pattern\":{\"fillmode\":\"overlay\",\"size\":10,\"solidity\":0.2}},\"type\":\"bar\"}],\"scattergeo\":[{\"type\":\"scattergeo\",\"marker\":{\"colorbar\":{\"outlinewidth\":0,\"ticks\":\"\"}}}],\"scatterpolar\":[{\"type\":\"scatterpolar\",\"marker\":{\"colorbar\":{\"outlinewidth\":0,\"ticks\":\"\"}}}],\"histogram\":[{\"marker\":{\"pattern\":{\"fillmode\":\"overlay\",\"size\":10,\"solidity\":0.2}},\"type\":\"histogram\"}],\"scattergl\":[{\"type\":\"scattergl\",\"marker\":{\"colorbar\":{\"outlinewidth\":0,\"ticks\":\"\"}}}],\"scatter3d\":[{\"type\":\"scatter3d\",\"line\":{\"colorbar\":{\"outlinewidth\":0,\"ticks\":\"\"}},\"marker\":{\"colorbar\":{\"outlinewidth\":0,\"ticks\":\"\"}}}],\"scattermapbox\":[{\"type\":\"scattermapbox\",\"marker\":{\"colorbar\":{\"outlinewidth\":0,\"ticks\":\"\"}}}],\"scatterternary\":[{\"type\":\"scatterternary\",\"marker\":{\"colorbar\":{\"outlinewidth\":0,\"ticks\":\"\"}}}],\"scattercarpet\":[{\"type\":\"scattercarpet\",\"marker\":{\"colorbar\":{\"outlinewidth\":0,\"ticks\":\"\"}}}],\"carpet\":[{\"aaxis\":{\"endlinecolor\":\"#2a3f5f\",\"gridcolor\":\"white\",\"linecolor\":\"white\",\"minorgridcolor\":\"white\",\"startlinecolor\":\"#2a3f5f\"},\"baxis\":{\"endlinecolor\":\"#2a3f5f\",\"gridcolor\":\"white\",\"linecolor\":\"white\",\"minorgridcolor\":\"white\",\"startlinecolor\":\"#2a3f5f\"},\"type\":\"carpet\"}],\"table\":[{\"cells\":{\"fill\":{\"color\":\"#EBF0F8\"},\"line\":{\"color\":\"white\"}},\"header\":{\"fill\":{\"color\":\"#C8D4E3\"},\"line\":{\"color\":\"white\"}},\"type\":\"table\"}],\"barpolar\":[{\"marker\":{\"line\":{\"color\":\"#E5ECF6\",\"width\":0.5},\"pattern\":{\"fillmode\":\"overlay\",\"size\":10,\"solidity\":0.2}},\"type\":\"barpolar\"}],\"pie\":[{\"automargin\":true,\"type\":\"pie\"}]},\"layout\":{\"autotypenumbers\":\"strict\",\"colorway\":[\"#636efa\",\"#EF553B\",\"#00cc96\",\"#ab63fa\",\"#FFA15A\",\"#19d3f3\",\"#FF6692\",\"#B6E880\",\"#FF97FF\",\"#FECB52\"],\"font\":{\"color\":\"#2a3f5f\"},\"hovermode\":\"closest\",\"hoverlabel\":{\"align\":\"left\"},\"paper_bgcolor\":\"white\",\"plot_bgcolor\":\"#E5ECF6\",\"polar\":{\"bgcolor\":\"#E5ECF6\",\"angularaxis\":{\"gridcolor\":\"white\",\"linecolor\":\"white\",\"ticks\":\"\"},\"radialaxis\":{\"gridcolor\":\"white\",\"linecolor\":\"white\",\"ticks\":\"\"}},\"ternary\":{\"bgcolor\":\"#E5ECF6\",\"aaxis\":{\"gridcolor\":\"white\",\"linecolor\":\"white\",\"ticks\":\"\"},\"baxis\":{\"gridcolor\":\"white\",\"linecolor\":\"white\",\"ticks\":\"\"},\"caxis\":{\"gridcolor\":\"white\",\"linecolor\":\"white\",\"ticks\":\"\"}},\"coloraxis\":{\"colorbar\":{\"outlinewidth\":0,\"ticks\":\"\"}},\"colorscale\":{\"sequential\":[[0.0,\"#0d0887\"],[0.1111111111111111,\"#46039f\"],[0.2222222222222222,\"#7201a8\"],[0.3333333333333333,\"#9c179e\"],[0.4444444444444444,\"#bd3786\"],[0.5555555555555556,\"#d8576b\"],[0.6666666666666666,\"#ed7953\"],[0.7777777777777778,\"#fb9f3a\"],[0.8888888888888888,\"#fdca26\"],[1.0,\"#f0f921\"]],\"sequentialminus\":[[0.0,\"#0d0887\"],[0.1111111111111111,\"#46039f\"],[0.2222222222222222,\"#7201a8\"],[0.3333333333333333,\"#9c179e\"],[0.4444444444444444,\"#bd3786\"],[0.5555555555555556,\"#d8576b\"],[0.6666666666666666,\"#ed7953\"],[0.7777777777777778,\"#fb9f3a\"],[0.8888888888888888,\"#fdca26\"],[1.0,\"#f0f921\"]],\"diverging\":[[0,\"#8e0152\"],[0.1,\"#c51b7d\"],[0.2,\"#de77ae\"],[0.3,\"#f1b6da\"],[0.4,\"#fde0ef\"],[0.5,\"#f7f7f7\"],[0.6,\"#e6f5d0\"],[0.7,\"#b8e186\"],[0.8,\"#7fbc41\"],[0.9,\"#4d9221\"],[1,\"#276419\"]]},\"xaxis\":{\"gridcolor\":\"white\",\"linecolor\":\"white\",\"ticks\":\"\",\"title\":{\"standoff\":15},\"zerolinecolor\":\"white\",\"automargin\":true,\"zerolinewidth\":2},\"yaxis\":{\"gridcolor\":\"white\",\"linecolor\":\"white\",\"ticks\":\"\",\"title\":{\"standoff\":15},\"zerolinecolor\":\"white\",\"automargin\":true,\"zerolinewidth\":2},\"scene\":{\"xaxis\":{\"backgroundcolor\":\"#E5ECF6\",\"gridcolor\":\"white\",\"linecolor\":\"white\",\"showbackground\":true,\"ticks\":\"\",\"zerolinecolor\":\"white\",\"gridwidth\":2},\"yaxis\":{\"backgroundcolor\":\"#E5ECF6\",\"gridcolor\":\"white\",\"linecolor\":\"white\",\"showbackground\":true,\"ticks\":\"\",\"zerolinecolor\":\"white\",\"gridwidth\":2},\"zaxis\":{\"backgroundcolor\":\"#E5ECF6\",\"gridcolor\":\"white\",\"linecolor\":\"white\",\"showbackground\":true,\"ticks\":\"\",\"zerolinecolor\":\"white\",\"gridwidth\":2}},\"shapedefaults\":{\"line\":{\"color\":\"#2a3f5f\"}},\"annotationdefaults\":{\"arrowcolor\":\"#2a3f5f\",\"arrowhead\":0,\"arrowwidth\":1},\"geo\":{\"bgcolor\":\"white\",\"landcolor\":\"#E5ECF6\",\"subunitcolor\":\"white\",\"showland\":true,\"showlakes\":true,\"lakecolor\":\"white\"},\"title\":{\"x\":0.05},\"mapbox\":{\"style\":\"light\"}}},\"xaxis\":{\"anchor\":\"y\",\"domain\":[0.0,0.103125]},\"yaxis\":{\"anchor\":\"x\",\"domain\":[0.0,1.0]},\"xaxis2\":{\"anchor\":\"y2\",\"domain\":[0.128125,0.23124999999999998]},\"yaxis2\":{\"anchor\":\"x2\",\"domain\":[0.0,1.0]},\"xaxis3\":{\"anchor\":\"y3\",\"domain\":[0.25625,0.359375]},\"yaxis3\":{\"anchor\":\"x3\",\"domain\":[0.0,1.0]},\"xaxis4\":{\"anchor\":\"y4\",\"domain\":[0.38437499999999997,0.48749999999999993]},\"yaxis4\":{\"anchor\":\"x4\",\"domain\":[0.0,1.0]},\"xaxis5\":{\"anchor\":\"y5\",\"domain\":[0.5125,0.615625]},\"yaxis5\":{\"anchor\":\"x5\",\"domain\":[0.0,1.0]},\"xaxis6\":{\"anchor\":\"y6\",\"domain\":[0.640625,0.74375]},\"yaxis6\":{\"anchor\":\"x6\",\"domain\":[0.0,1.0]},\"xaxis7\":{\"anchor\":\"y7\",\"domain\":[0.76875,0.8718750000000001]},\"yaxis7\":{\"anchor\":\"x7\",\"domain\":[0.0,1.0]},\"xaxis8\":{\"anchor\":\"y8\",\"domain\":[0.8968750000000001,1.0]},\"yaxis8\":{\"anchor\":\"x8\",\"domain\":[0.0,1.0]}},                        {\"responsive\": true}                    ).then(function(){\n",
       "                            \n",
       "var gd = document.getElementById('1d9afbcc-510e-4467-afe1-f88a16d6340d');\n",
       "var x = new MutationObserver(function (mutations, observer) {{\n",
       "        var display = window.getComputedStyle(gd).display;\n",
       "        if (!display || display === 'none') {{\n",
       "            console.log([gd, 'removed!']);\n",
       "            Plotly.purge(gd);\n",
       "            observer.disconnect();\n",
       "        }}\n",
       "}});\n",
       "\n",
       "// Listen for the removal of the full notebook cells\n",
       "var notebookContainer = gd.closest('#notebook-container');\n",
       "if (notebookContainer) {{\n",
       "    x.observe(notebookContainer, {childList: true});\n",
       "}}\n",
       "\n",
       "// Listen for the clearing of the current output cell\n",
       "var outputEl = gd.closest('.output');\n",
       "if (outputEl) {{\n",
       "    x.observe(outputEl, {childList: true});\n",
       "}}\n",
       "\n",
       "                        })                };                });            </script>        </div>"
      ]
     },
     "metadata": {},
     "output_type": "display_data"
    }
   ],
   "source": [
    "fig=make_subplots(rows=1,cols=8)\n",
    "\n",
    "n=1\n",
    "for column in numerical_df.columns :\n",
    "    fig.add_trace(go.Box(y=numerical_df[column],name=column,boxpoints='suspectedoutliers'),row=1,col=n)\n",
    "    n=n+1\n",
    "    \n",
    "fig.show()"
   ]
  },
  {
   "cell_type": "code",
   "execution_count": 19,
   "id": "443480ed",
   "metadata": {
    "execution": {
     "iopub.execute_input": "2023-08-10T13:58:42.721454Z",
     "iopub.status.busy": "2023-08-10T13:58:42.721038Z",
     "iopub.status.idle": "2023-08-10T13:58:42.736361Z",
     "shell.execute_reply": "2023-08-10T13:58:42.734908Z"
    },
    "papermill": {
     "duration": 0.033646,
     "end_time": "2023-08-10T13:58:42.738909",
     "exception": false,
     "start_time": "2023-08-10T13:58:42.705263",
     "status": "completed"
    },
    "tags": []
   },
   "outputs": [
    {
     "data": {
      "text/html": [
       "<div>\n",
       "<style scoped>\n",
       "    .dataframe tbody tr th:only-of-type {\n",
       "        vertical-align: middle;\n",
       "    }\n",
       "\n",
       "    .dataframe tbody tr th {\n",
       "        vertical-align: top;\n",
       "    }\n",
       "\n",
       "    .dataframe thead th {\n",
       "        text-align: right;\n",
       "    }\n",
       "</style>\n",
       "<table border=\"1\" class=\"dataframe\">\n",
       "  <thead>\n",
       "    <tr style=\"text-align: right;\">\n",
       "      <th></th>\n",
       "      <th>Year</th>\n",
       "      <th>Month</th>\n",
       "      <th>Price_wheat_ton</th>\n",
       "      <th>Price_rice_ton</th>\n",
       "      <th>Price_corn_ton</th>\n",
       "      <th>Inflation_rate</th>\n",
       "      <th>Price_wheat_ton_infl</th>\n",
       "      <th>Price_rice_ton_infl</th>\n",
       "      <th>Price_corn_ton_infl</th>\n",
       "    </tr>\n",
       "  </thead>\n",
       "  <tbody>\n",
       "    <tr>\n",
       "      <th>194</th>\n",
       "      <td>2008</td>\n",
       "      <td>Apr</td>\n",
       "      <td>323.43</td>\n",
       "      <td>907.0</td>\n",
       "      <td>246.44</td>\n",
       "      <td>23.56</td>\n",
       "      <td>399.63</td>\n",
       "      <td>1120.69</td>\n",
       "      <td>304.5</td>\n",
       "    </tr>\n",
       "  </tbody>\n",
       "</table>\n",
       "</div>"
      ],
      "text/plain": [
       "     Year Month  Price_wheat_ton  Price_rice_ton  Price_corn_ton  \\\n",
       "194  2008   Apr           323.43           907.0          246.44   \n",
       "\n",
       "     Inflation_rate  Price_wheat_ton_infl  Price_rice_ton_infl  \\\n",
       "194           23.56                399.63              1120.69   \n",
       "\n",
       "     Price_corn_ton_infl  \n",
       "194                304.5  "
      ]
     },
     "execution_count": 19,
     "metadata": {},
     "output_type": "execute_result"
    }
   ],
   "source": [
    "df[df['Price_rice_ton_infl'] > 1120]"
   ]
  },
  {
   "cell_type": "code",
   "execution_count": 20,
   "id": "2f1b0d22",
   "metadata": {
    "execution": {
     "iopub.execute_input": "2023-08-10T13:58:42.770316Z",
     "iopub.status.busy": "2023-08-10T13:58:42.769943Z",
     "iopub.status.idle": "2023-08-10T13:58:42.778297Z",
     "shell.execute_reply": "2023-08-10T13:58:42.776905Z"
    },
    "papermill": {
     "duration": 0.026422,
     "end_time": "2023-08-10T13:58:42.780516",
     "exception": false,
     "start_time": "2023-08-10T13:58:42.754094",
     "status": "completed"
    },
    "tags": []
   },
   "outputs": [
    {
     "data": {
      "text/plain": [
       "(359, 9)"
      ]
     },
     "execution_count": 20,
     "metadata": {},
     "output_type": "execute_result"
    }
   ],
   "source": [
    "df.shape"
   ]
  },
  {
   "cell_type": "code",
   "execution_count": 21,
   "id": "51689167",
   "metadata": {
    "execution": {
     "iopub.execute_input": "2023-08-10T13:58:42.812033Z",
     "iopub.status.busy": "2023-08-10T13:58:42.811613Z",
     "iopub.status.idle": "2023-08-10T13:58:42.819518Z",
     "shell.execute_reply": "2023-08-10T13:58:42.818331Z"
    },
    "papermill": {
     "duration": 0.026645,
     "end_time": "2023-08-10T13:58:42.821690",
     "exception": false,
     "start_time": "2023-08-10T13:58:42.795045",
     "status": "completed"
    },
    "tags": []
   },
   "outputs": [
    {
     "data": {
      "text/plain": [
       "(358, 9)"
      ]
     },
     "execution_count": 21,
     "metadata": {},
     "output_type": "execute_result"
    }
   ],
   "source": [
    "# drop 'Price_rice_ton_infl' > 1120\n",
    "\n",
    "df=df[df['Price_rice_ton_infl'] < 1120]\n",
    "df.shape"
   ]
  },
  {
   "cell_type": "code",
   "execution_count": 22,
   "id": "b567a565",
   "metadata": {
    "execution": {
     "iopub.execute_input": "2023-08-10T13:58:42.853523Z",
     "iopub.status.busy": "2023-08-10T13:58:42.853085Z",
     "iopub.status.idle": "2023-08-10T13:58:42.871122Z",
     "shell.execute_reply": "2023-08-10T13:58:42.869945Z"
    },
    "papermill": {
     "duration": 0.036608,
     "end_time": "2023-08-10T13:58:42.873603",
     "exception": false,
     "start_time": "2023-08-10T13:58:42.836995",
     "status": "completed"
    },
    "tags": []
   },
   "outputs": [
    {
     "data": {
      "text/html": [
       "<div>\n",
       "<style scoped>\n",
       "    .dataframe tbody tr th:only-of-type {\n",
       "        vertical-align: middle;\n",
       "    }\n",
       "\n",
       "    .dataframe tbody tr th {\n",
       "        vertical-align: top;\n",
       "    }\n",
       "\n",
       "    .dataframe thead th {\n",
       "        text-align: right;\n",
       "    }\n",
       "</style>\n",
       "<table border=\"1\" class=\"dataframe\">\n",
       "  <thead>\n",
       "    <tr style=\"text-align: right;\">\n",
       "      <th></th>\n",
       "      <th>Year</th>\n",
       "      <th>Price_wheat_ton</th>\n",
       "      <th>Price_rice_ton</th>\n",
       "      <th>Price_corn_ton</th>\n",
       "      <th>Inflation_rate</th>\n",
       "      <th>Price_wheat_ton_infl</th>\n",
       "      <th>Price_rice_ton_infl</th>\n",
       "      <th>Price_corn_ton_infl</th>\n",
       "    </tr>\n",
       "  </thead>\n",
       "  <tbody>\n",
       "    <tr>\n",
       "      <th>0</th>\n",
       "      <td>1992</td>\n",
       "      <td>170.12</td>\n",
       "      <td>278.25</td>\n",
       "      <td>113.62</td>\n",
       "      <td>89.59</td>\n",
       "      <td>322.53</td>\n",
       "      <td>527.53</td>\n",
       "      <td>215.41</td>\n",
       "    </tr>\n",
       "    <tr>\n",
       "      <th>1</th>\n",
       "      <td>1992</td>\n",
       "      <td>161.44</td>\n",
       "      <td>277.20</td>\n",
       "      <td>117.00</td>\n",
       "      <td>89.59</td>\n",
       "      <td>306.07</td>\n",
       "      <td>525.54</td>\n",
       "      <td>221.82</td>\n",
       "    </tr>\n",
       "    <tr>\n",
       "      <th>2</th>\n",
       "      <td>1992</td>\n",
       "      <td>153.07</td>\n",
       "      <td>278.00</td>\n",
       "      <td>108.52</td>\n",
       "      <td>89.59</td>\n",
       "      <td>290.21</td>\n",
       "      <td>527.06</td>\n",
       "      <td>205.74</td>\n",
       "    </tr>\n",
       "    <tr>\n",
       "      <th>3</th>\n",
       "      <td>1992</td>\n",
       "      <td>139.72</td>\n",
       "      <td>274.00</td>\n",
       "      <td>109.64</td>\n",
       "      <td>89.59</td>\n",
       "      <td>264.90</td>\n",
       "      <td>519.48</td>\n",
       "      <td>207.87</td>\n",
       "    </tr>\n",
       "    <tr>\n",
       "      <th>4</th>\n",
       "      <td>1992</td>\n",
       "      <td>140.36</td>\n",
       "      <td>268.80</td>\n",
       "      <td>110.90</td>\n",
       "      <td>89.59</td>\n",
       "      <td>266.11</td>\n",
       "      <td>509.62</td>\n",
       "      <td>210.26</td>\n",
       "    </tr>\n",
       "  </tbody>\n",
       "</table>\n",
       "</div>"
      ],
      "text/plain": [
       "   Year  Price_wheat_ton  Price_rice_ton  Price_corn_ton  Inflation_rate  \\\n",
       "0  1992           170.12          278.25          113.62           89.59   \n",
       "1  1992           161.44          277.20          117.00           89.59   \n",
       "2  1992           153.07          278.00          108.52           89.59   \n",
       "3  1992           139.72          274.00          109.64           89.59   \n",
       "4  1992           140.36          268.80          110.90           89.59   \n",
       "\n",
       "   Price_wheat_ton_infl  Price_rice_ton_infl  Price_corn_ton_infl  \n",
       "0                322.53               527.53               215.41  \n",
       "1                306.07               525.54               221.82  \n",
       "2                290.21               527.06               205.74  \n",
       "3                264.90               519.48               207.87  \n",
       "4                266.11               509.62               210.26  "
      ]
     },
     "execution_count": 22,
     "metadata": {},
     "output_type": "execute_result"
    }
   ],
   "source": [
    "numerical_df=df.drop(columns='Month',axis=1)\n",
    "numerical_df.head()"
   ]
  },
  {
   "cell_type": "code",
   "execution_count": 23,
   "id": "f2559533",
   "metadata": {
    "execution": {
     "iopub.execute_input": "2023-08-10T13:58:42.905416Z",
     "iopub.status.busy": "2023-08-10T13:58:42.905055Z",
     "iopub.status.idle": "2023-08-10T13:58:42.954913Z",
     "shell.execute_reply": "2023-08-10T13:58:42.953546Z"
    },
    "papermill": {
     "duration": 0.068709,
     "end_time": "2023-08-10T13:58:42.957513",
     "exception": false,
     "start_time": "2023-08-10T13:58:42.888804",
     "status": "completed"
    },
    "tags": []
   },
   "outputs": [
    {
     "data": {
      "text/html": [
       "<div>                            <div id=\"f30dde2b-8d16-4bd1-9ff6-64254eca6604\" class=\"plotly-graph-div\" style=\"height:525px; width:100%;\"></div>            <script type=\"text/javascript\">                require([\"plotly\"], function(Plotly) {                    window.PLOTLYENV=window.PLOTLYENV || {};                                    if (document.getElementById(\"f30dde2b-8d16-4bd1-9ff6-64254eca6604\")) {                    Plotly.newPlot(                        \"f30dde2b-8d16-4bd1-9ff6-64254eca6604\",                        [{\"boxpoints\":\"suspectedoutliers\",\"name\":\"Year\",\"y\":[1992,1992,1992,1992,1992,1992,1992,1992,1992,1992,1992,1993,1993,1993,1993,1993,1993,1993,1993,1993,1993,1993,1993,1994,1994,1994,1994,1994,1994,1994,1994,1994,1994,1994,1994,1995,1995,1995,1995,1995,1995,1995,1995,1995,1995,1995,1995,1996,1996,1996,1996,1996,1996,1996,1996,1996,1996,1996,1996,1997,1997,1997,1997,1997,1997,1997,1997,1997,1997,1997,1997,1998,1998,1998,1998,1998,1998,1998,1998,1998,1998,1998,1998,1999,1999,1999,1999,1999,1999,1999,1999,1999,1999,1999,1999,2000,2000,2000,2000,2000,2000,2000,2000,2000,2000,2000,2000,2001,2001,2001,2001,2001,2001,2001,2001,2001,2001,2001,2001,2002,2002,2002,2002,2002,2002,2002,2002,2002,2002,2002,2002,2003,2003,2003,2003,2003,2003,2003,2003,2003,2003,2003,2003,2004,2004,2004,2004,2004,2004,2004,2004,2004,2004,2004,2004,2005,2005,2005,2005,2005,2005,2005,2005,2005,2005,2005,2005,2006,2006,2006,2006,2006,2006,2006,2006,2006,2006,2006,2006,2007,2007,2007,2007,2007,2007,2007,2007,2007,2007,2007,2007,2008,2008,2008,2008,2008,2008,2008,2008,2008,2008,2008,2009,2009,2009,2009,2009,2009,2009,2009,2009,2009,2009,2009,2010,2010,2010,2010,2010,2010,2010,2010,2010,2010,2010,2010,2011,2011,2011,2011,2011,2011,2011,2011,2011,2011,2011,2011,2012,2012,2012,2012,2012,2012,2012,2012,2012,2012,2012,2012,2013,2013,2013,2013,2013,2013,2013,2013,2013,2013,2013,2013,2014,2014,2014,2014,2014,2014,2014,2014,2014,2014,2014,2014,2015,2015,2015,2015,2015,2015,2015,2015,2015,2015,2015,2015,2016,2016,2016,2016,2016,2016,2016,2016,2016,2016,2016,2016,2017,2017,2017,2017,2017,2017,2017,2017,2017,2017,2017,2017,2018,2018,2018,2018,2018,2018,2018,2018,2018,2018,2018,2018,2019,2019,2019,2019,2019,2019,2019,2019,2019,2019,2019,2019,2020,2020,2020,2020,2020,2020,2020,2020,2020,2020,2020,2020,2021,2021,2021,2021,2021,2021,2021,2021,2021,2021,2021,2021],\"type\":\"box\",\"xaxis\":\"x\",\"yaxis\":\"y\"},{\"boxpoints\":\"suspectedoutliers\",\"name\":\"Price_wheat_ton\",\"y\":[170.12,161.44,153.07,139.72,140.36,129.93,118.8,131.47,137.42,145.84,146.27,156.92,149.43,145.46,156.34,140.09,112.25,116.77,119.55,115.71,127.87,136.41,140.49,152.71,144.19,133.49,129.98,125.25,120.15,119.51,128.15,142.12,157.38,152.39,157.34,152.99,149.71,143.08,140.68,143.28,153.48,173.36,168.47,185.61,194.04,198.27,205.33,196.98,203.96,205.51,247.52,213.43,180.6,181.08,174.99,169.71,158.44,158.21,158.6,154.01,143.58,153.8,158.62,152.65,131.59,127.78,140.91,143.22,143.65,138.23,135.74,130.21,127.32,129.85,118.33,112.29,107.18,96.78,92.85,96.34,107.64,115.28,104.11,103.18,94.96,100.24,99.65,96.59,92.94,85.3,92.78,102.06,98.67,96.91,92.06,98.56,100.06,97.19,95.19,104.28,99.28,91.17,90.87,97.88,104.33,103.21,104.95,110.37,106.74,103.49,101.09,102.55,97.42,107.98,105.91,107.57,115.01,116.36,118.2,121.68,113.38,116.62,112.99,110.91,115.44,123.5,130.05,151.84,156.82,160.02,146.24,137.53,140.77,129.36,125.8,129.15,126.28,128.95,144.17,138.36,142.82,160.94,158.77,155.89,157.49,156.51,157.24,148.31,137.21,131.63,129.13,138.19,141.44,140.82,139.46,142.47,141.62,152.16,132.14,133.13,131.06,130.85,131.77,128.24,135.26,132.35,137.59,144.16,149.25,142.66,140.82,150.92,140.14,143.85,148.36,166.89,197.77,192.94,189.85,175.98,176.46,168.54,175.27,180.78,205.03,225.61,253.9,322.98,325.55,307.65,345.31,343.81,388.75,419.61,255.1,254.74,245.45,255.37,223.77,185.92,182.98,179.31,195.11,183.35,183.72,182.62,202.46,201.72,175.63,161.67,158.37,175.63,204.66,206.5,198.78,191.8,189.96,187.76,190.33,182.62,222.28,261.61,276.31,267.49,278.52,308.65,320.4,338.78,303.14,314.89,308.65,282.19,266.39,277.62,267.49,253.53,253.16,244.71,253.9,263.08,259.78,254.63,251.33,249.49,322.98,333.73,343.55,340.25,346.49,325.18,309.01,297.99,285.87,278.15,279.25,268.23,260.88,252.43,259.8,287.72,274.43,267.05,246.55,258.67,286.92,277.09,277.21,236.65,218.31,220.36,202.83,220.14,236.03,261.78,231.47,219.85,218.8,209.7,200.77,204.99,207.38,187.87,193.97,206.34,203.41,191.98,191.73,188.43,189.69,192.76,189.85,187.01,166.51,159.28,157.56,164.37,167.28,161.17,173.61,181.0,176.54,172.19,174.97,183.36,201.77,172.68,176.9,177.01,175.66,172.49,178.34,190.56,198.86,198.79,209.95,206.0,206.93,217.44,202.05,209.1,210.85,217.81,220.16,217.25,200.39,197.33,200.32,222.41,203.96,197.52,201.91,212.85,223.54,237.68,247.99,238.98,228.12,221.69,209.93,200.5,212.74,208.94,219.68,245.2,247.95,251.15,276.45,276.63,272.58,281.38,270.98,263.48,254.67,276.18,263.6,334.5,327.82,332.06],\"type\":\"box\",\"xaxis\":\"x2\",\"yaxis\":\"y2\"},{\"boxpoints\":\"suspectedoutliers\",\"name\":\"Price_rice_ton\",\"y\":[278.25,277.2,278.0,274.0,268.8,278.5,270.8,257.0,250.0,252.6,256.25,259.75,254.25,230.2,206.25,184.75,189.0,200.75,209.0,206.0,256.75,307.75,320.5,356.0,343.75,269.75,269.25,233.0,213.75,226.25,252.6,259.75,262.0,264.5,260.5,276.8,280.5,286.25,281.5,291.0,326.0,345.6,339.5,359.75,382.6,340.5,341.5,369.2,368.0,359.5,327.2,332.25,341.5,358.0,335.5,328.4,312.75,315.0,319.2,356.0,347.0,323.4,304.5,324.5,323.2,320.0,285.0,270.6,265.75,252.5,269.67,288.0,297.25,296.0,311.5,318.25,325.5,324.25,321.4,321.25,298.75,270.0,277.75,299.75,280.0,256.2,235.5,244.25,253.8,259.0,244.5,229.25,217.0,228.0,233.75,241.4,241.0,225.75,214.75,198.6,196.0,189.0,186.5,179.0,187.5,185.0,184.25,184.4,184.5,175.0,163.75,164.33,168.0,169.4,168.25,173.0,170.6,173.5,179.33,191.75,195.33,189.0,190.2,197.5,202.67,199.6,190.33,186.6,186.25,186.75,186.5,200.75,198.75,197.0,195.0,198.0,203.4,198.5,195.0,197.6,195.75,193.4,198.25,212.75,213.25,237.8,240.75,232.0,229.0,230.75,239.0,235.25,244.0,259.2,278.25,287.0,290.0,292.75,297.25,293.8,285.0,276.75,282.8,285.25,286.4,277.75,280.5,291.25,301.5,303.5,302.25,308.0,312.5,315.4,312.67,309.2,301.0,296.25,305.0,313.0,315.0,318.67,316.5,317.6,323.25,328.8,327.5,325.0,329.2,342.0,360.67,375.6,464.75,594.0,901.8,757.0,731.75,693.5,683.8,609.25,552.0,531.8,580.0,590.75,588.25,549.67,533.0,574.5,572.0,526.25,518.75,493.0,542.75,591.0,568.8,535.0,502.2,466.0,451.33,440.0,441.8,452.75,476.5,486.0,514.5,532.0,516.8,524.0,492.75,484.25,481.4,513.75,538.25,566.0,598.75,599.4,615.25,585.75,542.0,537.5,548.0,547.75,600.5,600.0,573.75,567.75,563.25,558.25,559.25,557.8,564.2,563.0,559.0,557.0,543.5,524.25,509.0,478.75,444.0,439.0,438.0,451.0,450.0,459.0,422.0,395.0,388.0,397.0,422.0,445.0,432.0,428.0,418.0,418.0,420.0,420.0,410.0,399.0,381.0,376.0,392.0,373.0,357.0,373.0,368.0,363.0,369.0,384.0,384.0,395.0,433.0,441.0,442.0,415.0,384.0,369.0,365.0,373.0,377.0,367.0,370.0,380.0,421.0,458.0,417.0,393.0,402.0,394.0,402.0,406.0,442.0,425.0,430.0,451.0,451.0,427.0,398.0,405.0,405.0,409.0,401.0,404.0,410.0,408.0,406.0,413.0,409.0,420.0,416.0,430.0,427.0,424.0,421.0,432.0,451.0,450.0,494.0,564.0,510.0,520.0,480.0,505.0,507.0,471.0,489.0,520.0,545.0,557.0,525.0,495.0,493.0,466.0,414.0,403.0,400.0,401.0,400.0,400.0],\"type\":\"box\",\"xaxis\":\"x3\",\"yaxis\":\"y3\"},{\"boxpoints\":\"suspectedoutliers\",\"name\":\"Price_corn_ton\",\"y\":[113.62,117.0,108.52,109.64,110.9,102.75,96.96,98.05,95.11,94.48,94.61,94.21,94.38,97.14,100.55,98.59,92.76,101.25,100.31,100.9,106.53,116.67,121.79,127.23,123.22,119.4,113.23,109.59,112.16,97.83,95.99,97.51,96.48,95.47,102.49,106.96,106.69,109.7,109.3,111.97,119.86,126.99,126.44,130.48,140.86,143.95,148.65,156.13,164.81,184.86,190.37,204.02,197.55,197.8,185.5,145.39,127.85,117.74,117.69,118.36,121.67,127.6,124.4,118.77,112.05,106.06,112.92,112.24,120.36,117.22,113.45,114.71,113.38,114.21,107.12,106.1,104.23,100.51,87.86,86.31,95.53,98.12,95.76,97.44,94.19,96.18,94.13,92.49,93.65,83.99,85.65,86.47,85.8,85.43,87.18,93.29,95.15,95.05,95.2,96.35,84.33,75.27,75.58,80.43,85.03,89.17,97.56,95.15,91.97,90.25,87.99,84.09,83.31,91.73,93.14,90.08,86.56,89.54,91.88,91.98,90.82,89.61,87.13,90.27,94.09,98.69,108.93,114.14,109.7,108.93,106.96,106.14,105.85,105.6,105.46,107.49,107.33,96.81,100.66,104.08,105.39,108.48,111.16,115.52,123.54,127.85,133.5,128.22,123.32,104.85,104.05,97.87,93.79,93.75,95.39,96.25,94.14,99.88,96.28,95.42,97.1,107.52,101.67,96.35,101.94,95.37,102.14,102.65,107.13,105.25,107.72,110.65,109.4,113.99,116.59,121.75,142.17,164.54,160.38,164.77,177.35,170.51,152.75,160.23,165.25,146.84,151.17,159.44,164.16,171.25,180.25,206.66,220.07,234.36,243.46,287.11,265.34,235.03,233.85,183.06,163.77,158.26,172.83,163.38,164.56,168.5,179.91,179.52,151.57,151.96,150.39,167.31,171.64,164.56,167.31,161.8,159.05,157.08,163.38,152.75,163.76,175.58,205.89,235.81,238.18,250.38,264.95,292.9,290.54,319.27,307.86,310.61,300.77,310.22,295.26,274.79,274.39,258.65,272.84,279.46,280.69,274.0,269.28,267.31,333.05,331.99,320.85,321.24,321.64,308.65,303.13,302.74,309.04,279.91,295.54,298.41,279.51,238.74,207.41,201.73,199.13,197.39,198.06,209.32,222.33,222.36,217.3,202.39,182.73,176.42,163.06,163.12,178.74,178.73,174.71,173.7,174.23,172.05,166.29,166.72,179.6,162.59,165.62,171.39,166.16,163.95,161.03,159.68,159.14,164.41,168.96,179.87,161.76,150.15,148.43,152.26,151.8,152.45,159.99,162.86,158.96,156.44,158.59,157.93,157.51,148.5,147.29,148.62,148.7,148.98,155.84,163.36,172.0,175.6,179.09,165.07,156.46,162.37,154.8,160.26,160.69,167.44,166.74,169.52,166.22,161.49,171.08,195.08,189.42,163.59,157.26,167.15,166.33,166.96,171.79,168.71,162.42,146.91,143.91,147.99,152.55,149.34,166.08,186.75,190.38,198.77,234.47,245.24,245.17,268.23,305.31,292.56,278.43,256.61,235.62,239.65,248.72,264.54],\"type\":\"box\",\"xaxis\":\"x4\",\"yaxis\":\"y4\"},{\"boxpoints\":\"suspectedoutliers\",\"name\":\"Inflation_rate\",\"y\":[89.59,89.59,89.59,89.59,89.59,89.59,89.59,89.59,89.59,89.59,89.59,84.15,84.15,84.15,84.15,84.15,84.15,84.15,84.15,84.15,84.15,84.15,84.15,79.47,79.47,79.47,79.47,79.47,79.47,79.47,79.47,79.47,79.47,79.47,79.47,74.58,74.58,74.58,74.58,74.58,74.58,74.58,74.58,74.58,74.58,74.58,74.58,69.6,69.6,69.6,69.6,69.6,69.6,69.6,69.6,69.6,69.6,69.6,69.6,65.73,65.73,65.73,65.73,65.73,65.73,65.73,65.73,65.73,65.73,65.73,65.73,63.2,63.2,63.2,63.2,63.2,63.2,63.2,63.2,63.2,63.2,63.2,63.2,59.7,59.7,59.7,59.7,59.7,59.7,59.7,59.7,59.7,59.7,59.7,59.7,54.49,54.49,54.49,54.49,54.49,54.49,54.49,54.49,54.49,54.49,54.49,54.49,50.24,50.24,50.24,50.24,50.24,50.24,50.24,50.24,50.24,50.24,50.24,50.24,47.89,47.89,47.89,47.89,47.89,47.89,47.89,47.89,47.89,47.89,47.89,47.89,44.61,44.61,44.61,44.61,44.61,44.61,44.61,44.61,44.61,44.61,44.61,44.61,40.84,40.84,40.84,40.84,40.84,40.84,40.84,40.84,40.84,40.84,40.84,40.84,36.22,36.22,36.22,36.22,36.22,36.22,36.22,36.22,36.22,36.22,36.22,36.22,31.96,31.96,31.96,31.96,31.96,31.96,31.96,31.96,31.96,31.96,31.96,31.96,28.3,28.3,28.3,28.3,28.3,28.3,28.3,28.3,28.3,28.3,28.3,28.3,23.56,23.56,23.56,23.56,23.56,23.56,23.56,23.56,23.56,23.56,23.56,24.0,24.0,24.0,24.0,24.0,24.0,24.0,24.0,24.0,24.0,24.0,24.0,22.0,22.0,22.0,22.0,22.0,22.0,22.0,22.0,22.0,22.0,22.0,22.0,18.27,18.27,18.27,18.27,18.27,18.27,18.27,18.27,18.27,18.27,18.27,18.27,15.87,15.87,15.87,15.87,15.87,15.87,15.87,15.87,15.87,15.87,15.87,15.87,14.19,14.19,14.19,14.19,14.19,14.19,14.19,14.19,14.19,14.19,14.19,14.19,12.37,12.37,12.37,12.37,12.37,12.37,12.37,12.37,12.37,12.37,12.37,12.37,12.24,12.24,12.24,12.24,12.24,12.24,12.24,12.24,12.24,12.24,12.24,12.24,10.84,10.84,10.84,10.84,10.84,10.84,10.84,10.84,10.84,10.84,10.84,10.84,8.53,8.53,8.53,8.53,8.53,8.53,8.53,8.53,8.53,8.53,8.53,8.53,5.94,5.94,5.94,5.94,5.94,5.94,5.94,5.94,5.94,5.94,5.94,5.94,4.06,4.06,4.06,4.06,4.06,4.06,4.06,4.06,4.06,4.06,4.06,4.06,2.79,2.79,2.79,2.79,2.79,2.79,2.79,2.79,2.79,2.79,2.79,2.79,-1.29,-1.29,-1.29,-1.29,-1.29,-1.29,-1.29,-1.29,-1.29,-1.29,-1.29,-1.29],\"type\":\"box\",\"xaxis\":\"x5\",\"yaxis\":\"y5\"},{\"boxpoints\":\"suspectedoutliers\",\"name\":\"Price_wheat_ton_infl\",\"y\":[322.53,306.07,290.21,264.9,266.11,246.33,225.23,249.25,260.53,276.5,277.31,288.97,275.18,267.86,287.9,257.98,206.71,215.03,220.15,213.08,235.47,251.2,258.71,274.07,258.78,239.57,233.28,224.79,215.63,214.48,229.99,255.06,282.45,273.49,282.38,267.09,261.36,249.79,245.6,250.14,267.95,302.65,294.11,324.04,338.76,346.14,358.47,334.08,345.92,348.54,419.79,361.98,306.3,307.11,296.78,287.83,268.71,268.32,268.99,255.24,237.96,254.89,262.88,252.99,218.08,211.77,233.53,237.36,238.07,229.09,224.96,212.5,207.79,211.92,193.11,183.26,174.92,157.94,151.53,157.23,175.67,188.14,169.91,164.78,151.65,160.08,159.14,154.25,148.43,136.22,148.17,162.99,157.58,154.77,147.02,152.27,154.58,150.15,147.06,161.1,153.38,140.85,140.39,151.21,161.18,159.45,162.14,165.82,160.37,155.48,151.88,154.07,146.36,162.23,159.12,161.61,172.79,174.82,177.58,179.95,167.68,172.47,167.1,164.02,170.72,182.64,192.33,224.56,231.92,236.65,216.27,198.88,203.57,187.07,181.92,186.76,182.61,186.47,208.48,200.08,206.53,232.74,229.6,219.56,221.81,220.43,221.46,208.88,193.25,185.39,181.87,194.63,199.2,198.33,196.42,194.07,192.91,207.27,180.0,181.35,178.53,178.24,179.5,174.69,184.25,180.29,187.43,190.23,196.95,188.25,185.83,199.15,184.93,189.82,195.78,220.23,260.98,254.6,250.53,225.78,226.4,216.24,224.87,231.94,263.05,289.46,325.75,414.38,417.68,394.71,443.03,424.81,480.34,518.47,315.2,314.76,303.28,315.54,276.49,229.72,226.09,221.56,241.94,227.35,227.81,226.45,251.05,250.13,217.78,200.47,196.38,217.78,253.78,256.06,242.51,234.0,231.75,229.07,232.2,222.8,271.18,319.16,337.1,326.34,339.79,376.55,378.94,400.68,358.52,372.42,365.04,333.75,315.06,328.34,316.36,299.85,299.41,289.42,294.19,304.83,301.01,295.04,291.22,289.08,374.24,386.69,398.07,394.25,401.48,376.79,352.86,340.27,326.43,317.62,318.88,306.29,297.9,288.25,296.67,328.55,313.37,304.94,277.05,290.67,322.41,311.37,311.5,265.92,245.31,247.62,227.92,247.37,265.23,294.16,259.8,246.76,245.58,235.37,225.34,230.08,232.76,210.87,217.71,231.6,228.31,215.48,212.51,208.86,210.25,213.66,210.43,207.28,184.56,176.55,174.64,182.19,185.41,178.64,188.42,196.44,191.6,186.88,189.89,199.0,218.98,187.41,191.99,192.11,190.64,187.2,188.93,201.88,210.67,210.6,222.42,218.24,219.22,230.36,214.05,221.52,223.37,230.75,229.1,226.07,208.53,205.34,208.45,231.44,212.24,205.54,210.11,221.49,232.62,247.33,254.91,245.65,234.48,227.88,215.79,206.09,218.68,214.77,225.81,252.04,254.87,258.16,272.88,273.06,269.06,277.75,267.48,260.08,251.38,272.62,260.2,330.18,323.59,327.78],\"type\":\"box\",\"xaxis\":\"x6\",\"yaxis\":\"y6\"},{\"boxpoints\":\"suspectedoutliers\",\"name\":\"Price_rice_ton_infl\",\"y\":[527.53,525.54,527.06,519.48,509.62,528.01,513.41,487.25,473.98,478.9,485.82,478.33,468.2,423.91,379.81,340.22,348.04,369.68,384.87,379.35,472.81,566.72,590.2,638.91,616.93,484.12,483.22,418.17,383.62,406.05,453.34,466.17,470.21,474.7,467.52,483.24,489.7,499.74,491.44,508.03,569.13,603.35,592.7,628.05,667.94,594.44,596.19,626.16,624.13,609.71,554.93,563.5,579.18,607.17,569.01,556.97,530.42,534.24,541.36,590.0,575.08,535.97,504.65,537.79,535.64,530.34,472.33,448.47,440.43,418.47,446.92,470.02,485.11,483.07,508.37,519.38,531.22,529.18,524.52,524.28,487.56,440.64,453.29,478.7,447.16,409.15,376.09,390.07,405.32,413.62,390.47,366.11,346.55,364.12,373.3,372.94,372.32,348.76,331.77,306.82,302.8,291.99,288.12,276.54,289.67,285.81,284.65,277.04,277.19,262.92,246.02,246.89,252.4,254.51,252.78,259.92,256.31,260.67,269.43,283.58,288.87,279.51,281.29,292.08,299.73,295.19,281.48,275.96,275.45,276.18,275.81,290.3,287.41,284.88,281.99,286.33,294.14,287.05,281.99,285.75,283.07,279.68,286.69,299.64,300.34,334.92,339.07,326.75,322.52,324.99,336.61,331.33,343.65,365.06,391.89,390.95,395.04,398.78,404.91,400.21,388.23,376.99,385.23,388.57,390.13,378.35,382.1,384.33,397.86,400.5,398.85,406.44,412.38,416.2,412.6,408.02,397.2,390.93,402.48,401.58,404.14,408.85,406.07,407.48,414.73,421.85,420.18,416.98,422.36,438.79,462.74,464.09,574.25,733.95,1114.26,935.35,904.15,856.89,844.9,752.79,682.05,657.09,719.2,732.53,729.43,681.59,660.92,712.38,709.28,652.55,643.25,611.32,673.01,732.84,693.94,652.7,612.68,568.52,550.62,536.8,539.0,552.36,581.33,592.92,627.69,649.04,611.22,619.73,582.78,572.72,569.35,607.61,636.59,669.41,708.14,708.91,727.66,692.77,628.02,622.8,634.97,634.68,695.8,695.22,664.8,657.85,652.64,646.84,648.0,646.32,644.26,642.89,638.32,636.04,620.62,598.64,581.23,546.68,507.0,501.29,500.15,515.0,505.66,515.78,474.2,443.86,436.0,446.11,474.2,500.05,485.44,480.94,469.71,469.71,471.41,471.41,460.18,447.84,427.63,422.02,439.98,418.66,400.7,418.66,413.04,407.43,409.0,425.63,425.63,437.82,479.94,488.8,489.91,459.99,425.63,409.0,404.57,413.43,409.16,398.31,401.56,412.41,456.91,497.07,452.57,426.52,436.29,427.61,436.29,440.63,468.25,450.24,455.54,477.79,477.79,452.36,421.64,429.06,429.06,433.29,424.82,428.0,426.65,424.56,422.48,429.77,425.61,437.05,432.89,447.46,444.34,441.21,438.09,449.54,463.58,462.56,507.78,579.74,524.23,534.51,493.39,519.09,521.15,484.14,502.64,534.51,537.97,549.81,518.23,488.61,486.64,459.99,408.66,397.8,394.84,395.83,394.84,394.84],\"type\":\"box\",\"xaxis\":\"x7\",\"yaxis\":\"y7\"},{\"boxpoints\":\"suspectedoutliers\",\"name\":\"Price_corn_ton_infl\",\"y\":[215.41,221.82,205.74,207.87,210.26,194.8,183.83,185.89,180.32,179.12,179.37,173.49,173.8,178.88,185.16,181.55,170.82,186.45,184.72,185.81,196.17,214.85,224.28,228.34,221.14,214.29,203.21,196.68,201.29,175.58,172.27,175.0,173.15,171.34,183.94,186.73,186.26,191.51,190.82,195.48,209.25,221.7,220.74,227.79,245.91,251.31,259.51,264.8,279.52,313.52,322.87,346.02,335.04,335.47,314.61,246.58,216.83,199.69,199.6,196.16,201.64,211.47,206.17,196.84,185.7,175.77,187.14,186.02,199.47,194.27,188.02,187.21,185.04,186.39,174.82,173.16,170.1,164.03,143.39,140.86,155.9,160.13,156.28,155.61,150.42,153.6,150.33,147.71,149.56,134.13,136.78,138.09,137.02,136.43,139.23,144.12,147.0,146.84,147.07,148.85,130.28,116.28,116.76,124.26,131.36,137.76,150.72,142.95,138.18,135.59,132.2,126.34,125.16,137.82,139.93,135.34,130.05,134.52,138.04,136.03,134.31,132.52,128.86,133.5,139.15,145.95,161.1,168.8,162.24,161.1,158.18,153.49,153.07,152.71,152.51,155.44,155.21,140.0,145.56,150.51,152.4,156.87,160.75,162.7,173.99,180.06,188.02,180.59,173.68,147.67,146.54,137.84,132.09,132.04,134.35,131.11,128.24,136.06,131.15,129.98,132.27,146.46,138.49,131.25,138.86,129.91,139.14,135.46,141.37,138.89,142.15,146.01,144.36,150.42,153.85,160.66,187.61,217.13,211.64,211.4,227.54,218.76,195.98,205.58,212.02,188.4,193.95,204.56,210.62,219.71,231.26,255.35,271.92,289.58,300.82,354.75,327.85,290.4,288.95,226.19,202.35,195.55,214.31,202.59,204.05,208.94,223.09,222.6,187.95,188.43,186.48,207.46,212.83,204.05,204.12,197.4,194.04,191.64,199.32,186.36,199.79,214.21,251.19,287.69,290.58,305.46,313.36,346.41,343.62,377.6,364.11,367.36,355.72,366.9,349.2,324.99,324.52,305.91,316.14,323.81,325.24,317.48,312.01,309.73,385.91,384.68,371.77,372.22,372.68,357.63,346.14,345.7,352.89,319.63,337.48,340.75,319.17,272.62,236.84,230.36,227.39,225.4,222.56,235.21,249.83,249.87,244.18,227.43,205.33,198.24,183.23,183.3,200.85,200.84,196.09,194.96,195.56,193.11,186.64,187.13,201.58,182.49,185.89,192.37,186.5,184.02,178.49,176.99,176.39,182.23,187.28,199.37,179.29,166.43,164.52,168.76,168.26,168.98,173.64,176.75,172.52,169.78,172.12,171.4,170.95,161.17,159.85,161.3,161.38,161.69,165.1,173.06,182.22,186.03,189.73,174.88,165.75,172.01,164.0,169.78,170.23,177.39,173.51,176.4,172.97,168.05,178.03,203.0,197.11,170.23,163.64,173.94,173.08,173.74,176.58,173.42,166.95,151.01,147.93,152.12,156.81,153.51,170.71,191.96,195.69,204.32,231.45,242.08,242.01,264.77,301.37,288.79,274.84,253.3,232.58,236.56,245.51,261.13],\"type\":\"box\",\"xaxis\":\"x8\",\"yaxis\":\"y8\"}],                        {\"template\":{\"data\":{\"histogram2dcontour\":[{\"type\":\"histogram2dcontour\",\"colorbar\":{\"outlinewidth\":0,\"ticks\":\"\"},\"colorscale\":[[0.0,\"#0d0887\"],[0.1111111111111111,\"#46039f\"],[0.2222222222222222,\"#7201a8\"],[0.3333333333333333,\"#9c179e\"],[0.4444444444444444,\"#bd3786\"],[0.5555555555555556,\"#d8576b\"],[0.6666666666666666,\"#ed7953\"],[0.7777777777777778,\"#fb9f3a\"],[0.8888888888888888,\"#fdca26\"],[1.0,\"#f0f921\"]]}],\"choropleth\":[{\"type\":\"choropleth\",\"colorbar\":{\"outlinewidth\":0,\"ticks\":\"\"}}],\"histogram2d\":[{\"type\":\"histogram2d\",\"colorbar\":{\"outlinewidth\":0,\"ticks\":\"\"},\"colorscale\":[[0.0,\"#0d0887\"],[0.1111111111111111,\"#46039f\"],[0.2222222222222222,\"#7201a8\"],[0.3333333333333333,\"#9c179e\"],[0.4444444444444444,\"#bd3786\"],[0.5555555555555556,\"#d8576b\"],[0.6666666666666666,\"#ed7953\"],[0.7777777777777778,\"#fb9f3a\"],[0.8888888888888888,\"#fdca26\"],[1.0,\"#f0f921\"]]}],\"heatmap\":[{\"type\":\"heatmap\",\"colorbar\":{\"outlinewidth\":0,\"ticks\":\"\"},\"colorscale\":[[0.0,\"#0d0887\"],[0.1111111111111111,\"#46039f\"],[0.2222222222222222,\"#7201a8\"],[0.3333333333333333,\"#9c179e\"],[0.4444444444444444,\"#bd3786\"],[0.5555555555555556,\"#d8576b\"],[0.6666666666666666,\"#ed7953\"],[0.7777777777777778,\"#fb9f3a\"],[0.8888888888888888,\"#fdca26\"],[1.0,\"#f0f921\"]]}],\"heatmapgl\":[{\"type\":\"heatmapgl\",\"colorbar\":{\"outlinewidth\":0,\"ticks\":\"\"},\"colorscale\":[[0.0,\"#0d0887\"],[0.1111111111111111,\"#46039f\"],[0.2222222222222222,\"#7201a8\"],[0.3333333333333333,\"#9c179e\"],[0.4444444444444444,\"#bd3786\"],[0.5555555555555556,\"#d8576b\"],[0.6666666666666666,\"#ed7953\"],[0.7777777777777778,\"#fb9f3a\"],[0.8888888888888888,\"#fdca26\"],[1.0,\"#f0f921\"]]}],\"contourcarpet\":[{\"type\":\"contourcarpet\",\"colorbar\":{\"outlinewidth\":0,\"ticks\":\"\"}}],\"contour\":[{\"type\":\"contour\",\"colorbar\":{\"outlinewidth\":0,\"ticks\":\"\"},\"colorscale\":[[0.0,\"#0d0887\"],[0.1111111111111111,\"#46039f\"],[0.2222222222222222,\"#7201a8\"],[0.3333333333333333,\"#9c179e\"],[0.4444444444444444,\"#bd3786\"],[0.5555555555555556,\"#d8576b\"],[0.6666666666666666,\"#ed7953\"],[0.7777777777777778,\"#fb9f3a\"],[0.8888888888888888,\"#fdca26\"],[1.0,\"#f0f921\"]]}],\"surface\":[{\"type\":\"surface\",\"colorbar\":{\"outlinewidth\":0,\"ticks\":\"\"},\"colorscale\":[[0.0,\"#0d0887\"],[0.1111111111111111,\"#46039f\"],[0.2222222222222222,\"#7201a8\"],[0.3333333333333333,\"#9c179e\"],[0.4444444444444444,\"#bd3786\"],[0.5555555555555556,\"#d8576b\"],[0.6666666666666666,\"#ed7953\"],[0.7777777777777778,\"#fb9f3a\"],[0.8888888888888888,\"#fdca26\"],[1.0,\"#f0f921\"]]}],\"mesh3d\":[{\"type\":\"mesh3d\",\"colorbar\":{\"outlinewidth\":0,\"ticks\":\"\"}}],\"scatter\":[{\"fillpattern\":{\"fillmode\":\"overlay\",\"size\":10,\"solidity\":0.2},\"type\":\"scatter\"}],\"parcoords\":[{\"type\":\"parcoords\",\"line\":{\"colorbar\":{\"outlinewidth\":0,\"ticks\":\"\"}}}],\"scatterpolargl\":[{\"type\":\"scatterpolargl\",\"marker\":{\"colorbar\":{\"outlinewidth\":0,\"ticks\":\"\"}}}],\"bar\":[{\"error_x\":{\"color\":\"#2a3f5f\"},\"error_y\":{\"color\":\"#2a3f5f\"},\"marker\":{\"line\":{\"color\":\"#E5ECF6\",\"width\":0.5},\"pattern\":{\"fillmode\":\"overlay\",\"size\":10,\"solidity\":0.2}},\"type\":\"bar\"}],\"scattergeo\":[{\"type\":\"scattergeo\",\"marker\":{\"colorbar\":{\"outlinewidth\":0,\"ticks\":\"\"}}}],\"scatterpolar\":[{\"type\":\"scatterpolar\",\"marker\":{\"colorbar\":{\"outlinewidth\":0,\"ticks\":\"\"}}}],\"histogram\":[{\"marker\":{\"pattern\":{\"fillmode\":\"overlay\",\"size\":10,\"solidity\":0.2}},\"type\":\"histogram\"}],\"scattergl\":[{\"type\":\"scattergl\",\"marker\":{\"colorbar\":{\"outlinewidth\":0,\"ticks\":\"\"}}}],\"scatter3d\":[{\"type\":\"scatter3d\",\"line\":{\"colorbar\":{\"outlinewidth\":0,\"ticks\":\"\"}},\"marker\":{\"colorbar\":{\"outlinewidth\":0,\"ticks\":\"\"}}}],\"scattermapbox\":[{\"type\":\"scattermapbox\",\"marker\":{\"colorbar\":{\"outlinewidth\":0,\"ticks\":\"\"}}}],\"scatterternary\":[{\"type\":\"scatterternary\",\"marker\":{\"colorbar\":{\"outlinewidth\":0,\"ticks\":\"\"}}}],\"scattercarpet\":[{\"type\":\"scattercarpet\",\"marker\":{\"colorbar\":{\"outlinewidth\":0,\"ticks\":\"\"}}}],\"carpet\":[{\"aaxis\":{\"endlinecolor\":\"#2a3f5f\",\"gridcolor\":\"white\",\"linecolor\":\"white\",\"minorgridcolor\":\"white\",\"startlinecolor\":\"#2a3f5f\"},\"baxis\":{\"endlinecolor\":\"#2a3f5f\",\"gridcolor\":\"white\",\"linecolor\":\"white\",\"minorgridcolor\":\"white\",\"startlinecolor\":\"#2a3f5f\"},\"type\":\"carpet\"}],\"table\":[{\"cells\":{\"fill\":{\"color\":\"#EBF0F8\"},\"line\":{\"color\":\"white\"}},\"header\":{\"fill\":{\"color\":\"#C8D4E3\"},\"line\":{\"color\":\"white\"}},\"type\":\"table\"}],\"barpolar\":[{\"marker\":{\"line\":{\"color\":\"#E5ECF6\",\"width\":0.5},\"pattern\":{\"fillmode\":\"overlay\",\"size\":10,\"solidity\":0.2}},\"type\":\"barpolar\"}],\"pie\":[{\"automargin\":true,\"type\":\"pie\"}]},\"layout\":{\"autotypenumbers\":\"strict\",\"colorway\":[\"#636efa\",\"#EF553B\",\"#00cc96\",\"#ab63fa\",\"#FFA15A\",\"#19d3f3\",\"#FF6692\",\"#B6E880\",\"#FF97FF\",\"#FECB52\"],\"font\":{\"color\":\"#2a3f5f\"},\"hovermode\":\"closest\",\"hoverlabel\":{\"align\":\"left\"},\"paper_bgcolor\":\"white\",\"plot_bgcolor\":\"#E5ECF6\",\"polar\":{\"bgcolor\":\"#E5ECF6\",\"angularaxis\":{\"gridcolor\":\"white\",\"linecolor\":\"white\",\"ticks\":\"\"},\"radialaxis\":{\"gridcolor\":\"white\",\"linecolor\":\"white\",\"ticks\":\"\"}},\"ternary\":{\"bgcolor\":\"#E5ECF6\",\"aaxis\":{\"gridcolor\":\"white\",\"linecolor\":\"white\",\"ticks\":\"\"},\"baxis\":{\"gridcolor\":\"white\",\"linecolor\":\"white\",\"ticks\":\"\"},\"caxis\":{\"gridcolor\":\"white\",\"linecolor\":\"white\",\"ticks\":\"\"}},\"coloraxis\":{\"colorbar\":{\"outlinewidth\":0,\"ticks\":\"\"}},\"colorscale\":{\"sequential\":[[0.0,\"#0d0887\"],[0.1111111111111111,\"#46039f\"],[0.2222222222222222,\"#7201a8\"],[0.3333333333333333,\"#9c179e\"],[0.4444444444444444,\"#bd3786\"],[0.5555555555555556,\"#d8576b\"],[0.6666666666666666,\"#ed7953\"],[0.7777777777777778,\"#fb9f3a\"],[0.8888888888888888,\"#fdca26\"],[1.0,\"#f0f921\"]],\"sequentialminus\":[[0.0,\"#0d0887\"],[0.1111111111111111,\"#46039f\"],[0.2222222222222222,\"#7201a8\"],[0.3333333333333333,\"#9c179e\"],[0.4444444444444444,\"#bd3786\"],[0.5555555555555556,\"#d8576b\"],[0.6666666666666666,\"#ed7953\"],[0.7777777777777778,\"#fb9f3a\"],[0.8888888888888888,\"#fdca26\"],[1.0,\"#f0f921\"]],\"diverging\":[[0,\"#8e0152\"],[0.1,\"#c51b7d\"],[0.2,\"#de77ae\"],[0.3,\"#f1b6da\"],[0.4,\"#fde0ef\"],[0.5,\"#f7f7f7\"],[0.6,\"#e6f5d0\"],[0.7,\"#b8e186\"],[0.8,\"#7fbc41\"],[0.9,\"#4d9221\"],[1,\"#276419\"]]},\"xaxis\":{\"gridcolor\":\"white\",\"linecolor\":\"white\",\"ticks\":\"\",\"title\":{\"standoff\":15},\"zerolinecolor\":\"white\",\"automargin\":true,\"zerolinewidth\":2},\"yaxis\":{\"gridcolor\":\"white\",\"linecolor\":\"white\",\"ticks\":\"\",\"title\":{\"standoff\":15},\"zerolinecolor\":\"white\",\"automargin\":true,\"zerolinewidth\":2},\"scene\":{\"xaxis\":{\"backgroundcolor\":\"#E5ECF6\",\"gridcolor\":\"white\",\"linecolor\":\"white\",\"showbackground\":true,\"ticks\":\"\",\"zerolinecolor\":\"white\",\"gridwidth\":2},\"yaxis\":{\"backgroundcolor\":\"#E5ECF6\",\"gridcolor\":\"white\",\"linecolor\":\"white\",\"showbackground\":true,\"ticks\":\"\",\"zerolinecolor\":\"white\",\"gridwidth\":2},\"zaxis\":{\"backgroundcolor\":\"#E5ECF6\",\"gridcolor\":\"white\",\"linecolor\":\"white\",\"showbackground\":true,\"ticks\":\"\",\"zerolinecolor\":\"white\",\"gridwidth\":2}},\"shapedefaults\":{\"line\":{\"color\":\"#2a3f5f\"}},\"annotationdefaults\":{\"arrowcolor\":\"#2a3f5f\",\"arrowhead\":0,\"arrowwidth\":1},\"geo\":{\"bgcolor\":\"white\",\"landcolor\":\"#E5ECF6\",\"subunitcolor\":\"white\",\"showland\":true,\"showlakes\":true,\"lakecolor\":\"white\"},\"title\":{\"x\":0.05},\"mapbox\":{\"style\":\"light\"}}},\"xaxis\":{\"anchor\":\"y\",\"domain\":[0.0,0.103125]},\"yaxis\":{\"anchor\":\"x\",\"domain\":[0.0,1.0]},\"xaxis2\":{\"anchor\":\"y2\",\"domain\":[0.128125,0.23124999999999998]},\"yaxis2\":{\"anchor\":\"x2\",\"domain\":[0.0,1.0]},\"xaxis3\":{\"anchor\":\"y3\",\"domain\":[0.25625,0.359375]},\"yaxis3\":{\"anchor\":\"x3\",\"domain\":[0.0,1.0]},\"xaxis4\":{\"anchor\":\"y4\",\"domain\":[0.38437499999999997,0.48749999999999993]},\"yaxis4\":{\"anchor\":\"x4\",\"domain\":[0.0,1.0]},\"xaxis5\":{\"anchor\":\"y5\",\"domain\":[0.5125,0.615625]},\"yaxis5\":{\"anchor\":\"x5\",\"domain\":[0.0,1.0]},\"xaxis6\":{\"anchor\":\"y6\",\"domain\":[0.640625,0.74375]},\"yaxis6\":{\"anchor\":\"x6\",\"domain\":[0.0,1.0]},\"xaxis7\":{\"anchor\":\"y7\",\"domain\":[0.76875,0.8718750000000001]},\"yaxis7\":{\"anchor\":\"x7\",\"domain\":[0.0,1.0]},\"xaxis8\":{\"anchor\":\"y8\",\"domain\":[0.8968750000000001,1.0]},\"yaxis8\":{\"anchor\":\"x8\",\"domain\":[0.0,1.0]}},                        {\"responsive\": true}                    ).then(function(){\n",
       "                            \n",
       "var gd = document.getElementById('f30dde2b-8d16-4bd1-9ff6-64254eca6604');\n",
       "var x = new MutationObserver(function (mutations, observer) {{\n",
       "        var display = window.getComputedStyle(gd).display;\n",
       "        if (!display || display === 'none') {{\n",
       "            console.log([gd, 'removed!']);\n",
       "            Plotly.purge(gd);\n",
       "            observer.disconnect();\n",
       "        }}\n",
       "}});\n",
       "\n",
       "// Listen for the removal of the full notebook cells\n",
       "var notebookContainer = gd.closest('#notebook-container');\n",
       "if (notebookContainer) {{\n",
       "    x.observe(notebookContainer, {childList: true});\n",
       "}}\n",
       "\n",
       "// Listen for the clearing of the current output cell\n",
       "var outputEl = gd.closest('.output');\n",
       "if (outputEl) {{\n",
       "    x.observe(outputEl, {childList: true});\n",
       "}}\n",
       "\n",
       "                        })                };                });            </script>        </div>"
      ]
     },
     "metadata": {},
     "output_type": "display_data"
    }
   ],
   "source": [
    "fig=make_subplots(rows=1,cols=8)\n",
    "\n",
    "n=1\n",
    "for column in numerical_df.columns :\n",
    "    fig.add_trace(go.Box(y=numerical_df[column],name=column,boxpoints='suspectedoutliers'),row=1,col=n)\n",
    "    n=n+1\n",
    "    \n",
    "fig.show()"
   ]
  },
  {
   "cell_type": "code",
   "execution_count": 24,
   "id": "621b09d3",
   "metadata": {
    "execution": {
     "iopub.execute_input": "2023-08-10T13:58:42.990467Z",
     "iopub.status.busy": "2023-08-10T13:58:42.990072Z",
     "iopub.status.idle": "2023-08-10T13:58:42.998085Z",
     "shell.execute_reply": "2023-08-10T13:58:42.996986Z"
    },
    "papermill": {
     "duration": 0.02677,
     "end_time": "2023-08-10T13:58:43.000454",
     "exception": false,
     "start_time": "2023-08-10T13:58:42.973684",
     "status": "completed"
    },
    "tags": []
   },
   "outputs": [
    {
     "data": {
      "text/plain": [
       "(357, 9)"
      ]
     },
     "execution_count": 24,
     "metadata": {},
     "output_type": "execute_result"
    }
   ],
   "source": [
    "# drop record 'Price_rice_ton_infl' = 1114.26\n",
    "\n",
    "df=df[df['Price_rice_ton_infl'] <= 935.35]\n",
    "df.shape"
   ]
  },
  {
   "cell_type": "code",
   "execution_count": 25,
   "id": "0df89b02",
   "metadata": {
    "execution": {
     "iopub.execute_input": "2023-08-10T13:58:43.033851Z",
     "iopub.status.busy": "2023-08-10T13:58:43.033459Z",
     "iopub.status.idle": "2023-08-10T13:58:43.052881Z",
     "shell.execute_reply": "2023-08-10T13:58:43.051771Z"
    },
    "papermill": {
     "duration": 0.038857,
     "end_time": "2023-08-10T13:58:43.055158",
     "exception": false,
     "start_time": "2023-08-10T13:58:43.016301",
     "status": "completed"
    },
    "tags": []
   },
   "outputs": [
    {
     "data": {
      "text/html": [
       "<div>\n",
       "<style scoped>\n",
       "    .dataframe tbody tr th:only-of-type {\n",
       "        vertical-align: middle;\n",
       "    }\n",
       "\n",
       "    .dataframe tbody tr th {\n",
       "        vertical-align: top;\n",
       "    }\n",
       "\n",
       "    .dataframe thead th {\n",
       "        text-align: right;\n",
       "    }\n",
       "</style>\n",
       "<table border=\"1\" class=\"dataframe\">\n",
       "  <thead>\n",
       "    <tr style=\"text-align: right;\">\n",
       "      <th></th>\n",
       "      <th>Year</th>\n",
       "      <th>Price_wheat_ton</th>\n",
       "      <th>Price_rice_ton</th>\n",
       "      <th>Price_corn_ton</th>\n",
       "      <th>Inflation_rate</th>\n",
       "      <th>Price_wheat_ton_infl</th>\n",
       "      <th>Price_rice_ton_infl</th>\n",
       "      <th>Price_corn_ton_infl</th>\n",
       "    </tr>\n",
       "  </thead>\n",
       "  <tbody>\n",
       "    <tr>\n",
       "      <th>0</th>\n",
       "      <td>1992</td>\n",
       "      <td>170.12</td>\n",
       "      <td>278.25</td>\n",
       "      <td>113.62</td>\n",
       "      <td>89.59</td>\n",
       "      <td>322.53</td>\n",
       "      <td>527.53</td>\n",
       "      <td>215.41</td>\n",
       "    </tr>\n",
       "    <tr>\n",
       "      <th>1</th>\n",
       "      <td>1992</td>\n",
       "      <td>161.44</td>\n",
       "      <td>277.20</td>\n",
       "      <td>117.00</td>\n",
       "      <td>89.59</td>\n",
       "      <td>306.07</td>\n",
       "      <td>525.54</td>\n",
       "      <td>221.82</td>\n",
       "    </tr>\n",
       "    <tr>\n",
       "      <th>2</th>\n",
       "      <td>1992</td>\n",
       "      <td>153.07</td>\n",
       "      <td>278.00</td>\n",
       "      <td>108.52</td>\n",
       "      <td>89.59</td>\n",
       "      <td>290.21</td>\n",
       "      <td>527.06</td>\n",
       "      <td>205.74</td>\n",
       "    </tr>\n",
       "    <tr>\n",
       "      <th>3</th>\n",
       "      <td>1992</td>\n",
       "      <td>139.72</td>\n",
       "      <td>274.00</td>\n",
       "      <td>109.64</td>\n",
       "      <td>89.59</td>\n",
       "      <td>264.90</td>\n",
       "      <td>519.48</td>\n",
       "      <td>207.87</td>\n",
       "    </tr>\n",
       "    <tr>\n",
       "      <th>4</th>\n",
       "      <td>1992</td>\n",
       "      <td>140.36</td>\n",
       "      <td>268.80</td>\n",
       "      <td>110.90</td>\n",
       "      <td>89.59</td>\n",
       "      <td>266.11</td>\n",
       "      <td>509.62</td>\n",
       "      <td>210.26</td>\n",
       "    </tr>\n",
       "  </tbody>\n",
       "</table>\n",
       "</div>"
      ],
      "text/plain": [
       "   Year  Price_wheat_ton  Price_rice_ton  Price_corn_ton  Inflation_rate  \\\n",
       "0  1992           170.12          278.25          113.62           89.59   \n",
       "1  1992           161.44          277.20          117.00           89.59   \n",
       "2  1992           153.07          278.00          108.52           89.59   \n",
       "3  1992           139.72          274.00          109.64           89.59   \n",
       "4  1992           140.36          268.80          110.90           89.59   \n",
       "\n",
       "   Price_wheat_ton_infl  Price_rice_ton_infl  Price_corn_ton_infl  \n",
       "0                322.53               527.53               215.41  \n",
       "1                306.07               525.54               221.82  \n",
       "2                290.21               527.06               205.74  \n",
       "3                264.90               519.48               207.87  \n",
       "4                266.11               509.62               210.26  "
      ]
     },
     "execution_count": 25,
     "metadata": {},
     "output_type": "execute_result"
    }
   ],
   "source": [
    "numerical_df=df.drop(columns='Month',axis=1)\n",
    "numerical_df.head()"
   ]
  },
  {
   "cell_type": "code",
   "execution_count": 26,
   "id": "196bf394",
   "metadata": {
    "execution": {
     "iopub.execute_input": "2023-08-10T13:58:43.088472Z",
     "iopub.status.busy": "2023-08-10T13:58:43.088034Z",
     "iopub.status.idle": "2023-08-10T13:58:43.137035Z",
     "shell.execute_reply": "2023-08-10T13:58:43.135844Z"
    },
    "papermill": {
     "duration": 0.068519,
     "end_time": "2023-08-10T13:58:43.139547",
     "exception": false,
     "start_time": "2023-08-10T13:58:43.071028",
     "status": "completed"
    },
    "tags": []
   },
   "outputs": [
    {
     "data": {
      "text/html": [
       "<div>                            <div id=\"764e8a59-a893-4a96-8d44-678ee046d209\" class=\"plotly-graph-div\" style=\"height:525px; width:100%;\"></div>            <script type=\"text/javascript\">                require([\"plotly\"], function(Plotly) {                    window.PLOTLYENV=window.PLOTLYENV || {};                                    if (document.getElementById(\"764e8a59-a893-4a96-8d44-678ee046d209\")) {                    Plotly.newPlot(                        \"764e8a59-a893-4a96-8d44-678ee046d209\",                        [{\"boxpoints\":\"suspectedoutliers\",\"name\":\"Year\",\"y\":[1992,1992,1992,1992,1992,1992,1992,1992,1992,1992,1992,1993,1993,1993,1993,1993,1993,1993,1993,1993,1993,1993,1993,1994,1994,1994,1994,1994,1994,1994,1994,1994,1994,1994,1994,1995,1995,1995,1995,1995,1995,1995,1995,1995,1995,1995,1995,1996,1996,1996,1996,1996,1996,1996,1996,1996,1996,1996,1996,1997,1997,1997,1997,1997,1997,1997,1997,1997,1997,1997,1997,1998,1998,1998,1998,1998,1998,1998,1998,1998,1998,1998,1998,1999,1999,1999,1999,1999,1999,1999,1999,1999,1999,1999,1999,2000,2000,2000,2000,2000,2000,2000,2000,2000,2000,2000,2000,2001,2001,2001,2001,2001,2001,2001,2001,2001,2001,2001,2001,2002,2002,2002,2002,2002,2002,2002,2002,2002,2002,2002,2002,2003,2003,2003,2003,2003,2003,2003,2003,2003,2003,2003,2003,2004,2004,2004,2004,2004,2004,2004,2004,2004,2004,2004,2004,2005,2005,2005,2005,2005,2005,2005,2005,2005,2005,2005,2005,2006,2006,2006,2006,2006,2006,2006,2006,2006,2006,2006,2006,2007,2007,2007,2007,2007,2007,2007,2007,2007,2007,2007,2007,2008,2008,2008,2008,2008,2008,2008,2008,2008,2008,2009,2009,2009,2009,2009,2009,2009,2009,2009,2009,2009,2009,2010,2010,2010,2010,2010,2010,2010,2010,2010,2010,2010,2010,2011,2011,2011,2011,2011,2011,2011,2011,2011,2011,2011,2011,2012,2012,2012,2012,2012,2012,2012,2012,2012,2012,2012,2012,2013,2013,2013,2013,2013,2013,2013,2013,2013,2013,2013,2013,2014,2014,2014,2014,2014,2014,2014,2014,2014,2014,2014,2014,2015,2015,2015,2015,2015,2015,2015,2015,2015,2015,2015,2015,2016,2016,2016,2016,2016,2016,2016,2016,2016,2016,2016,2016,2017,2017,2017,2017,2017,2017,2017,2017,2017,2017,2017,2017,2018,2018,2018,2018,2018,2018,2018,2018,2018,2018,2018,2018,2019,2019,2019,2019,2019,2019,2019,2019,2019,2019,2019,2019,2020,2020,2020,2020,2020,2020,2020,2020,2020,2020,2020,2020,2021,2021,2021,2021,2021,2021,2021,2021,2021,2021,2021,2021],\"type\":\"box\",\"xaxis\":\"x\",\"yaxis\":\"y\"},{\"boxpoints\":\"suspectedoutliers\",\"name\":\"Price_wheat_ton\",\"y\":[170.12,161.44,153.07,139.72,140.36,129.93,118.8,131.47,137.42,145.84,146.27,156.92,149.43,145.46,156.34,140.09,112.25,116.77,119.55,115.71,127.87,136.41,140.49,152.71,144.19,133.49,129.98,125.25,120.15,119.51,128.15,142.12,157.38,152.39,157.34,152.99,149.71,143.08,140.68,143.28,153.48,173.36,168.47,185.61,194.04,198.27,205.33,196.98,203.96,205.51,247.52,213.43,180.6,181.08,174.99,169.71,158.44,158.21,158.6,154.01,143.58,153.8,158.62,152.65,131.59,127.78,140.91,143.22,143.65,138.23,135.74,130.21,127.32,129.85,118.33,112.29,107.18,96.78,92.85,96.34,107.64,115.28,104.11,103.18,94.96,100.24,99.65,96.59,92.94,85.3,92.78,102.06,98.67,96.91,92.06,98.56,100.06,97.19,95.19,104.28,99.28,91.17,90.87,97.88,104.33,103.21,104.95,110.37,106.74,103.49,101.09,102.55,97.42,107.98,105.91,107.57,115.01,116.36,118.2,121.68,113.38,116.62,112.99,110.91,115.44,123.5,130.05,151.84,156.82,160.02,146.24,137.53,140.77,129.36,125.8,129.15,126.28,128.95,144.17,138.36,142.82,160.94,158.77,155.89,157.49,156.51,157.24,148.31,137.21,131.63,129.13,138.19,141.44,140.82,139.46,142.47,141.62,152.16,132.14,133.13,131.06,130.85,131.77,128.24,135.26,132.35,137.59,144.16,149.25,142.66,140.82,150.92,140.14,143.85,148.36,166.89,197.77,192.94,189.85,175.98,176.46,168.54,175.27,180.78,205.03,225.61,253.9,322.98,325.55,307.65,345.31,343.81,388.75,419.61,254.74,245.45,255.37,223.77,185.92,182.98,179.31,195.11,183.35,183.72,182.62,202.46,201.72,175.63,161.67,158.37,175.63,204.66,206.5,198.78,191.8,189.96,187.76,190.33,182.62,222.28,261.61,276.31,267.49,278.52,308.65,320.4,338.78,303.14,314.89,308.65,282.19,266.39,277.62,267.49,253.53,253.16,244.71,253.9,263.08,259.78,254.63,251.33,249.49,322.98,333.73,343.55,340.25,346.49,325.18,309.01,297.99,285.87,278.15,279.25,268.23,260.88,252.43,259.8,287.72,274.43,267.05,246.55,258.67,286.92,277.09,277.21,236.65,218.31,220.36,202.83,220.14,236.03,261.78,231.47,219.85,218.8,209.7,200.77,204.99,207.38,187.87,193.97,206.34,203.41,191.98,191.73,188.43,189.69,192.76,189.85,187.01,166.51,159.28,157.56,164.37,167.28,161.17,173.61,181.0,176.54,172.19,174.97,183.36,201.77,172.68,176.9,177.01,175.66,172.49,178.34,190.56,198.86,198.79,209.95,206.0,206.93,217.44,202.05,209.1,210.85,217.81,220.16,217.25,200.39,197.33,200.32,222.41,203.96,197.52,201.91,212.85,223.54,237.68,247.99,238.98,228.12,221.69,209.93,200.5,212.74,208.94,219.68,245.2,247.95,251.15,276.45,276.63,272.58,281.38,270.98,263.48,254.67,276.18,263.6,334.5,327.82,332.06],\"type\":\"box\",\"xaxis\":\"x2\",\"yaxis\":\"y2\"},{\"boxpoints\":\"suspectedoutliers\",\"name\":\"Price_rice_ton\",\"y\":[278.25,277.2,278.0,274.0,268.8,278.5,270.8,257.0,250.0,252.6,256.25,259.75,254.25,230.2,206.25,184.75,189.0,200.75,209.0,206.0,256.75,307.75,320.5,356.0,343.75,269.75,269.25,233.0,213.75,226.25,252.6,259.75,262.0,264.5,260.5,276.8,280.5,286.25,281.5,291.0,326.0,345.6,339.5,359.75,382.6,340.5,341.5,369.2,368.0,359.5,327.2,332.25,341.5,358.0,335.5,328.4,312.75,315.0,319.2,356.0,347.0,323.4,304.5,324.5,323.2,320.0,285.0,270.6,265.75,252.5,269.67,288.0,297.25,296.0,311.5,318.25,325.5,324.25,321.4,321.25,298.75,270.0,277.75,299.75,280.0,256.2,235.5,244.25,253.8,259.0,244.5,229.25,217.0,228.0,233.75,241.4,241.0,225.75,214.75,198.6,196.0,189.0,186.5,179.0,187.5,185.0,184.25,184.4,184.5,175.0,163.75,164.33,168.0,169.4,168.25,173.0,170.6,173.5,179.33,191.75,195.33,189.0,190.2,197.5,202.67,199.6,190.33,186.6,186.25,186.75,186.5,200.75,198.75,197.0,195.0,198.0,203.4,198.5,195.0,197.6,195.75,193.4,198.25,212.75,213.25,237.8,240.75,232.0,229.0,230.75,239.0,235.25,244.0,259.2,278.25,287.0,290.0,292.75,297.25,293.8,285.0,276.75,282.8,285.25,286.4,277.75,280.5,291.25,301.5,303.5,302.25,308.0,312.5,315.4,312.67,309.2,301.0,296.25,305.0,313.0,315.0,318.67,316.5,317.6,323.25,328.8,327.5,325.0,329.2,342.0,360.67,375.6,464.75,594.0,757.0,731.75,693.5,683.8,609.25,552.0,531.8,580.0,590.75,588.25,549.67,533.0,574.5,572.0,526.25,518.75,493.0,542.75,591.0,568.8,535.0,502.2,466.0,451.33,440.0,441.8,452.75,476.5,486.0,514.5,532.0,516.8,524.0,492.75,484.25,481.4,513.75,538.25,566.0,598.75,599.4,615.25,585.75,542.0,537.5,548.0,547.75,600.5,600.0,573.75,567.75,563.25,558.25,559.25,557.8,564.2,563.0,559.0,557.0,543.5,524.25,509.0,478.75,444.0,439.0,438.0,451.0,450.0,459.0,422.0,395.0,388.0,397.0,422.0,445.0,432.0,428.0,418.0,418.0,420.0,420.0,410.0,399.0,381.0,376.0,392.0,373.0,357.0,373.0,368.0,363.0,369.0,384.0,384.0,395.0,433.0,441.0,442.0,415.0,384.0,369.0,365.0,373.0,377.0,367.0,370.0,380.0,421.0,458.0,417.0,393.0,402.0,394.0,402.0,406.0,442.0,425.0,430.0,451.0,451.0,427.0,398.0,405.0,405.0,409.0,401.0,404.0,410.0,408.0,406.0,413.0,409.0,420.0,416.0,430.0,427.0,424.0,421.0,432.0,451.0,450.0,494.0,564.0,510.0,520.0,480.0,505.0,507.0,471.0,489.0,520.0,545.0,557.0,525.0,495.0,493.0,466.0,414.0,403.0,400.0,401.0,400.0,400.0],\"type\":\"box\",\"xaxis\":\"x3\",\"yaxis\":\"y3\"},{\"boxpoints\":\"suspectedoutliers\",\"name\":\"Price_corn_ton\",\"y\":[113.62,117.0,108.52,109.64,110.9,102.75,96.96,98.05,95.11,94.48,94.61,94.21,94.38,97.14,100.55,98.59,92.76,101.25,100.31,100.9,106.53,116.67,121.79,127.23,123.22,119.4,113.23,109.59,112.16,97.83,95.99,97.51,96.48,95.47,102.49,106.96,106.69,109.7,109.3,111.97,119.86,126.99,126.44,130.48,140.86,143.95,148.65,156.13,164.81,184.86,190.37,204.02,197.55,197.8,185.5,145.39,127.85,117.74,117.69,118.36,121.67,127.6,124.4,118.77,112.05,106.06,112.92,112.24,120.36,117.22,113.45,114.71,113.38,114.21,107.12,106.1,104.23,100.51,87.86,86.31,95.53,98.12,95.76,97.44,94.19,96.18,94.13,92.49,93.65,83.99,85.65,86.47,85.8,85.43,87.18,93.29,95.15,95.05,95.2,96.35,84.33,75.27,75.58,80.43,85.03,89.17,97.56,95.15,91.97,90.25,87.99,84.09,83.31,91.73,93.14,90.08,86.56,89.54,91.88,91.98,90.82,89.61,87.13,90.27,94.09,98.69,108.93,114.14,109.7,108.93,106.96,106.14,105.85,105.6,105.46,107.49,107.33,96.81,100.66,104.08,105.39,108.48,111.16,115.52,123.54,127.85,133.5,128.22,123.32,104.85,104.05,97.87,93.79,93.75,95.39,96.25,94.14,99.88,96.28,95.42,97.1,107.52,101.67,96.35,101.94,95.37,102.14,102.65,107.13,105.25,107.72,110.65,109.4,113.99,116.59,121.75,142.17,164.54,160.38,164.77,177.35,170.51,152.75,160.23,165.25,146.84,151.17,159.44,164.16,171.25,180.25,206.66,220.07,234.36,287.11,265.34,235.03,233.85,183.06,163.77,158.26,172.83,163.38,164.56,168.5,179.91,179.52,151.57,151.96,150.39,167.31,171.64,164.56,167.31,161.8,159.05,157.08,163.38,152.75,163.76,175.58,205.89,235.81,238.18,250.38,264.95,292.9,290.54,319.27,307.86,310.61,300.77,310.22,295.26,274.79,274.39,258.65,272.84,279.46,280.69,274.0,269.28,267.31,333.05,331.99,320.85,321.24,321.64,308.65,303.13,302.74,309.04,279.91,295.54,298.41,279.51,238.74,207.41,201.73,199.13,197.39,198.06,209.32,222.33,222.36,217.3,202.39,182.73,176.42,163.06,163.12,178.74,178.73,174.71,173.7,174.23,172.05,166.29,166.72,179.6,162.59,165.62,171.39,166.16,163.95,161.03,159.68,159.14,164.41,168.96,179.87,161.76,150.15,148.43,152.26,151.8,152.45,159.99,162.86,158.96,156.44,158.59,157.93,157.51,148.5,147.29,148.62,148.7,148.98,155.84,163.36,172.0,175.6,179.09,165.07,156.46,162.37,154.8,160.26,160.69,167.44,166.74,169.52,166.22,161.49,171.08,195.08,189.42,163.59,157.26,167.15,166.33,166.96,171.79,168.71,162.42,146.91,143.91,147.99,152.55,149.34,166.08,186.75,190.38,198.77,234.47,245.24,245.17,268.23,305.31,292.56,278.43,256.61,235.62,239.65,248.72,264.54],\"type\":\"box\",\"xaxis\":\"x4\",\"yaxis\":\"y4\"},{\"boxpoints\":\"suspectedoutliers\",\"name\":\"Inflation_rate\",\"y\":[89.59,89.59,89.59,89.59,89.59,89.59,89.59,89.59,89.59,89.59,89.59,84.15,84.15,84.15,84.15,84.15,84.15,84.15,84.15,84.15,84.15,84.15,84.15,79.47,79.47,79.47,79.47,79.47,79.47,79.47,79.47,79.47,79.47,79.47,79.47,74.58,74.58,74.58,74.58,74.58,74.58,74.58,74.58,74.58,74.58,74.58,74.58,69.6,69.6,69.6,69.6,69.6,69.6,69.6,69.6,69.6,69.6,69.6,69.6,65.73,65.73,65.73,65.73,65.73,65.73,65.73,65.73,65.73,65.73,65.73,65.73,63.2,63.2,63.2,63.2,63.2,63.2,63.2,63.2,63.2,63.2,63.2,63.2,59.7,59.7,59.7,59.7,59.7,59.7,59.7,59.7,59.7,59.7,59.7,59.7,54.49,54.49,54.49,54.49,54.49,54.49,54.49,54.49,54.49,54.49,54.49,54.49,50.24,50.24,50.24,50.24,50.24,50.24,50.24,50.24,50.24,50.24,50.24,50.24,47.89,47.89,47.89,47.89,47.89,47.89,47.89,47.89,47.89,47.89,47.89,47.89,44.61,44.61,44.61,44.61,44.61,44.61,44.61,44.61,44.61,44.61,44.61,44.61,40.84,40.84,40.84,40.84,40.84,40.84,40.84,40.84,40.84,40.84,40.84,40.84,36.22,36.22,36.22,36.22,36.22,36.22,36.22,36.22,36.22,36.22,36.22,36.22,31.96,31.96,31.96,31.96,31.96,31.96,31.96,31.96,31.96,31.96,31.96,31.96,28.3,28.3,28.3,28.3,28.3,28.3,28.3,28.3,28.3,28.3,28.3,28.3,23.56,23.56,23.56,23.56,23.56,23.56,23.56,23.56,23.56,23.56,24.0,24.0,24.0,24.0,24.0,24.0,24.0,24.0,24.0,24.0,24.0,24.0,22.0,22.0,22.0,22.0,22.0,22.0,22.0,22.0,22.0,22.0,22.0,22.0,18.27,18.27,18.27,18.27,18.27,18.27,18.27,18.27,18.27,18.27,18.27,18.27,15.87,15.87,15.87,15.87,15.87,15.87,15.87,15.87,15.87,15.87,15.87,15.87,14.19,14.19,14.19,14.19,14.19,14.19,14.19,14.19,14.19,14.19,14.19,14.19,12.37,12.37,12.37,12.37,12.37,12.37,12.37,12.37,12.37,12.37,12.37,12.37,12.24,12.24,12.24,12.24,12.24,12.24,12.24,12.24,12.24,12.24,12.24,12.24,10.84,10.84,10.84,10.84,10.84,10.84,10.84,10.84,10.84,10.84,10.84,10.84,8.53,8.53,8.53,8.53,8.53,8.53,8.53,8.53,8.53,8.53,8.53,8.53,5.94,5.94,5.94,5.94,5.94,5.94,5.94,5.94,5.94,5.94,5.94,5.94,4.06,4.06,4.06,4.06,4.06,4.06,4.06,4.06,4.06,4.06,4.06,4.06,2.79,2.79,2.79,2.79,2.79,2.79,2.79,2.79,2.79,2.79,2.79,2.79,-1.29,-1.29,-1.29,-1.29,-1.29,-1.29,-1.29,-1.29,-1.29,-1.29,-1.29,-1.29],\"type\":\"box\",\"xaxis\":\"x5\",\"yaxis\":\"y5\"},{\"boxpoints\":\"suspectedoutliers\",\"name\":\"Price_wheat_ton_infl\",\"y\":[322.53,306.07,290.21,264.9,266.11,246.33,225.23,249.25,260.53,276.5,277.31,288.97,275.18,267.86,287.9,257.98,206.71,215.03,220.15,213.08,235.47,251.2,258.71,274.07,258.78,239.57,233.28,224.79,215.63,214.48,229.99,255.06,282.45,273.49,282.38,267.09,261.36,249.79,245.6,250.14,267.95,302.65,294.11,324.04,338.76,346.14,358.47,334.08,345.92,348.54,419.79,361.98,306.3,307.11,296.78,287.83,268.71,268.32,268.99,255.24,237.96,254.89,262.88,252.99,218.08,211.77,233.53,237.36,238.07,229.09,224.96,212.5,207.79,211.92,193.11,183.26,174.92,157.94,151.53,157.23,175.67,188.14,169.91,164.78,151.65,160.08,159.14,154.25,148.43,136.22,148.17,162.99,157.58,154.77,147.02,152.27,154.58,150.15,147.06,161.1,153.38,140.85,140.39,151.21,161.18,159.45,162.14,165.82,160.37,155.48,151.88,154.07,146.36,162.23,159.12,161.61,172.79,174.82,177.58,179.95,167.68,172.47,167.1,164.02,170.72,182.64,192.33,224.56,231.92,236.65,216.27,198.88,203.57,187.07,181.92,186.76,182.61,186.47,208.48,200.08,206.53,232.74,229.6,219.56,221.81,220.43,221.46,208.88,193.25,185.39,181.87,194.63,199.2,198.33,196.42,194.07,192.91,207.27,180.0,181.35,178.53,178.24,179.5,174.69,184.25,180.29,187.43,190.23,196.95,188.25,185.83,199.15,184.93,189.82,195.78,220.23,260.98,254.6,250.53,225.78,226.4,216.24,224.87,231.94,263.05,289.46,325.75,414.38,417.68,394.71,443.03,424.81,480.34,518.47,314.76,303.28,315.54,276.49,229.72,226.09,221.56,241.94,227.35,227.81,226.45,251.05,250.13,217.78,200.47,196.38,217.78,253.78,256.06,242.51,234.0,231.75,229.07,232.2,222.8,271.18,319.16,337.1,326.34,339.79,376.55,378.94,400.68,358.52,372.42,365.04,333.75,315.06,328.34,316.36,299.85,299.41,289.42,294.19,304.83,301.01,295.04,291.22,289.08,374.24,386.69,398.07,394.25,401.48,376.79,352.86,340.27,326.43,317.62,318.88,306.29,297.9,288.25,296.67,328.55,313.37,304.94,277.05,290.67,322.41,311.37,311.5,265.92,245.31,247.62,227.92,247.37,265.23,294.16,259.8,246.76,245.58,235.37,225.34,230.08,232.76,210.87,217.71,231.6,228.31,215.48,212.51,208.86,210.25,213.66,210.43,207.28,184.56,176.55,174.64,182.19,185.41,178.64,188.42,196.44,191.6,186.88,189.89,199.0,218.98,187.41,191.99,192.11,190.64,187.2,188.93,201.88,210.67,210.6,222.42,218.24,219.22,230.36,214.05,221.52,223.37,230.75,229.1,226.07,208.53,205.34,208.45,231.44,212.24,205.54,210.11,221.49,232.62,247.33,254.91,245.65,234.48,227.88,215.79,206.09,218.68,214.77,225.81,252.04,254.87,258.16,272.88,273.06,269.06,277.75,267.48,260.08,251.38,272.62,260.2,330.18,323.59,327.78],\"type\":\"box\",\"xaxis\":\"x6\",\"yaxis\":\"y6\"},{\"boxpoints\":\"suspectedoutliers\",\"name\":\"Price_rice_ton_infl\",\"y\":[527.53,525.54,527.06,519.48,509.62,528.01,513.41,487.25,473.98,478.9,485.82,478.33,468.2,423.91,379.81,340.22,348.04,369.68,384.87,379.35,472.81,566.72,590.2,638.91,616.93,484.12,483.22,418.17,383.62,406.05,453.34,466.17,470.21,474.7,467.52,483.24,489.7,499.74,491.44,508.03,569.13,603.35,592.7,628.05,667.94,594.44,596.19,626.16,624.13,609.71,554.93,563.5,579.18,607.17,569.01,556.97,530.42,534.24,541.36,590.0,575.08,535.97,504.65,537.79,535.64,530.34,472.33,448.47,440.43,418.47,446.92,470.02,485.11,483.07,508.37,519.38,531.22,529.18,524.52,524.28,487.56,440.64,453.29,478.7,447.16,409.15,376.09,390.07,405.32,413.62,390.47,366.11,346.55,364.12,373.3,372.94,372.32,348.76,331.77,306.82,302.8,291.99,288.12,276.54,289.67,285.81,284.65,277.04,277.19,262.92,246.02,246.89,252.4,254.51,252.78,259.92,256.31,260.67,269.43,283.58,288.87,279.51,281.29,292.08,299.73,295.19,281.48,275.96,275.45,276.18,275.81,290.3,287.41,284.88,281.99,286.33,294.14,287.05,281.99,285.75,283.07,279.68,286.69,299.64,300.34,334.92,339.07,326.75,322.52,324.99,336.61,331.33,343.65,365.06,391.89,390.95,395.04,398.78,404.91,400.21,388.23,376.99,385.23,388.57,390.13,378.35,382.1,384.33,397.86,400.5,398.85,406.44,412.38,416.2,412.6,408.02,397.2,390.93,402.48,401.58,404.14,408.85,406.07,407.48,414.73,421.85,420.18,416.98,422.36,438.79,462.74,464.09,574.25,733.95,935.35,904.15,856.89,844.9,752.79,682.05,657.09,719.2,732.53,729.43,681.59,660.92,712.38,709.28,652.55,643.25,611.32,673.01,732.84,693.94,652.7,612.68,568.52,550.62,536.8,539.0,552.36,581.33,592.92,627.69,649.04,611.22,619.73,582.78,572.72,569.35,607.61,636.59,669.41,708.14,708.91,727.66,692.77,628.02,622.8,634.97,634.68,695.8,695.22,664.8,657.85,652.64,646.84,648.0,646.32,644.26,642.89,638.32,636.04,620.62,598.64,581.23,546.68,507.0,501.29,500.15,515.0,505.66,515.78,474.2,443.86,436.0,446.11,474.2,500.05,485.44,480.94,469.71,469.71,471.41,471.41,460.18,447.84,427.63,422.02,439.98,418.66,400.7,418.66,413.04,407.43,409.0,425.63,425.63,437.82,479.94,488.8,489.91,459.99,425.63,409.0,404.57,413.43,409.16,398.31,401.56,412.41,456.91,497.07,452.57,426.52,436.29,427.61,436.29,440.63,468.25,450.24,455.54,477.79,477.79,452.36,421.64,429.06,429.06,433.29,424.82,428.0,426.65,424.56,422.48,429.77,425.61,437.05,432.89,447.46,444.34,441.21,438.09,449.54,463.58,462.56,507.78,579.74,524.23,534.51,493.39,519.09,521.15,484.14,502.64,534.51,537.97,549.81,518.23,488.61,486.64,459.99,408.66,397.8,394.84,395.83,394.84,394.84],\"type\":\"box\",\"xaxis\":\"x7\",\"yaxis\":\"y7\"},{\"boxpoints\":\"suspectedoutliers\",\"name\":\"Price_corn_ton_infl\",\"y\":[215.41,221.82,205.74,207.87,210.26,194.8,183.83,185.89,180.32,179.12,179.37,173.49,173.8,178.88,185.16,181.55,170.82,186.45,184.72,185.81,196.17,214.85,224.28,228.34,221.14,214.29,203.21,196.68,201.29,175.58,172.27,175.0,173.15,171.34,183.94,186.73,186.26,191.51,190.82,195.48,209.25,221.7,220.74,227.79,245.91,251.31,259.51,264.8,279.52,313.52,322.87,346.02,335.04,335.47,314.61,246.58,216.83,199.69,199.6,196.16,201.64,211.47,206.17,196.84,185.7,175.77,187.14,186.02,199.47,194.27,188.02,187.21,185.04,186.39,174.82,173.16,170.1,164.03,143.39,140.86,155.9,160.13,156.28,155.61,150.42,153.6,150.33,147.71,149.56,134.13,136.78,138.09,137.02,136.43,139.23,144.12,147.0,146.84,147.07,148.85,130.28,116.28,116.76,124.26,131.36,137.76,150.72,142.95,138.18,135.59,132.2,126.34,125.16,137.82,139.93,135.34,130.05,134.52,138.04,136.03,134.31,132.52,128.86,133.5,139.15,145.95,161.1,168.8,162.24,161.1,158.18,153.49,153.07,152.71,152.51,155.44,155.21,140.0,145.56,150.51,152.4,156.87,160.75,162.7,173.99,180.06,188.02,180.59,173.68,147.67,146.54,137.84,132.09,132.04,134.35,131.11,128.24,136.06,131.15,129.98,132.27,146.46,138.49,131.25,138.86,129.91,139.14,135.46,141.37,138.89,142.15,146.01,144.36,150.42,153.85,160.66,187.61,217.13,211.64,211.4,227.54,218.76,195.98,205.58,212.02,188.4,193.95,204.56,210.62,219.71,231.26,255.35,271.92,289.58,354.75,327.85,290.4,288.95,226.19,202.35,195.55,214.31,202.59,204.05,208.94,223.09,222.6,187.95,188.43,186.48,207.46,212.83,204.05,204.12,197.4,194.04,191.64,199.32,186.36,199.79,214.21,251.19,287.69,290.58,305.46,313.36,346.41,343.62,377.6,364.11,367.36,355.72,366.9,349.2,324.99,324.52,305.91,316.14,323.81,325.24,317.48,312.01,309.73,385.91,384.68,371.77,372.22,372.68,357.63,346.14,345.7,352.89,319.63,337.48,340.75,319.17,272.62,236.84,230.36,227.39,225.4,222.56,235.21,249.83,249.87,244.18,227.43,205.33,198.24,183.23,183.3,200.85,200.84,196.09,194.96,195.56,193.11,186.64,187.13,201.58,182.49,185.89,192.37,186.5,184.02,178.49,176.99,176.39,182.23,187.28,199.37,179.29,166.43,164.52,168.76,168.26,168.98,173.64,176.75,172.52,169.78,172.12,171.4,170.95,161.17,159.85,161.3,161.38,161.69,165.1,173.06,182.22,186.03,189.73,174.88,165.75,172.01,164.0,169.78,170.23,177.39,173.51,176.4,172.97,168.05,178.03,203.0,197.11,170.23,163.64,173.94,173.08,173.74,176.58,173.42,166.95,151.01,147.93,152.12,156.81,153.51,170.71,191.96,195.69,204.32,231.45,242.08,242.01,264.77,301.37,288.79,274.84,253.3,232.58,236.56,245.51,261.13],\"type\":\"box\",\"xaxis\":\"x8\",\"yaxis\":\"y8\"}],                        {\"template\":{\"data\":{\"histogram2dcontour\":[{\"type\":\"histogram2dcontour\",\"colorbar\":{\"outlinewidth\":0,\"ticks\":\"\"},\"colorscale\":[[0.0,\"#0d0887\"],[0.1111111111111111,\"#46039f\"],[0.2222222222222222,\"#7201a8\"],[0.3333333333333333,\"#9c179e\"],[0.4444444444444444,\"#bd3786\"],[0.5555555555555556,\"#d8576b\"],[0.6666666666666666,\"#ed7953\"],[0.7777777777777778,\"#fb9f3a\"],[0.8888888888888888,\"#fdca26\"],[1.0,\"#f0f921\"]]}],\"choropleth\":[{\"type\":\"choropleth\",\"colorbar\":{\"outlinewidth\":0,\"ticks\":\"\"}}],\"histogram2d\":[{\"type\":\"histogram2d\",\"colorbar\":{\"outlinewidth\":0,\"ticks\":\"\"},\"colorscale\":[[0.0,\"#0d0887\"],[0.1111111111111111,\"#46039f\"],[0.2222222222222222,\"#7201a8\"],[0.3333333333333333,\"#9c179e\"],[0.4444444444444444,\"#bd3786\"],[0.5555555555555556,\"#d8576b\"],[0.6666666666666666,\"#ed7953\"],[0.7777777777777778,\"#fb9f3a\"],[0.8888888888888888,\"#fdca26\"],[1.0,\"#f0f921\"]]}],\"heatmap\":[{\"type\":\"heatmap\",\"colorbar\":{\"outlinewidth\":0,\"ticks\":\"\"},\"colorscale\":[[0.0,\"#0d0887\"],[0.1111111111111111,\"#46039f\"],[0.2222222222222222,\"#7201a8\"],[0.3333333333333333,\"#9c179e\"],[0.4444444444444444,\"#bd3786\"],[0.5555555555555556,\"#d8576b\"],[0.6666666666666666,\"#ed7953\"],[0.7777777777777778,\"#fb9f3a\"],[0.8888888888888888,\"#fdca26\"],[1.0,\"#f0f921\"]]}],\"heatmapgl\":[{\"type\":\"heatmapgl\",\"colorbar\":{\"outlinewidth\":0,\"ticks\":\"\"},\"colorscale\":[[0.0,\"#0d0887\"],[0.1111111111111111,\"#46039f\"],[0.2222222222222222,\"#7201a8\"],[0.3333333333333333,\"#9c179e\"],[0.4444444444444444,\"#bd3786\"],[0.5555555555555556,\"#d8576b\"],[0.6666666666666666,\"#ed7953\"],[0.7777777777777778,\"#fb9f3a\"],[0.8888888888888888,\"#fdca26\"],[1.0,\"#f0f921\"]]}],\"contourcarpet\":[{\"type\":\"contourcarpet\",\"colorbar\":{\"outlinewidth\":0,\"ticks\":\"\"}}],\"contour\":[{\"type\":\"contour\",\"colorbar\":{\"outlinewidth\":0,\"ticks\":\"\"},\"colorscale\":[[0.0,\"#0d0887\"],[0.1111111111111111,\"#46039f\"],[0.2222222222222222,\"#7201a8\"],[0.3333333333333333,\"#9c179e\"],[0.4444444444444444,\"#bd3786\"],[0.5555555555555556,\"#d8576b\"],[0.6666666666666666,\"#ed7953\"],[0.7777777777777778,\"#fb9f3a\"],[0.8888888888888888,\"#fdca26\"],[1.0,\"#f0f921\"]]}],\"surface\":[{\"type\":\"surface\",\"colorbar\":{\"outlinewidth\":0,\"ticks\":\"\"},\"colorscale\":[[0.0,\"#0d0887\"],[0.1111111111111111,\"#46039f\"],[0.2222222222222222,\"#7201a8\"],[0.3333333333333333,\"#9c179e\"],[0.4444444444444444,\"#bd3786\"],[0.5555555555555556,\"#d8576b\"],[0.6666666666666666,\"#ed7953\"],[0.7777777777777778,\"#fb9f3a\"],[0.8888888888888888,\"#fdca26\"],[1.0,\"#f0f921\"]]}],\"mesh3d\":[{\"type\":\"mesh3d\",\"colorbar\":{\"outlinewidth\":0,\"ticks\":\"\"}}],\"scatter\":[{\"fillpattern\":{\"fillmode\":\"overlay\",\"size\":10,\"solidity\":0.2},\"type\":\"scatter\"}],\"parcoords\":[{\"type\":\"parcoords\",\"line\":{\"colorbar\":{\"outlinewidth\":0,\"ticks\":\"\"}}}],\"scatterpolargl\":[{\"type\":\"scatterpolargl\",\"marker\":{\"colorbar\":{\"outlinewidth\":0,\"ticks\":\"\"}}}],\"bar\":[{\"error_x\":{\"color\":\"#2a3f5f\"},\"error_y\":{\"color\":\"#2a3f5f\"},\"marker\":{\"line\":{\"color\":\"#E5ECF6\",\"width\":0.5},\"pattern\":{\"fillmode\":\"overlay\",\"size\":10,\"solidity\":0.2}},\"type\":\"bar\"}],\"scattergeo\":[{\"type\":\"scattergeo\",\"marker\":{\"colorbar\":{\"outlinewidth\":0,\"ticks\":\"\"}}}],\"scatterpolar\":[{\"type\":\"scatterpolar\",\"marker\":{\"colorbar\":{\"outlinewidth\":0,\"ticks\":\"\"}}}],\"histogram\":[{\"marker\":{\"pattern\":{\"fillmode\":\"overlay\",\"size\":10,\"solidity\":0.2}},\"type\":\"histogram\"}],\"scattergl\":[{\"type\":\"scattergl\",\"marker\":{\"colorbar\":{\"outlinewidth\":0,\"ticks\":\"\"}}}],\"scatter3d\":[{\"type\":\"scatter3d\",\"line\":{\"colorbar\":{\"outlinewidth\":0,\"ticks\":\"\"}},\"marker\":{\"colorbar\":{\"outlinewidth\":0,\"ticks\":\"\"}}}],\"scattermapbox\":[{\"type\":\"scattermapbox\",\"marker\":{\"colorbar\":{\"outlinewidth\":0,\"ticks\":\"\"}}}],\"scatterternary\":[{\"type\":\"scatterternary\",\"marker\":{\"colorbar\":{\"outlinewidth\":0,\"ticks\":\"\"}}}],\"scattercarpet\":[{\"type\":\"scattercarpet\",\"marker\":{\"colorbar\":{\"outlinewidth\":0,\"ticks\":\"\"}}}],\"carpet\":[{\"aaxis\":{\"endlinecolor\":\"#2a3f5f\",\"gridcolor\":\"white\",\"linecolor\":\"white\",\"minorgridcolor\":\"white\",\"startlinecolor\":\"#2a3f5f\"},\"baxis\":{\"endlinecolor\":\"#2a3f5f\",\"gridcolor\":\"white\",\"linecolor\":\"white\",\"minorgridcolor\":\"white\",\"startlinecolor\":\"#2a3f5f\"},\"type\":\"carpet\"}],\"table\":[{\"cells\":{\"fill\":{\"color\":\"#EBF0F8\"},\"line\":{\"color\":\"white\"}},\"header\":{\"fill\":{\"color\":\"#C8D4E3\"},\"line\":{\"color\":\"white\"}},\"type\":\"table\"}],\"barpolar\":[{\"marker\":{\"line\":{\"color\":\"#E5ECF6\",\"width\":0.5},\"pattern\":{\"fillmode\":\"overlay\",\"size\":10,\"solidity\":0.2}},\"type\":\"barpolar\"}],\"pie\":[{\"automargin\":true,\"type\":\"pie\"}]},\"layout\":{\"autotypenumbers\":\"strict\",\"colorway\":[\"#636efa\",\"#EF553B\",\"#00cc96\",\"#ab63fa\",\"#FFA15A\",\"#19d3f3\",\"#FF6692\",\"#B6E880\",\"#FF97FF\",\"#FECB52\"],\"font\":{\"color\":\"#2a3f5f\"},\"hovermode\":\"closest\",\"hoverlabel\":{\"align\":\"left\"},\"paper_bgcolor\":\"white\",\"plot_bgcolor\":\"#E5ECF6\",\"polar\":{\"bgcolor\":\"#E5ECF6\",\"angularaxis\":{\"gridcolor\":\"white\",\"linecolor\":\"white\",\"ticks\":\"\"},\"radialaxis\":{\"gridcolor\":\"white\",\"linecolor\":\"white\",\"ticks\":\"\"}},\"ternary\":{\"bgcolor\":\"#E5ECF6\",\"aaxis\":{\"gridcolor\":\"white\",\"linecolor\":\"white\",\"ticks\":\"\"},\"baxis\":{\"gridcolor\":\"white\",\"linecolor\":\"white\",\"ticks\":\"\"},\"caxis\":{\"gridcolor\":\"white\",\"linecolor\":\"white\",\"ticks\":\"\"}},\"coloraxis\":{\"colorbar\":{\"outlinewidth\":0,\"ticks\":\"\"}},\"colorscale\":{\"sequential\":[[0.0,\"#0d0887\"],[0.1111111111111111,\"#46039f\"],[0.2222222222222222,\"#7201a8\"],[0.3333333333333333,\"#9c179e\"],[0.4444444444444444,\"#bd3786\"],[0.5555555555555556,\"#d8576b\"],[0.6666666666666666,\"#ed7953\"],[0.7777777777777778,\"#fb9f3a\"],[0.8888888888888888,\"#fdca26\"],[1.0,\"#f0f921\"]],\"sequentialminus\":[[0.0,\"#0d0887\"],[0.1111111111111111,\"#46039f\"],[0.2222222222222222,\"#7201a8\"],[0.3333333333333333,\"#9c179e\"],[0.4444444444444444,\"#bd3786\"],[0.5555555555555556,\"#d8576b\"],[0.6666666666666666,\"#ed7953\"],[0.7777777777777778,\"#fb9f3a\"],[0.8888888888888888,\"#fdca26\"],[1.0,\"#f0f921\"]],\"diverging\":[[0,\"#8e0152\"],[0.1,\"#c51b7d\"],[0.2,\"#de77ae\"],[0.3,\"#f1b6da\"],[0.4,\"#fde0ef\"],[0.5,\"#f7f7f7\"],[0.6,\"#e6f5d0\"],[0.7,\"#b8e186\"],[0.8,\"#7fbc41\"],[0.9,\"#4d9221\"],[1,\"#276419\"]]},\"xaxis\":{\"gridcolor\":\"white\",\"linecolor\":\"white\",\"ticks\":\"\",\"title\":{\"standoff\":15},\"zerolinecolor\":\"white\",\"automargin\":true,\"zerolinewidth\":2},\"yaxis\":{\"gridcolor\":\"white\",\"linecolor\":\"white\",\"ticks\":\"\",\"title\":{\"standoff\":15},\"zerolinecolor\":\"white\",\"automargin\":true,\"zerolinewidth\":2},\"scene\":{\"xaxis\":{\"backgroundcolor\":\"#E5ECF6\",\"gridcolor\":\"white\",\"linecolor\":\"white\",\"showbackground\":true,\"ticks\":\"\",\"zerolinecolor\":\"white\",\"gridwidth\":2},\"yaxis\":{\"backgroundcolor\":\"#E5ECF6\",\"gridcolor\":\"white\",\"linecolor\":\"white\",\"showbackground\":true,\"ticks\":\"\",\"zerolinecolor\":\"white\",\"gridwidth\":2},\"zaxis\":{\"backgroundcolor\":\"#E5ECF6\",\"gridcolor\":\"white\",\"linecolor\":\"white\",\"showbackground\":true,\"ticks\":\"\",\"zerolinecolor\":\"white\",\"gridwidth\":2}},\"shapedefaults\":{\"line\":{\"color\":\"#2a3f5f\"}},\"annotationdefaults\":{\"arrowcolor\":\"#2a3f5f\",\"arrowhead\":0,\"arrowwidth\":1},\"geo\":{\"bgcolor\":\"white\",\"landcolor\":\"#E5ECF6\",\"subunitcolor\":\"white\",\"showland\":true,\"showlakes\":true,\"lakecolor\":\"white\"},\"title\":{\"x\":0.05},\"mapbox\":{\"style\":\"light\"}}},\"xaxis\":{\"anchor\":\"y\",\"domain\":[0.0,0.103125]},\"yaxis\":{\"anchor\":\"x\",\"domain\":[0.0,1.0]},\"xaxis2\":{\"anchor\":\"y2\",\"domain\":[0.128125,0.23124999999999998]},\"yaxis2\":{\"anchor\":\"x2\",\"domain\":[0.0,1.0]},\"xaxis3\":{\"anchor\":\"y3\",\"domain\":[0.25625,0.359375]},\"yaxis3\":{\"anchor\":\"x3\",\"domain\":[0.0,1.0]},\"xaxis4\":{\"anchor\":\"y4\",\"domain\":[0.38437499999999997,0.48749999999999993]},\"yaxis4\":{\"anchor\":\"x4\",\"domain\":[0.0,1.0]},\"xaxis5\":{\"anchor\":\"y5\",\"domain\":[0.5125,0.615625]},\"yaxis5\":{\"anchor\":\"x5\",\"domain\":[0.0,1.0]},\"xaxis6\":{\"anchor\":\"y6\",\"domain\":[0.640625,0.74375]},\"yaxis6\":{\"anchor\":\"x6\",\"domain\":[0.0,1.0]},\"xaxis7\":{\"anchor\":\"y7\",\"domain\":[0.76875,0.8718750000000001]},\"yaxis7\":{\"anchor\":\"x7\",\"domain\":[0.0,1.0]},\"xaxis8\":{\"anchor\":\"y8\",\"domain\":[0.8968750000000001,1.0]},\"yaxis8\":{\"anchor\":\"x8\",\"domain\":[0.0,1.0]}},                        {\"responsive\": true}                    ).then(function(){\n",
       "                            \n",
       "var gd = document.getElementById('764e8a59-a893-4a96-8d44-678ee046d209');\n",
       "var x = new MutationObserver(function (mutations, observer) {{\n",
       "        var display = window.getComputedStyle(gd).display;\n",
       "        if (!display || display === 'none') {{\n",
       "            console.log([gd, 'removed!']);\n",
       "            Plotly.purge(gd);\n",
       "            observer.disconnect();\n",
       "        }}\n",
       "}});\n",
       "\n",
       "// Listen for the removal of the full notebook cells\n",
       "var notebookContainer = gd.closest('#notebook-container');\n",
       "if (notebookContainer) {{\n",
       "    x.observe(notebookContainer, {childList: true});\n",
       "}}\n",
       "\n",
       "// Listen for the clearing of the current output cell\n",
       "var outputEl = gd.closest('.output');\n",
       "if (outputEl) {{\n",
       "    x.observe(outputEl, {childList: true});\n",
       "}}\n",
       "\n",
       "                        })                };                });            </script>        </div>"
      ]
     },
     "metadata": {},
     "output_type": "display_data"
    }
   ],
   "source": [
    "fig=make_subplots(rows=1,cols=8)\n",
    "\n",
    "n=1\n",
    "for column in numerical_df.columns :\n",
    "    fig.add_trace(go.Box(y=numerical_df[column],name=column,boxpoints='suspectedoutliers'),row=1,col=n)\n",
    "    n=n+1\n",
    "    \n",
    "fig.show()"
   ]
  },
  {
   "cell_type": "code",
   "execution_count": 27,
   "id": "327b8fbf",
   "metadata": {
    "execution": {
     "iopub.execute_input": "2023-08-10T13:58:43.173146Z",
     "iopub.status.busy": "2023-08-10T13:58:43.172725Z",
     "iopub.status.idle": "2023-08-10T13:58:43.191021Z",
     "shell.execute_reply": "2023-08-10T13:58:43.190025Z"
    },
    "papermill": {
     "duration": 0.037925,
     "end_time": "2023-08-10T13:58:43.193377",
     "exception": false,
     "start_time": "2023-08-10T13:58:43.155452",
     "status": "completed"
    },
    "tags": []
   },
   "outputs": [
    {
     "name": "stdout",
     "output_type": "stream",
     "text": [
      "<class 'pandas.core.frame.DataFrame'>\n",
      "Int64Index: 357 entries, 0 to 358\n",
      "Data columns (total 9 columns):\n",
      " #   Column                Non-Null Count  Dtype  \n",
      "---  ------                --------------  -----  \n",
      " 0   Year                  357 non-null    int64  \n",
      " 1   Month                 357 non-null    object \n",
      " 2   Price_wheat_ton       357 non-null    float64\n",
      " 3   Price_rice_ton        357 non-null    float64\n",
      " 4   Price_corn_ton        357 non-null    float64\n",
      " 5   Inflation_rate        357 non-null    float64\n",
      " 6   Price_wheat_ton_infl  357 non-null    float64\n",
      " 7   Price_rice_ton_infl   357 non-null    float64\n",
      " 8   Price_corn_ton_infl   357 non-null    float64\n",
      "dtypes: float64(7), int64(1), object(1)\n",
      "memory usage: 27.9+ KB\n"
     ]
    }
   ],
   "source": [
    "df.info()"
   ]
  },
  {
   "cell_type": "markdown",
   "id": "b183d3ef",
   "metadata": {
    "papermill": {
     "duration": 0.01561,
     "end_time": "2023-08-10T13:58:43.225013",
     "exception": false,
     "start_time": "2023-08-10T13:58:43.209403",
     "status": "completed"
    },
    "tags": []
   },
   "source": [
    "# data analysis"
   ]
  },
  {
   "cell_type": "code",
   "execution_count": 28,
   "id": "e2aa5710",
   "metadata": {
    "execution": {
     "iopub.execute_input": "2023-08-10T13:58:43.259064Z",
     "iopub.status.busy": "2023-08-10T13:58:43.258671Z",
     "iopub.status.idle": "2023-08-10T13:58:43.274713Z",
     "shell.execute_reply": "2023-08-10T13:58:43.273903Z"
    },
    "papermill": {
     "duration": 0.035796,
     "end_time": "2023-08-10T13:58:43.277137",
     "exception": false,
     "start_time": "2023-08-10T13:58:43.241341",
     "status": "completed"
    },
    "tags": []
   },
   "outputs": [
    {
     "data": {
      "text/html": [
       "<div>\n",
       "<style scoped>\n",
       "    .dataframe tbody tr th:only-of-type {\n",
       "        vertical-align: middle;\n",
       "    }\n",
       "\n",
       "    .dataframe tbody tr th {\n",
       "        vertical-align: top;\n",
       "    }\n",
       "\n",
       "    .dataframe thead th {\n",
       "        text-align: right;\n",
       "    }\n",
       "</style>\n",
       "<table border=\"1\" class=\"dataframe\">\n",
       "  <thead>\n",
       "    <tr style=\"text-align: right;\">\n",
       "      <th></th>\n",
       "      <th>Year</th>\n",
       "      <th>Month</th>\n",
       "      <th>Price_wheat_ton</th>\n",
       "      <th>Price_rice_ton</th>\n",
       "      <th>Price_corn_ton</th>\n",
       "      <th>Inflation_rate</th>\n",
       "      <th>Price_wheat_ton_infl</th>\n",
       "      <th>Price_rice_ton_infl</th>\n",
       "      <th>Price_corn_ton_infl</th>\n",
       "    </tr>\n",
       "  </thead>\n",
       "  <tbody>\n",
       "    <tr>\n",
       "      <th>0</th>\n",
       "      <td>1992</td>\n",
       "      <td>Feb</td>\n",
       "      <td>170.12</td>\n",
       "      <td>278.25</td>\n",
       "      <td>113.62</td>\n",
       "      <td>89.59</td>\n",
       "      <td>322.53</td>\n",
       "      <td>527.53</td>\n",
       "      <td>215.41</td>\n",
       "    </tr>\n",
       "    <tr>\n",
       "      <th>1</th>\n",
       "      <td>1992</td>\n",
       "      <td>Mar</td>\n",
       "      <td>161.44</td>\n",
       "      <td>277.20</td>\n",
       "      <td>117.00</td>\n",
       "      <td>89.59</td>\n",
       "      <td>306.07</td>\n",
       "      <td>525.54</td>\n",
       "      <td>221.82</td>\n",
       "    </tr>\n",
       "    <tr>\n",
       "      <th>2</th>\n",
       "      <td>1992</td>\n",
       "      <td>Apr</td>\n",
       "      <td>153.07</td>\n",
       "      <td>278.00</td>\n",
       "      <td>108.52</td>\n",
       "      <td>89.59</td>\n",
       "      <td>290.21</td>\n",
       "      <td>527.06</td>\n",
       "      <td>205.74</td>\n",
       "    </tr>\n",
       "    <tr>\n",
       "      <th>3</th>\n",
       "      <td>1992</td>\n",
       "      <td>May</td>\n",
       "      <td>139.72</td>\n",
       "      <td>274.00</td>\n",
       "      <td>109.64</td>\n",
       "      <td>89.59</td>\n",
       "      <td>264.90</td>\n",
       "      <td>519.48</td>\n",
       "      <td>207.87</td>\n",
       "    </tr>\n",
       "    <tr>\n",
       "      <th>4</th>\n",
       "      <td>1992</td>\n",
       "      <td>Jun</td>\n",
       "      <td>140.36</td>\n",
       "      <td>268.80</td>\n",
       "      <td>110.90</td>\n",
       "      <td>89.59</td>\n",
       "      <td>266.11</td>\n",
       "      <td>509.62</td>\n",
       "      <td>210.26</td>\n",
       "    </tr>\n",
       "  </tbody>\n",
       "</table>\n",
       "</div>"
      ],
      "text/plain": [
       "   Year Month  Price_wheat_ton  Price_rice_ton  Price_corn_ton  \\\n",
       "0  1992   Feb           170.12          278.25          113.62   \n",
       "1  1992   Mar           161.44          277.20          117.00   \n",
       "2  1992   Apr           153.07          278.00          108.52   \n",
       "3  1992   May           139.72          274.00          109.64   \n",
       "4  1992   Jun           140.36          268.80          110.90   \n",
       "\n",
       "   Inflation_rate  Price_wheat_ton_infl  Price_rice_ton_infl  \\\n",
       "0           89.59                322.53               527.53   \n",
       "1           89.59                306.07               525.54   \n",
       "2           89.59                290.21               527.06   \n",
       "3           89.59                264.90               519.48   \n",
       "4           89.59                266.11               509.62   \n",
       "\n",
       "   Price_corn_ton_infl  \n",
       "0               215.41  \n",
       "1               221.82  \n",
       "2               205.74  \n",
       "3               207.87  \n",
       "4               210.26  "
      ]
     },
     "execution_count": 28,
     "metadata": {},
     "output_type": "execute_result"
    }
   ],
   "source": [
    "df.head()"
   ]
  },
  {
   "cell_type": "code",
   "execution_count": 29,
   "id": "26648058",
   "metadata": {
    "execution": {
     "iopub.execute_input": "2023-08-10T13:58:43.311559Z",
     "iopub.status.busy": "2023-08-10T13:58:43.311194Z",
     "iopub.status.idle": "2023-08-10T13:58:43.318254Z",
     "shell.execute_reply": "2023-08-10T13:58:43.317179Z"
    },
    "papermill": {
     "duration": 0.026878,
     "end_time": "2023-08-10T13:58:43.320348",
     "exception": false,
     "start_time": "2023-08-10T13:58:43.293470",
     "status": "completed"
    },
    "tags": []
   },
   "outputs": [
    {
     "data": {
      "text/plain": [
       "array(['Feb', 'Mar', 'Apr', 'May', 'Jun', 'Jul', 'Aug', 'Sep', 'Oct',\n",
       "       'Nov', 'Dec', 'Jan'], dtype=object)"
      ]
     },
     "execution_count": 29,
     "metadata": {},
     "output_type": "execute_result"
    }
   ],
   "source": [
    "df['Month'].unique()"
   ]
  },
  {
   "cell_type": "code",
   "execution_count": 30,
   "id": "6176981a",
   "metadata": {
    "execution": {
     "iopub.execute_input": "2023-08-10T13:58:43.354799Z",
     "iopub.status.busy": "2023-08-10T13:58:43.354084Z",
     "iopub.status.idle": "2023-08-10T13:58:43.359916Z",
     "shell.execute_reply": "2023-08-10T13:58:43.358900Z"
    },
    "papermill": {
     "duration": 0.025367,
     "end_time": "2023-08-10T13:58:43.362015",
     "exception": false,
     "start_time": "2023-08-10T13:58:43.336648",
     "status": "completed"
    },
    "tags": []
   },
   "outputs": [],
   "source": [
    "df['Month_num']=df['Month']"
   ]
  },
  {
   "cell_type": "code",
   "execution_count": 31,
   "id": "371a2bde",
   "metadata": {
    "execution": {
     "iopub.execute_input": "2023-08-10T13:58:43.396705Z",
     "iopub.status.busy": "2023-08-10T13:58:43.395694Z",
     "iopub.status.idle": "2023-08-10T13:58:43.412420Z",
     "shell.execute_reply": "2023-08-10T13:58:43.411626Z"
    },
    "papermill": {
     "duration": 0.036296,
     "end_time": "2023-08-10T13:58:43.414505",
     "exception": false,
     "start_time": "2023-08-10T13:58:43.378209",
     "status": "completed"
    },
    "tags": []
   },
   "outputs": [
    {
     "data": {
      "text/html": [
       "<div>\n",
       "<style scoped>\n",
       "    .dataframe tbody tr th:only-of-type {\n",
       "        vertical-align: middle;\n",
       "    }\n",
       "\n",
       "    .dataframe tbody tr th {\n",
       "        vertical-align: top;\n",
       "    }\n",
       "\n",
       "    .dataframe thead th {\n",
       "        text-align: right;\n",
       "    }\n",
       "</style>\n",
       "<table border=\"1\" class=\"dataframe\">\n",
       "  <thead>\n",
       "    <tr style=\"text-align: right;\">\n",
       "      <th></th>\n",
       "      <th>Year</th>\n",
       "      <th>Month</th>\n",
       "      <th>Price_wheat_ton</th>\n",
       "      <th>Price_rice_ton</th>\n",
       "      <th>Price_corn_ton</th>\n",
       "      <th>Inflation_rate</th>\n",
       "      <th>Price_wheat_ton_infl</th>\n",
       "      <th>Price_rice_ton_infl</th>\n",
       "      <th>Price_corn_ton_infl</th>\n",
       "      <th>Month_num</th>\n",
       "    </tr>\n",
       "  </thead>\n",
       "  <tbody>\n",
       "    <tr>\n",
       "      <th>0</th>\n",
       "      <td>1992</td>\n",
       "      <td>Feb</td>\n",
       "      <td>170.12</td>\n",
       "      <td>278.25</td>\n",
       "      <td>113.62</td>\n",
       "      <td>89.59</td>\n",
       "      <td>322.53</td>\n",
       "      <td>527.53</td>\n",
       "      <td>215.41</td>\n",
       "      <td>Feb</td>\n",
       "    </tr>\n",
       "    <tr>\n",
       "      <th>1</th>\n",
       "      <td>1992</td>\n",
       "      <td>Mar</td>\n",
       "      <td>161.44</td>\n",
       "      <td>277.20</td>\n",
       "      <td>117.00</td>\n",
       "      <td>89.59</td>\n",
       "      <td>306.07</td>\n",
       "      <td>525.54</td>\n",
       "      <td>221.82</td>\n",
       "      <td>Mar</td>\n",
       "    </tr>\n",
       "    <tr>\n",
       "      <th>2</th>\n",
       "      <td>1992</td>\n",
       "      <td>Apr</td>\n",
       "      <td>153.07</td>\n",
       "      <td>278.00</td>\n",
       "      <td>108.52</td>\n",
       "      <td>89.59</td>\n",
       "      <td>290.21</td>\n",
       "      <td>527.06</td>\n",
       "      <td>205.74</td>\n",
       "      <td>Apr</td>\n",
       "    </tr>\n",
       "    <tr>\n",
       "      <th>3</th>\n",
       "      <td>1992</td>\n",
       "      <td>May</td>\n",
       "      <td>139.72</td>\n",
       "      <td>274.00</td>\n",
       "      <td>109.64</td>\n",
       "      <td>89.59</td>\n",
       "      <td>264.90</td>\n",
       "      <td>519.48</td>\n",
       "      <td>207.87</td>\n",
       "      <td>May</td>\n",
       "    </tr>\n",
       "    <tr>\n",
       "      <th>4</th>\n",
       "      <td>1992</td>\n",
       "      <td>Jun</td>\n",
       "      <td>140.36</td>\n",
       "      <td>268.80</td>\n",
       "      <td>110.90</td>\n",
       "      <td>89.59</td>\n",
       "      <td>266.11</td>\n",
       "      <td>509.62</td>\n",
       "      <td>210.26</td>\n",
       "      <td>Jun</td>\n",
       "    </tr>\n",
       "  </tbody>\n",
       "</table>\n",
       "</div>"
      ],
      "text/plain": [
       "   Year Month  Price_wheat_ton  Price_rice_ton  Price_corn_ton  \\\n",
       "0  1992   Feb           170.12          278.25          113.62   \n",
       "1  1992   Mar           161.44          277.20          117.00   \n",
       "2  1992   Apr           153.07          278.00          108.52   \n",
       "3  1992   May           139.72          274.00          109.64   \n",
       "4  1992   Jun           140.36          268.80          110.90   \n",
       "\n",
       "   Inflation_rate  Price_wheat_ton_infl  Price_rice_ton_infl  \\\n",
       "0           89.59                322.53               527.53   \n",
       "1           89.59                306.07               525.54   \n",
       "2           89.59                290.21               527.06   \n",
       "3           89.59                264.90               519.48   \n",
       "4           89.59                266.11               509.62   \n",
       "\n",
       "   Price_corn_ton_infl Month_num  \n",
       "0               215.41       Feb  \n",
       "1               221.82       Mar  \n",
       "2               205.74       Apr  \n",
       "3               207.87       May  \n",
       "4               210.26       Jun  "
      ]
     },
     "execution_count": 31,
     "metadata": {},
     "output_type": "execute_result"
    }
   ],
   "source": [
    "df.head()"
   ]
  },
  {
   "cell_type": "code",
   "execution_count": 32,
   "id": "0eda6600",
   "metadata": {
    "execution": {
     "iopub.execute_input": "2023-08-10T13:58:43.450341Z",
     "iopub.status.busy": "2023-08-10T13:58:43.449341Z",
     "iopub.status.idle": "2023-08-10T13:58:43.526872Z",
     "shell.execute_reply": "2023-08-10T13:58:43.525720Z"
    },
    "papermill": {
     "duration": 0.097869,
     "end_time": "2023-08-10T13:58:43.529317",
     "exception": false,
     "start_time": "2023-08-10T13:58:43.431448",
     "status": "completed"
    },
    "tags": []
   },
   "outputs": [],
   "source": [
    "for x in df.index :\n",
    "    if df.loc[x,'Month_num']=='Feb' :\n",
    "        df.loc[x,'Month_num']=2\n",
    "    elif df.loc[x,'Month_num']=='Mar' :\n",
    "        df.loc[x,'Month_num']=3\n",
    "    elif df.loc[x,'Month_num']=='Apr' :\n",
    "        df.loc[x,'Month_num']=4\n",
    "    elif df.loc[x,'Month_num']=='May' :\n",
    "        df.loc[x,'Month_num']=5\n",
    "    elif df.loc[x,'Month_num']=='Jun' :\n",
    "        df.loc[x,'Month_num']=6\n",
    "    elif df.loc[x,'Month_num']=='Jul' :\n",
    "        df.loc[x,'Month_num']=7\n",
    "    elif df.loc[x,'Month_num']=='Aug' :\n",
    "        df.loc[x,'Month_num']=8\n",
    "    elif df.loc[x,'Month_num']=='Sep' :\n",
    "        df.loc[x,'Month_num']=9\n",
    "    elif df.loc[x,'Month_num']=='Oct' :\n",
    "        df.loc[x,'Month_num']=10\n",
    "    elif df.loc[x,'Month_num']=='Nov' :\n",
    "        df.loc[x,'Month_num']=11\n",
    "    elif df.loc[x,'Month_num']=='Dec' :\n",
    "        df.loc[x,'Month_num']=12\n",
    "    elif df.loc[x,'Month_num']=='Jan' :\n",
    "        df.loc[x,'Month_num']=1"
   ]
  },
  {
   "cell_type": "code",
   "execution_count": 33,
   "id": "572e0945",
   "metadata": {
    "execution": {
     "iopub.execute_input": "2023-08-10T13:58:43.564567Z",
     "iopub.status.busy": "2023-08-10T13:58:43.564209Z",
     "iopub.status.idle": "2023-08-10T13:58:43.581388Z",
     "shell.execute_reply": "2023-08-10T13:58:43.580012Z"
    },
    "papermill": {
     "duration": 0.037828,
     "end_time": "2023-08-10T13:58:43.583733",
     "exception": false,
     "start_time": "2023-08-10T13:58:43.545905",
     "status": "completed"
    },
    "tags": []
   },
   "outputs": [
    {
     "data": {
      "text/html": [
       "<div>\n",
       "<style scoped>\n",
       "    .dataframe tbody tr th:only-of-type {\n",
       "        vertical-align: middle;\n",
       "    }\n",
       "\n",
       "    .dataframe tbody tr th {\n",
       "        vertical-align: top;\n",
       "    }\n",
       "\n",
       "    .dataframe thead th {\n",
       "        text-align: right;\n",
       "    }\n",
       "</style>\n",
       "<table border=\"1\" class=\"dataframe\">\n",
       "  <thead>\n",
       "    <tr style=\"text-align: right;\">\n",
       "      <th></th>\n",
       "      <th>Year</th>\n",
       "      <th>Month</th>\n",
       "      <th>Price_wheat_ton</th>\n",
       "      <th>Price_rice_ton</th>\n",
       "      <th>Price_corn_ton</th>\n",
       "      <th>Inflation_rate</th>\n",
       "      <th>Price_wheat_ton_infl</th>\n",
       "      <th>Price_rice_ton_infl</th>\n",
       "      <th>Price_corn_ton_infl</th>\n",
       "      <th>Month_num</th>\n",
       "    </tr>\n",
       "  </thead>\n",
       "  <tbody>\n",
       "    <tr>\n",
       "      <th>0</th>\n",
       "      <td>1992</td>\n",
       "      <td>Feb</td>\n",
       "      <td>170.12</td>\n",
       "      <td>278.25</td>\n",
       "      <td>113.62</td>\n",
       "      <td>89.59</td>\n",
       "      <td>322.53</td>\n",
       "      <td>527.53</td>\n",
       "      <td>215.41</td>\n",
       "      <td>2</td>\n",
       "    </tr>\n",
       "    <tr>\n",
       "      <th>1</th>\n",
       "      <td>1992</td>\n",
       "      <td>Mar</td>\n",
       "      <td>161.44</td>\n",
       "      <td>277.20</td>\n",
       "      <td>117.00</td>\n",
       "      <td>89.59</td>\n",
       "      <td>306.07</td>\n",
       "      <td>525.54</td>\n",
       "      <td>221.82</td>\n",
       "      <td>3</td>\n",
       "    </tr>\n",
       "    <tr>\n",
       "      <th>2</th>\n",
       "      <td>1992</td>\n",
       "      <td>Apr</td>\n",
       "      <td>153.07</td>\n",
       "      <td>278.00</td>\n",
       "      <td>108.52</td>\n",
       "      <td>89.59</td>\n",
       "      <td>290.21</td>\n",
       "      <td>527.06</td>\n",
       "      <td>205.74</td>\n",
       "      <td>4</td>\n",
       "    </tr>\n",
       "    <tr>\n",
       "      <th>3</th>\n",
       "      <td>1992</td>\n",
       "      <td>May</td>\n",
       "      <td>139.72</td>\n",
       "      <td>274.00</td>\n",
       "      <td>109.64</td>\n",
       "      <td>89.59</td>\n",
       "      <td>264.90</td>\n",
       "      <td>519.48</td>\n",
       "      <td>207.87</td>\n",
       "      <td>5</td>\n",
       "    </tr>\n",
       "    <tr>\n",
       "      <th>4</th>\n",
       "      <td>1992</td>\n",
       "      <td>Jun</td>\n",
       "      <td>140.36</td>\n",
       "      <td>268.80</td>\n",
       "      <td>110.90</td>\n",
       "      <td>89.59</td>\n",
       "      <td>266.11</td>\n",
       "      <td>509.62</td>\n",
       "      <td>210.26</td>\n",
       "      <td>6</td>\n",
       "    </tr>\n",
       "  </tbody>\n",
       "</table>\n",
       "</div>"
      ],
      "text/plain": [
       "   Year Month  Price_wheat_ton  Price_rice_ton  Price_corn_ton  \\\n",
       "0  1992   Feb           170.12          278.25          113.62   \n",
       "1  1992   Mar           161.44          277.20          117.00   \n",
       "2  1992   Apr           153.07          278.00          108.52   \n",
       "3  1992   May           139.72          274.00          109.64   \n",
       "4  1992   Jun           140.36          268.80          110.90   \n",
       "\n",
       "   Inflation_rate  Price_wheat_ton_infl  Price_rice_ton_infl  \\\n",
       "0           89.59                322.53               527.53   \n",
       "1           89.59                306.07               525.54   \n",
       "2           89.59                290.21               527.06   \n",
       "3           89.59                264.90               519.48   \n",
       "4           89.59                266.11               509.62   \n",
       "\n",
       "   Price_corn_ton_infl Month_num  \n",
       "0               215.41         2  \n",
       "1               221.82         3  \n",
       "2               205.74         4  \n",
       "3               207.87         5  \n",
       "4               210.26         6  "
      ]
     },
     "execution_count": 33,
     "metadata": {},
     "output_type": "execute_result"
    }
   ],
   "source": [
    "df.head()"
   ]
  },
  {
   "cell_type": "markdown",
   "id": "aff724eb",
   "metadata": {
    "papermill": {
     "duration": 0.016592,
     "end_time": "2023-08-10T13:58:43.617623",
     "exception": false,
     "start_time": "2023-08-10T13:58:43.601031",
     "status": "completed"
    },
    "tags": []
   },
   "source": [
    "# How much AVG Inflation_rate regarding year?"
   ]
  },
  {
   "cell_type": "code",
   "execution_count": 34,
   "id": "5387f3aa",
   "metadata": {
    "execution": {
     "iopub.execute_input": "2023-08-10T13:58:43.654230Z",
     "iopub.status.busy": "2023-08-10T13:58:43.653841Z",
     "iopub.status.idle": "2023-08-10T13:58:43.670452Z",
     "shell.execute_reply": "2023-08-10T13:58:43.669107Z"
    },
    "papermill": {
     "duration": 0.038207,
     "end_time": "2023-08-10T13:58:43.673000",
     "exception": false,
     "start_time": "2023-08-10T13:58:43.634793",
     "status": "completed"
    },
    "tags": []
   },
   "outputs": [
    {
     "data": {
      "text/html": [
       "<div>\n",
       "<style scoped>\n",
       "    .dataframe tbody tr th:only-of-type {\n",
       "        vertical-align: middle;\n",
       "    }\n",
       "\n",
       "    .dataframe tbody tr th {\n",
       "        vertical-align: top;\n",
       "    }\n",
       "\n",
       "    .dataframe thead th {\n",
       "        text-align: right;\n",
       "    }\n",
       "</style>\n",
       "<table border=\"1\" class=\"dataframe\">\n",
       "  <thead>\n",
       "    <tr style=\"text-align: right;\">\n",
       "      <th></th>\n",
       "      <th>Inflation_rate</th>\n",
       "    </tr>\n",
       "    <tr>\n",
       "      <th>Year</th>\n",
       "      <th></th>\n",
       "    </tr>\n",
       "  </thead>\n",
       "  <tbody>\n",
       "    <tr>\n",
       "      <th>1992</th>\n",
       "      <td>89.59</td>\n",
       "    </tr>\n",
       "    <tr>\n",
       "      <th>1993</th>\n",
       "      <td>84.15</td>\n",
       "    </tr>\n",
       "    <tr>\n",
       "      <th>1994</th>\n",
       "      <td>79.47</td>\n",
       "    </tr>\n",
       "    <tr>\n",
       "      <th>1995</th>\n",
       "      <td>74.58</td>\n",
       "    </tr>\n",
       "    <tr>\n",
       "      <th>1996</th>\n",
       "      <td>69.60</td>\n",
       "    </tr>\n",
       "    <tr>\n",
       "      <th>1997</th>\n",
       "      <td>65.73</td>\n",
       "    </tr>\n",
       "    <tr>\n",
       "      <th>1998</th>\n",
       "      <td>63.20</td>\n",
       "    </tr>\n",
       "    <tr>\n",
       "      <th>1999</th>\n",
       "      <td>59.70</td>\n",
       "    </tr>\n",
       "    <tr>\n",
       "      <th>2000</th>\n",
       "      <td>54.49</td>\n",
       "    </tr>\n",
       "    <tr>\n",
       "      <th>2001</th>\n",
       "      <td>50.24</td>\n",
       "    </tr>\n",
       "    <tr>\n",
       "      <th>2002</th>\n",
       "      <td>47.89</td>\n",
       "    </tr>\n",
       "    <tr>\n",
       "      <th>2003</th>\n",
       "      <td>44.61</td>\n",
       "    </tr>\n",
       "    <tr>\n",
       "      <th>2004</th>\n",
       "      <td>40.84</td>\n",
       "    </tr>\n",
       "    <tr>\n",
       "      <th>2005</th>\n",
       "      <td>36.22</td>\n",
       "    </tr>\n",
       "    <tr>\n",
       "      <th>2006</th>\n",
       "      <td>31.96</td>\n",
       "    </tr>\n",
       "    <tr>\n",
       "      <th>2007</th>\n",
       "      <td>28.30</td>\n",
       "    </tr>\n",
       "    <tr>\n",
       "      <th>2008</th>\n",
       "      <td>23.56</td>\n",
       "    </tr>\n",
       "    <tr>\n",
       "      <th>2009</th>\n",
       "      <td>24.00</td>\n",
       "    </tr>\n",
       "    <tr>\n",
       "      <th>2010</th>\n",
       "      <td>22.00</td>\n",
       "    </tr>\n",
       "    <tr>\n",
       "      <th>2011</th>\n",
       "      <td>18.27</td>\n",
       "    </tr>\n",
       "    <tr>\n",
       "      <th>2012</th>\n",
       "      <td>15.87</td>\n",
       "    </tr>\n",
       "    <tr>\n",
       "      <th>2013</th>\n",
       "      <td>14.19</td>\n",
       "    </tr>\n",
       "    <tr>\n",
       "      <th>2014</th>\n",
       "      <td>12.37</td>\n",
       "    </tr>\n",
       "    <tr>\n",
       "      <th>2015</th>\n",
       "      <td>12.24</td>\n",
       "    </tr>\n",
       "    <tr>\n",
       "      <th>2016</th>\n",
       "      <td>10.84</td>\n",
       "    </tr>\n",
       "    <tr>\n",
       "      <th>2017</th>\n",
       "      <td>8.53</td>\n",
       "    </tr>\n",
       "    <tr>\n",
       "      <th>2018</th>\n",
       "      <td>5.94</td>\n",
       "    </tr>\n",
       "    <tr>\n",
       "      <th>2019</th>\n",
       "      <td>4.06</td>\n",
       "    </tr>\n",
       "    <tr>\n",
       "      <th>2020</th>\n",
       "      <td>2.79</td>\n",
       "    </tr>\n",
       "    <tr>\n",
       "      <th>2021</th>\n",
       "      <td>-1.29</td>\n",
       "    </tr>\n",
       "  </tbody>\n",
       "</table>\n",
       "</div>"
      ],
      "text/plain": [
       "      Inflation_rate\n",
       "Year                \n",
       "1992           89.59\n",
       "1993           84.15\n",
       "1994           79.47\n",
       "1995           74.58\n",
       "1996           69.60\n",
       "1997           65.73\n",
       "1998           63.20\n",
       "1999           59.70\n",
       "2000           54.49\n",
       "2001           50.24\n",
       "2002           47.89\n",
       "2003           44.61\n",
       "2004           40.84\n",
       "2005           36.22\n",
       "2006           31.96\n",
       "2007           28.30\n",
       "2008           23.56\n",
       "2009           24.00\n",
       "2010           22.00\n",
       "2011           18.27\n",
       "2012           15.87\n",
       "2013           14.19\n",
       "2014           12.37\n",
       "2015           12.24\n",
       "2016           10.84\n",
       "2017            8.53\n",
       "2018            5.94\n",
       "2019            4.06\n",
       "2020            2.79\n",
       "2021           -1.29"
      ]
     },
     "execution_count": 34,
     "metadata": {},
     "output_type": "execute_result"
    }
   ],
   "source": [
    "df[['Year','Inflation_rate']].groupby('Year').agg('mean')"
   ]
  },
  {
   "cell_type": "code",
   "execution_count": 35,
   "id": "0db0c387",
   "metadata": {
    "execution": {
     "iopub.execute_input": "2023-08-10T13:58:43.710591Z",
     "iopub.status.busy": "2023-08-10T13:58:43.709452Z",
     "iopub.status.idle": "2023-08-10T13:58:45.163340Z",
     "shell.execute_reply": "2023-08-10T13:58:45.162479Z"
    },
    "papermill": {
     "duration": 1.475452,
     "end_time": "2023-08-10T13:58:45.165837",
     "exception": false,
     "start_time": "2023-08-10T13:58:43.690385",
     "status": "completed"
    },
    "tags": []
   },
   "outputs": [
    {
     "data": {
      "text/html": [
       "<div>                            <div id=\"84b5a022-6907-4cf2-9164-b2ebd1221530\" class=\"plotly-graph-div\" style=\"height:525px; width:100%;\"></div>            <script type=\"text/javascript\">                require([\"plotly\"], function(Plotly) {                    window.PLOTLYENV=window.PLOTLYENV || {};                                    if (document.getElementById(\"84b5a022-6907-4cf2-9164-b2ebd1221530\")) {                    Plotly.newPlot(                        \"84b5a022-6907-4cf2-9164-b2ebd1221530\",                        [{\"hovertemplate\":\"variable=Inflation_rate\\u003cbr\\u003eYear=%{x}\\u003cbr\\u003evalue=%{y}\\u003cextra\\u003e\\u003c\\u002fextra\\u003e\",\"legendgroup\":\"Inflation_rate\",\"line\":{\"color\":\"#636efa\",\"dash\":\"solid\"},\"marker\":{\"symbol\":\"circle\"},\"mode\":\"markers+lines\",\"name\":\"Inflation_rate\",\"orientation\":\"v\",\"showlegend\":true,\"x\":[1992,1993,1994,1995,1996,1997,1998,1999,2000,2001,2002,2003,2004,2005,2006,2007,2008,2009,2010,2011,2012,2013,2014,2015,2016,2017,2018,2019,2020,2021],\"xaxis\":\"x\",\"y\":[89.59,84.15,79.47,74.58,69.6,65.73,63.20000000000001,59.70000000000001,54.49,50.24,47.89000000000001,44.60999999999999,40.84,36.22,31.959999999999997,28.3,23.56,24.0,22.0,18.27,15.87,14.19,12.37,12.24,10.839999999999998,8.53,5.94,4.06,2.7900000000000005,-1.29],\"yaxis\":\"y\",\"type\":\"scatter\"}],                        {\"template\":{\"data\":{\"histogram2dcontour\":[{\"type\":\"histogram2dcontour\",\"colorbar\":{\"outlinewidth\":0,\"ticks\":\"\"},\"colorscale\":[[0.0,\"#0d0887\"],[0.1111111111111111,\"#46039f\"],[0.2222222222222222,\"#7201a8\"],[0.3333333333333333,\"#9c179e\"],[0.4444444444444444,\"#bd3786\"],[0.5555555555555556,\"#d8576b\"],[0.6666666666666666,\"#ed7953\"],[0.7777777777777778,\"#fb9f3a\"],[0.8888888888888888,\"#fdca26\"],[1.0,\"#f0f921\"]]}],\"choropleth\":[{\"type\":\"choropleth\",\"colorbar\":{\"outlinewidth\":0,\"ticks\":\"\"}}],\"histogram2d\":[{\"type\":\"histogram2d\",\"colorbar\":{\"outlinewidth\":0,\"ticks\":\"\"},\"colorscale\":[[0.0,\"#0d0887\"],[0.1111111111111111,\"#46039f\"],[0.2222222222222222,\"#7201a8\"],[0.3333333333333333,\"#9c179e\"],[0.4444444444444444,\"#bd3786\"],[0.5555555555555556,\"#d8576b\"],[0.6666666666666666,\"#ed7953\"],[0.7777777777777778,\"#fb9f3a\"],[0.8888888888888888,\"#fdca26\"],[1.0,\"#f0f921\"]]}],\"heatmap\":[{\"type\":\"heatmap\",\"colorbar\":{\"outlinewidth\":0,\"ticks\":\"\"},\"colorscale\":[[0.0,\"#0d0887\"],[0.1111111111111111,\"#46039f\"],[0.2222222222222222,\"#7201a8\"],[0.3333333333333333,\"#9c179e\"],[0.4444444444444444,\"#bd3786\"],[0.5555555555555556,\"#d8576b\"],[0.6666666666666666,\"#ed7953\"],[0.7777777777777778,\"#fb9f3a\"],[0.8888888888888888,\"#fdca26\"],[1.0,\"#f0f921\"]]}],\"heatmapgl\":[{\"type\":\"heatmapgl\",\"colorbar\":{\"outlinewidth\":0,\"ticks\":\"\"},\"colorscale\":[[0.0,\"#0d0887\"],[0.1111111111111111,\"#46039f\"],[0.2222222222222222,\"#7201a8\"],[0.3333333333333333,\"#9c179e\"],[0.4444444444444444,\"#bd3786\"],[0.5555555555555556,\"#d8576b\"],[0.6666666666666666,\"#ed7953\"],[0.7777777777777778,\"#fb9f3a\"],[0.8888888888888888,\"#fdca26\"],[1.0,\"#f0f921\"]]}],\"contourcarpet\":[{\"type\":\"contourcarpet\",\"colorbar\":{\"outlinewidth\":0,\"ticks\":\"\"}}],\"contour\":[{\"type\":\"contour\",\"colorbar\":{\"outlinewidth\":0,\"ticks\":\"\"},\"colorscale\":[[0.0,\"#0d0887\"],[0.1111111111111111,\"#46039f\"],[0.2222222222222222,\"#7201a8\"],[0.3333333333333333,\"#9c179e\"],[0.4444444444444444,\"#bd3786\"],[0.5555555555555556,\"#d8576b\"],[0.6666666666666666,\"#ed7953\"],[0.7777777777777778,\"#fb9f3a\"],[0.8888888888888888,\"#fdca26\"],[1.0,\"#f0f921\"]]}],\"surface\":[{\"type\":\"surface\",\"colorbar\":{\"outlinewidth\":0,\"ticks\":\"\"},\"colorscale\":[[0.0,\"#0d0887\"],[0.1111111111111111,\"#46039f\"],[0.2222222222222222,\"#7201a8\"],[0.3333333333333333,\"#9c179e\"],[0.4444444444444444,\"#bd3786\"],[0.5555555555555556,\"#d8576b\"],[0.6666666666666666,\"#ed7953\"],[0.7777777777777778,\"#fb9f3a\"],[0.8888888888888888,\"#fdca26\"],[1.0,\"#f0f921\"]]}],\"mesh3d\":[{\"type\":\"mesh3d\",\"colorbar\":{\"outlinewidth\":0,\"ticks\":\"\"}}],\"scatter\":[{\"fillpattern\":{\"fillmode\":\"overlay\",\"size\":10,\"solidity\":0.2},\"type\":\"scatter\"}],\"parcoords\":[{\"type\":\"parcoords\",\"line\":{\"colorbar\":{\"outlinewidth\":0,\"ticks\":\"\"}}}],\"scatterpolargl\":[{\"type\":\"scatterpolargl\",\"marker\":{\"colorbar\":{\"outlinewidth\":0,\"ticks\":\"\"}}}],\"bar\":[{\"error_x\":{\"color\":\"#2a3f5f\"},\"error_y\":{\"color\":\"#2a3f5f\"},\"marker\":{\"line\":{\"color\":\"#E5ECF6\",\"width\":0.5},\"pattern\":{\"fillmode\":\"overlay\",\"size\":10,\"solidity\":0.2}},\"type\":\"bar\"}],\"scattergeo\":[{\"type\":\"scattergeo\",\"marker\":{\"colorbar\":{\"outlinewidth\":0,\"ticks\":\"\"}}}],\"scatterpolar\":[{\"type\":\"scatterpolar\",\"marker\":{\"colorbar\":{\"outlinewidth\":0,\"ticks\":\"\"}}}],\"histogram\":[{\"marker\":{\"pattern\":{\"fillmode\":\"overlay\",\"size\":10,\"solidity\":0.2}},\"type\":\"histogram\"}],\"scattergl\":[{\"type\":\"scattergl\",\"marker\":{\"colorbar\":{\"outlinewidth\":0,\"ticks\":\"\"}}}],\"scatter3d\":[{\"type\":\"scatter3d\",\"line\":{\"colorbar\":{\"outlinewidth\":0,\"ticks\":\"\"}},\"marker\":{\"colorbar\":{\"outlinewidth\":0,\"ticks\":\"\"}}}],\"scattermapbox\":[{\"type\":\"scattermapbox\",\"marker\":{\"colorbar\":{\"outlinewidth\":0,\"ticks\":\"\"}}}],\"scatterternary\":[{\"type\":\"scatterternary\",\"marker\":{\"colorbar\":{\"outlinewidth\":0,\"ticks\":\"\"}}}],\"scattercarpet\":[{\"type\":\"scattercarpet\",\"marker\":{\"colorbar\":{\"outlinewidth\":0,\"ticks\":\"\"}}}],\"carpet\":[{\"aaxis\":{\"endlinecolor\":\"#2a3f5f\",\"gridcolor\":\"white\",\"linecolor\":\"white\",\"minorgridcolor\":\"white\",\"startlinecolor\":\"#2a3f5f\"},\"baxis\":{\"endlinecolor\":\"#2a3f5f\",\"gridcolor\":\"white\",\"linecolor\":\"white\",\"minorgridcolor\":\"white\",\"startlinecolor\":\"#2a3f5f\"},\"type\":\"carpet\"}],\"table\":[{\"cells\":{\"fill\":{\"color\":\"#EBF0F8\"},\"line\":{\"color\":\"white\"}},\"header\":{\"fill\":{\"color\":\"#C8D4E3\"},\"line\":{\"color\":\"white\"}},\"type\":\"table\"}],\"barpolar\":[{\"marker\":{\"line\":{\"color\":\"#E5ECF6\",\"width\":0.5},\"pattern\":{\"fillmode\":\"overlay\",\"size\":10,\"solidity\":0.2}},\"type\":\"barpolar\"}],\"pie\":[{\"automargin\":true,\"type\":\"pie\"}]},\"layout\":{\"autotypenumbers\":\"strict\",\"colorway\":[\"#636efa\",\"#EF553B\",\"#00cc96\",\"#ab63fa\",\"#FFA15A\",\"#19d3f3\",\"#FF6692\",\"#B6E880\",\"#FF97FF\",\"#FECB52\"],\"font\":{\"color\":\"#2a3f5f\"},\"hovermode\":\"closest\",\"hoverlabel\":{\"align\":\"left\"},\"paper_bgcolor\":\"white\",\"plot_bgcolor\":\"#E5ECF6\",\"polar\":{\"bgcolor\":\"#E5ECF6\",\"angularaxis\":{\"gridcolor\":\"white\",\"linecolor\":\"white\",\"ticks\":\"\"},\"radialaxis\":{\"gridcolor\":\"white\",\"linecolor\":\"white\",\"ticks\":\"\"}},\"ternary\":{\"bgcolor\":\"#E5ECF6\",\"aaxis\":{\"gridcolor\":\"white\",\"linecolor\":\"white\",\"ticks\":\"\"},\"baxis\":{\"gridcolor\":\"white\",\"linecolor\":\"white\",\"ticks\":\"\"},\"caxis\":{\"gridcolor\":\"white\",\"linecolor\":\"white\",\"ticks\":\"\"}},\"coloraxis\":{\"colorbar\":{\"outlinewidth\":0,\"ticks\":\"\"}},\"colorscale\":{\"sequential\":[[0.0,\"#0d0887\"],[0.1111111111111111,\"#46039f\"],[0.2222222222222222,\"#7201a8\"],[0.3333333333333333,\"#9c179e\"],[0.4444444444444444,\"#bd3786\"],[0.5555555555555556,\"#d8576b\"],[0.6666666666666666,\"#ed7953\"],[0.7777777777777778,\"#fb9f3a\"],[0.8888888888888888,\"#fdca26\"],[1.0,\"#f0f921\"]],\"sequentialminus\":[[0.0,\"#0d0887\"],[0.1111111111111111,\"#46039f\"],[0.2222222222222222,\"#7201a8\"],[0.3333333333333333,\"#9c179e\"],[0.4444444444444444,\"#bd3786\"],[0.5555555555555556,\"#d8576b\"],[0.6666666666666666,\"#ed7953\"],[0.7777777777777778,\"#fb9f3a\"],[0.8888888888888888,\"#fdca26\"],[1.0,\"#f0f921\"]],\"diverging\":[[0,\"#8e0152\"],[0.1,\"#c51b7d\"],[0.2,\"#de77ae\"],[0.3,\"#f1b6da\"],[0.4,\"#fde0ef\"],[0.5,\"#f7f7f7\"],[0.6,\"#e6f5d0\"],[0.7,\"#b8e186\"],[0.8,\"#7fbc41\"],[0.9,\"#4d9221\"],[1,\"#276419\"]]},\"xaxis\":{\"gridcolor\":\"white\",\"linecolor\":\"white\",\"ticks\":\"\",\"title\":{\"standoff\":15},\"zerolinecolor\":\"white\",\"automargin\":true,\"zerolinewidth\":2},\"yaxis\":{\"gridcolor\":\"white\",\"linecolor\":\"white\",\"ticks\":\"\",\"title\":{\"standoff\":15},\"zerolinecolor\":\"white\",\"automargin\":true,\"zerolinewidth\":2},\"scene\":{\"xaxis\":{\"backgroundcolor\":\"#E5ECF6\",\"gridcolor\":\"white\",\"linecolor\":\"white\",\"showbackground\":true,\"ticks\":\"\",\"zerolinecolor\":\"white\",\"gridwidth\":2},\"yaxis\":{\"backgroundcolor\":\"#E5ECF6\",\"gridcolor\":\"white\",\"linecolor\":\"white\",\"showbackground\":true,\"ticks\":\"\",\"zerolinecolor\":\"white\",\"gridwidth\":2},\"zaxis\":{\"backgroundcolor\":\"#E5ECF6\",\"gridcolor\":\"white\",\"linecolor\":\"white\",\"showbackground\":true,\"ticks\":\"\",\"zerolinecolor\":\"white\",\"gridwidth\":2}},\"shapedefaults\":{\"line\":{\"color\":\"#2a3f5f\"}},\"annotationdefaults\":{\"arrowcolor\":\"#2a3f5f\",\"arrowhead\":0,\"arrowwidth\":1},\"geo\":{\"bgcolor\":\"white\",\"landcolor\":\"#E5ECF6\",\"subunitcolor\":\"white\",\"showland\":true,\"showlakes\":true,\"lakecolor\":\"white\"},\"title\":{\"x\":0.05},\"mapbox\":{\"style\":\"light\"}}},\"xaxis\":{\"anchor\":\"y\",\"domain\":[0.0,1.0],\"title\":{\"text\":\"Year\"}},\"yaxis\":{\"anchor\":\"x\",\"domain\":[0.0,1.0],\"title\":{\"text\":\"value\"}},\"legend\":{\"title\":{\"text\":\"variable\"},\"tracegroupgap\":0},\"margin\":{\"t\":60}},                        {\"responsive\": true}                    ).then(function(){\n",
       "                            \n",
       "var gd = document.getElementById('84b5a022-6907-4cf2-9164-b2ebd1221530');\n",
       "var x = new MutationObserver(function (mutations, observer) {{\n",
       "        var display = window.getComputedStyle(gd).display;\n",
       "        if (!display || display === 'none') {{\n",
       "            console.log([gd, 'removed!']);\n",
       "            Plotly.purge(gd);\n",
       "            observer.disconnect();\n",
       "        }}\n",
       "}});\n",
       "\n",
       "// Listen for the removal of the full notebook cells\n",
       "var notebookContainer = gd.closest('#notebook-container');\n",
       "if (notebookContainer) {{\n",
       "    x.observe(notebookContainer, {childList: true});\n",
       "}}\n",
       "\n",
       "// Listen for the clearing of the current output cell\n",
       "var outputEl = gd.closest('.output');\n",
       "if (outputEl) {{\n",
       "    x.observe(outputEl, {childList: true});\n",
       "}}\n",
       "\n",
       "                        })                };                });            </script>        </div>"
      ]
     },
     "metadata": {},
     "output_type": "display_data"
    }
   ],
   "source": [
    "px.line(df[['Year','Inflation_rate']].groupby('Year').agg('mean'),markers=True)"
   ]
  },
  {
   "cell_type": "code",
   "execution_count": 36,
   "id": "8c5cfc03",
   "metadata": {
    "execution": {
     "iopub.execute_input": "2023-08-10T13:58:45.203667Z",
     "iopub.status.busy": "2023-08-10T13:58:45.202957Z",
     "iopub.status.idle": "2023-08-10T13:58:45.214042Z",
     "shell.execute_reply": "2023-08-10T13:58:45.212895Z"
    },
    "papermill": {
     "duration": 0.032652,
     "end_time": "2023-08-10T13:58:45.216432",
     "exception": false,
     "start_time": "2023-08-10T13:58:45.183780",
     "status": "completed"
    },
    "tags": []
   },
   "outputs": [
    {
     "data": {
      "text/plain": [
       "0      1992\n",
       "1      1992\n",
       "2      1992\n",
       "3      1992\n",
       "4      1992\n",
       "       ... \n",
       "354    2021\n",
       "355    2021\n",
       "356    2021\n",
       "357    2021\n",
       "358    2021\n",
       "Name: Year, Length: 357, dtype: object"
      ]
     },
     "execution_count": 36,
     "metadata": {},
     "output_type": "execute_result"
    }
   ],
   "source": [
    "df['Year']=df['Year'].astype(str)\n",
    "df['Year']"
   ]
  },
  {
   "cell_type": "code",
   "execution_count": 37,
   "id": "fe064f5b",
   "metadata": {
    "execution": {
     "iopub.execute_input": "2023-08-10T13:58:45.253496Z",
     "iopub.status.busy": "2023-08-10T13:58:45.253082Z",
     "iopub.status.idle": "2023-08-10T13:58:45.263504Z",
     "shell.execute_reply": "2023-08-10T13:58:45.262394Z"
    },
    "papermill": {
     "duration": 0.032056,
     "end_time": "2023-08-10T13:58:45.265976",
     "exception": false,
     "start_time": "2023-08-10T13:58:45.233920",
     "status": "completed"
    },
    "tags": []
   },
   "outputs": [
    {
     "data": {
      "text/plain": [
       "0      1992-Feb\n",
       "1      1992-Mar\n",
       "2      1992-Apr\n",
       "3      1992-May\n",
       "4      1992-Jun\n",
       "         ...   \n",
       "354    2021-Aug\n",
       "355    2021-Sep\n",
       "356    2021-Oct\n",
       "357    2021-Nov\n",
       "358    2021-Dec\n",
       "Name: Date, Length: 357, dtype: object"
      ]
     },
     "execution_count": 37,
     "metadata": {},
     "output_type": "execute_result"
    }
   ],
   "source": [
    "df['Date']=df['Year']+'-'+df['Month']\n",
    "df['Date']"
   ]
  },
  {
   "cell_type": "code",
   "execution_count": 38,
   "id": "9477aa60",
   "metadata": {
    "execution": {
     "iopub.execute_input": "2023-08-10T13:58:45.304190Z",
     "iopub.status.busy": "2023-08-10T13:58:45.303774Z",
     "iopub.status.idle": "2023-08-10T13:58:45.342383Z",
     "shell.execute_reply": "2023-08-10T13:58:45.341322Z"
    },
    "papermill": {
     "duration": 0.060507,
     "end_time": "2023-08-10T13:58:45.344841",
     "exception": false,
     "start_time": "2023-08-10T13:58:45.284334",
     "status": "completed"
    },
    "tags": []
   },
   "outputs": [
    {
     "data": {
      "text/plain": [
       "0     1992-02-01\n",
       "1     1992-03-01\n",
       "2     1992-04-01\n",
       "3     1992-05-01\n",
       "4     1992-06-01\n",
       "         ...    \n",
       "354   2021-08-01\n",
       "355   2021-09-01\n",
       "356   2021-10-01\n",
       "357   2021-11-01\n",
       "358   2021-12-01\n",
       "Name: Date, Length: 357, dtype: datetime64[ns]"
      ]
     },
     "execution_count": 38,
     "metadata": {},
     "output_type": "execute_result"
    }
   ],
   "source": [
    "df['Date']=pd.to_datetime(df['Date'])\n",
    "df['Date']"
   ]
  },
  {
   "cell_type": "markdown",
   "id": "04532e47",
   "metadata": {
    "papermill": {
     "duration": 0.018603,
     "end_time": "2023-08-10T13:58:45.381512",
     "exception": false,
     "start_time": "2023-08-10T13:58:45.362909",
     "status": "completed"
    },
    "tags": []
   },
   "source": [
    "# How much Inflation_rate regarding Date?"
   ]
  },
  {
   "cell_type": "code",
   "execution_count": 39,
   "id": "67466111",
   "metadata": {
    "execution": {
     "iopub.execute_input": "2023-08-10T13:58:45.418769Z",
     "iopub.status.busy": "2023-08-10T13:58:45.418370Z",
     "iopub.status.idle": "2023-08-10T13:58:45.435120Z",
     "shell.execute_reply": "2023-08-10T13:58:45.433895Z"
    },
    "papermill": {
     "duration": 0.038109,
     "end_time": "2023-08-10T13:58:45.437391",
     "exception": false,
     "start_time": "2023-08-10T13:58:45.399282",
     "status": "completed"
    },
    "tags": []
   },
   "outputs": [
    {
     "data": {
      "text/html": [
       "<div>\n",
       "<style scoped>\n",
       "    .dataframe tbody tr th:only-of-type {\n",
       "        vertical-align: middle;\n",
       "    }\n",
       "\n",
       "    .dataframe tbody tr th {\n",
       "        vertical-align: top;\n",
       "    }\n",
       "\n",
       "    .dataframe thead th {\n",
       "        text-align: right;\n",
       "    }\n",
       "</style>\n",
       "<table border=\"1\" class=\"dataframe\">\n",
       "  <thead>\n",
       "    <tr style=\"text-align: right;\">\n",
       "      <th></th>\n",
       "      <th>Inflation_rate</th>\n",
       "    </tr>\n",
       "    <tr>\n",
       "      <th>Date</th>\n",
       "      <th></th>\n",
       "    </tr>\n",
       "  </thead>\n",
       "  <tbody>\n",
       "    <tr>\n",
       "      <th>1992-02-01</th>\n",
       "      <td>89.59</td>\n",
       "    </tr>\n",
       "    <tr>\n",
       "      <th>1992-03-01</th>\n",
       "      <td>89.59</td>\n",
       "    </tr>\n",
       "    <tr>\n",
       "      <th>1992-04-01</th>\n",
       "      <td>89.59</td>\n",
       "    </tr>\n",
       "    <tr>\n",
       "      <th>1992-05-01</th>\n",
       "      <td>89.59</td>\n",
       "    </tr>\n",
       "    <tr>\n",
       "      <th>1992-06-01</th>\n",
       "      <td>89.59</td>\n",
       "    </tr>\n",
       "    <tr>\n",
       "      <th>...</th>\n",
       "      <td>...</td>\n",
       "    </tr>\n",
       "    <tr>\n",
       "      <th>2021-08-01</th>\n",
       "      <td>-1.29</td>\n",
       "    </tr>\n",
       "    <tr>\n",
       "      <th>2021-09-01</th>\n",
       "      <td>-1.29</td>\n",
       "    </tr>\n",
       "    <tr>\n",
       "      <th>2021-10-01</th>\n",
       "      <td>-1.29</td>\n",
       "    </tr>\n",
       "    <tr>\n",
       "      <th>2021-11-01</th>\n",
       "      <td>-1.29</td>\n",
       "    </tr>\n",
       "    <tr>\n",
       "      <th>2021-12-01</th>\n",
       "      <td>-1.29</td>\n",
       "    </tr>\n",
       "  </tbody>\n",
       "</table>\n",
       "<p>357 rows × 1 columns</p>\n",
       "</div>"
      ],
      "text/plain": [
       "            Inflation_rate\n",
       "Date                      \n",
       "1992-02-01           89.59\n",
       "1992-03-01           89.59\n",
       "1992-04-01           89.59\n",
       "1992-05-01           89.59\n",
       "1992-06-01           89.59\n",
       "...                    ...\n",
       "2021-08-01           -1.29\n",
       "2021-09-01           -1.29\n",
       "2021-10-01           -1.29\n",
       "2021-11-01           -1.29\n",
       "2021-12-01           -1.29\n",
       "\n",
       "[357 rows x 1 columns]"
      ]
     },
     "execution_count": 39,
     "metadata": {},
     "output_type": "execute_result"
    }
   ],
   "source": [
    "df[['Date','Inflation_rate']].groupby('Date').agg('mean')"
   ]
  },
  {
   "cell_type": "code",
   "execution_count": 40,
   "id": "6f808e8b",
   "metadata": {
    "execution": {
     "iopub.execute_input": "2023-08-10T13:58:45.476228Z",
     "iopub.status.busy": "2023-08-10T13:58:45.475832Z",
     "iopub.status.idle": "2023-08-10T13:58:45.702770Z",
     "shell.execute_reply": "2023-08-10T13:58:45.701882Z"
    },
    "papermill": {
     "duration": 0.249116,
     "end_time": "2023-08-10T13:58:45.705000",
     "exception": false,
     "start_time": "2023-08-10T13:58:45.455884",
     "status": "completed"
    },
    "tags": []
   },
   "outputs": [
    {
     "data": {
      "text/html": [
       "<div>                            <div id=\"9ba9cd23-22de-4afd-9f2e-56e18dc63ad7\" class=\"plotly-graph-div\" style=\"height:525px; width:100%;\"></div>            <script type=\"text/javascript\">                require([\"plotly\"], function(Plotly) {                    window.PLOTLYENV=window.PLOTLYENV || {};                                    if (document.getElementById(\"9ba9cd23-22de-4afd-9f2e-56e18dc63ad7\")) {                    Plotly.newPlot(                        \"9ba9cd23-22de-4afd-9f2e-56e18dc63ad7\",                        [{\"hovertemplate\":\"variable=Inflation_rate\\u003cbr\\u003eDate=%{x}\\u003cbr\\u003evalue=%{y}\\u003cextra\\u003e\\u003c\\u002fextra\\u003e\",\"legendgroup\":\"Inflation_rate\",\"line\":{\"color\":\"#636efa\",\"dash\":\"solid\"},\"marker\":{\"symbol\":\"circle\"},\"mode\":\"lines\",\"name\":\"Inflation_rate\",\"orientation\":\"v\",\"showlegend\":true,\"x\":[\"1992-02-01T00:00:00\",\"1992-03-01T00:00:00\",\"1992-04-01T00:00:00\",\"1992-05-01T00:00:00\",\"1992-06-01T00:00:00\",\"1992-07-01T00:00:00\",\"1992-08-01T00:00:00\",\"1992-09-01T00:00:00\",\"1992-10-01T00:00:00\",\"1992-11-01T00:00:00\",\"1992-12-01T00:00:00\",\"1993-01-01T00:00:00\",\"1993-02-01T00:00:00\",\"1993-03-01T00:00:00\",\"1993-04-01T00:00:00\",\"1993-05-01T00:00:00\",\"1993-06-01T00:00:00\",\"1993-07-01T00:00:00\",\"1993-08-01T00:00:00\",\"1993-09-01T00:00:00\",\"1993-10-01T00:00:00\",\"1993-11-01T00:00:00\",\"1993-12-01T00:00:00\",\"1994-01-01T00:00:00\",\"1994-02-01T00:00:00\",\"1994-03-01T00:00:00\",\"1994-04-01T00:00:00\",\"1994-05-01T00:00:00\",\"1994-06-01T00:00:00\",\"1994-07-01T00:00:00\",\"1994-08-01T00:00:00\",\"1994-09-01T00:00:00\",\"1994-10-01T00:00:00\",\"1994-11-01T00:00:00\",\"1994-12-01T00:00:00\",\"1995-01-01T00:00:00\",\"1995-02-01T00:00:00\",\"1995-03-01T00:00:00\",\"1995-04-01T00:00:00\",\"1995-05-01T00:00:00\",\"1995-06-01T00:00:00\",\"1995-07-01T00:00:00\",\"1995-08-01T00:00:00\",\"1995-09-01T00:00:00\",\"1995-10-01T00:00:00\",\"1995-11-01T00:00:00\",\"1995-12-01T00:00:00\",\"1996-01-01T00:00:00\",\"1996-02-01T00:00:00\",\"1996-03-01T00:00:00\",\"1996-04-01T00:00:00\",\"1996-05-01T00:00:00\",\"1996-06-01T00:00:00\",\"1996-07-01T00:00:00\",\"1996-08-01T00:00:00\",\"1996-09-01T00:00:00\",\"1996-10-01T00:00:00\",\"1996-11-01T00:00:00\",\"1996-12-01T00:00:00\",\"1997-01-01T00:00:00\",\"1997-02-01T00:00:00\",\"1997-03-01T00:00:00\",\"1997-04-01T00:00:00\",\"1997-05-01T00:00:00\",\"1997-06-01T00:00:00\",\"1997-07-01T00:00:00\",\"1997-08-01T00:00:00\",\"1997-09-01T00:00:00\",\"1997-10-01T00:00:00\",\"1997-11-01T00:00:00\",\"1997-12-01T00:00:00\",\"1998-01-01T00:00:00\",\"1998-02-01T00:00:00\",\"1998-03-01T00:00:00\",\"1998-04-01T00:00:00\",\"1998-05-01T00:00:00\",\"1998-06-01T00:00:00\",\"1998-07-01T00:00:00\",\"1998-08-01T00:00:00\",\"1998-09-01T00:00:00\",\"1998-10-01T00:00:00\",\"1998-11-01T00:00:00\",\"1998-12-01T00:00:00\",\"1999-01-01T00:00:00\",\"1999-02-01T00:00:00\",\"1999-03-01T00:00:00\",\"1999-04-01T00:00:00\",\"1999-05-01T00:00:00\",\"1999-06-01T00:00:00\",\"1999-07-01T00:00:00\",\"1999-08-01T00:00:00\",\"1999-09-01T00:00:00\",\"1999-10-01T00:00:00\",\"1999-11-01T00:00:00\",\"1999-12-01T00:00:00\",\"2000-01-01T00:00:00\",\"2000-02-01T00:00:00\",\"2000-03-01T00:00:00\",\"2000-04-01T00:00:00\",\"2000-05-01T00:00:00\",\"2000-06-01T00:00:00\",\"2000-07-01T00:00:00\",\"2000-08-01T00:00:00\",\"2000-09-01T00:00:00\",\"2000-10-01T00:00:00\",\"2000-11-01T00:00:00\",\"2000-12-01T00:00:00\",\"2001-01-01T00:00:00\",\"2001-02-01T00:00:00\",\"2001-03-01T00:00:00\",\"2001-04-01T00:00:00\",\"2001-05-01T00:00:00\",\"2001-06-01T00:00:00\",\"2001-07-01T00:00:00\",\"2001-08-01T00:00:00\",\"2001-09-01T00:00:00\",\"2001-10-01T00:00:00\",\"2001-11-01T00:00:00\",\"2001-12-01T00:00:00\",\"2002-01-01T00:00:00\",\"2002-02-01T00:00:00\",\"2002-03-01T00:00:00\",\"2002-04-01T00:00:00\",\"2002-05-01T00:00:00\",\"2002-06-01T00:00:00\",\"2002-07-01T00:00:00\",\"2002-08-01T00:00:00\",\"2002-09-01T00:00:00\",\"2002-10-01T00:00:00\",\"2002-11-01T00:00:00\",\"2002-12-01T00:00:00\",\"2003-01-01T00:00:00\",\"2003-02-01T00:00:00\",\"2003-03-01T00:00:00\",\"2003-04-01T00:00:00\",\"2003-05-01T00:00:00\",\"2003-06-01T00:00:00\",\"2003-07-01T00:00:00\",\"2003-08-01T00:00:00\",\"2003-09-01T00:00:00\",\"2003-10-01T00:00:00\",\"2003-11-01T00:00:00\",\"2003-12-01T00:00:00\",\"2004-01-01T00:00:00\",\"2004-02-01T00:00:00\",\"2004-03-01T00:00:00\",\"2004-04-01T00:00:00\",\"2004-05-01T00:00:00\",\"2004-06-01T00:00:00\",\"2004-07-01T00:00:00\",\"2004-08-01T00:00:00\",\"2004-09-01T00:00:00\",\"2004-10-01T00:00:00\",\"2004-11-01T00:00:00\",\"2004-12-01T00:00:00\",\"2005-01-01T00:00:00\",\"2005-02-01T00:00:00\",\"2005-03-01T00:00:00\",\"2005-04-01T00:00:00\",\"2005-05-01T00:00:00\",\"2005-06-01T00:00:00\",\"2005-07-01T00:00:00\",\"2005-08-01T00:00:00\",\"2005-09-01T00:00:00\",\"2005-10-01T00:00:00\",\"2005-11-01T00:00:00\",\"2005-12-01T00:00:00\",\"2006-01-01T00:00:00\",\"2006-02-01T00:00:00\",\"2006-03-01T00:00:00\",\"2006-04-01T00:00:00\",\"2006-05-01T00:00:00\",\"2006-06-01T00:00:00\",\"2006-07-01T00:00:00\",\"2006-08-01T00:00:00\",\"2006-09-01T00:00:00\",\"2006-10-01T00:00:00\",\"2006-11-01T00:00:00\",\"2006-12-01T00:00:00\",\"2007-01-01T00:00:00\",\"2007-02-01T00:00:00\",\"2007-03-01T00:00:00\",\"2007-04-01T00:00:00\",\"2007-05-01T00:00:00\",\"2007-06-01T00:00:00\",\"2007-07-01T00:00:00\",\"2007-08-01T00:00:00\",\"2007-09-01T00:00:00\",\"2007-10-01T00:00:00\",\"2007-11-01T00:00:00\",\"2007-12-01T00:00:00\",\"2008-01-01T00:00:00\",\"2008-02-01T00:00:00\",\"2008-03-01T00:00:00\",\"2008-06-01T00:00:00\",\"2008-07-01T00:00:00\",\"2008-08-01T00:00:00\",\"2008-09-01T00:00:00\",\"2008-10-01T00:00:00\",\"2008-11-01T00:00:00\",\"2008-12-01T00:00:00\",\"2009-01-01T00:00:00\",\"2009-02-01T00:00:00\",\"2009-03-01T00:00:00\",\"2009-04-01T00:00:00\",\"2009-05-01T00:00:00\",\"2009-06-01T00:00:00\",\"2009-07-01T00:00:00\",\"2009-08-01T00:00:00\",\"2009-09-01T00:00:00\",\"2009-10-01T00:00:00\",\"2009-11-01T00:00:00\",\"2009-12-01T00:00:00\",\"2010-01-01T00:00:00\",\"2010-02-01T00:00:00\",\"2010-03-01T00:00:00\",\"2010-04-01T00:00:00\",\"2010-05-01T00:00:00\",\"2010-06-01T00:00:00\",\"2010-07-01T00:00:00\",\"2010-08-01T00:00:00\",\"2010-09-01T00:00:00\",\"2010-10-01T00:00:00\",\"2010-11-01T00:00:00\",\"2010-12-01T00:00:00\",\"2011-01-01T00:00:00\",\"2011-02-01T00:00:00\",\"2011-03-01T00:00:00\",\"2011-04-01T00:00:00\",\"2011-05-01T00:00:00\",\"2011-06-01T00:00:00\",\"2011-07-01T00:00:00\",\"2011-08-01T00:00:00\",\"2011-09-01T00:00:00\",\"2011-10-01T00:00:00\",\"2011-11-01T00:00:00\",\"2011-12-01T00:00:00\",\"2012-01-01T00:00:00\",\"2012-02-01T00:00:00\",\"2012-03-01T00:00:00\",\"2012-04-01T00:00:00\",\"2012-05-01T00:00:00\",\"2012-06-01T00:00:00\",\"2012-07-01T00:00:00\",\"2012-08-01T00:00:00\",\"2012-09-01T00:00:00\",\"2012-10-01T00:00:00\",\"2012-11-01T00:00:00\",\"2012-12-01T00:00:00\",\"2013-01-01T00:00:00\",\"2013-02-01T00:00:00\",\"2013-03-01T00:00:00\",\"2013-04-01T00:00:00\",\"2013-05-01T00:00:00\",\"2013-06-01T00:00:00\",\"2013-07-01T00:00:00\",\"2013-08-01T00:00:00\",\"2013-09-01T00:00:00\",\"2013-10-01T00:00:00\",\"2013-11-01T00:00:00\",\"2013-12-01T00:00:00\",\"2014-01-01T00:00:00\",\"2014-02-01T00:00:00\",\"2014-03-01T00:00:00\",\"2014-04-01T00:00:00\",\"2014-05-01T00:00:00\",\"2014-06-01T00:00:00\",\"2014-07-01T00:00:00\",\"2014-08-01T00:00:00\",\"2014-09-01T00:00:00\",\"2014-10-01T00:00:00\",\"2014-11-01T00:00:00\",\"2014-12-01T00:00:00\",\"2015-01-01T00:00:00\",\"2015-02-01T00:00:00\",\"2015-03-01T00:00:00\",\"2015-04-01T00:00:00\",\"2015-05-01T00:00:00\",\"2015-06-01T00:00:00\",\"2015-07-01T00:00:00\",\"2015-08-01T00:00:00\",\"2015-09-01T00:00:00\",\"2015-10-01T00:00:00\",\"2015-11-01T00:00:00\",\"2015-12-01T00:00:00\",\"2016-01-01T00:00:00\",\"2016-02-01T00:00:00\",\"2016-03-01T00:00:00\",\"2016-04-01T00:00:00\",\"2016-05-01T00:00:00\",\"2016-06-01T00:00:00\",\"2016-07-01T00:00:00\",\"2016-08-01T00:00:00\",\"2016-09-01T00:00:00\",\"2016-10-01T00:00:00\",\"2016-11-01T00:00:00\",\"2016-12-01T00:00:00\",\"2017-01-01T00:00:00\",\"2017-02-01T00:00:00\",\"2017-03-01T00:00:00\",\"2017-04-01T00:00:00\",\"2017-05-01T00:00:00\",\"2017-06-01T00:00:00\",\"2017-07-01T00:00:00\",\"2017-08-01T00:00:00\",\"2017-09-01T00:00:00\",\"2017-10-01T00:00:00\",\"2017-11-01T00:00:00\",\"2017-12-01T00:00:00\",\"2018-01-01T00:00:00\",\"2018-02-01T00:00:00\",\"2018-03-01T00:00:00\",\"2018-04-01T00:00:00\",\"2018-05-01T00:00:00\",\"2018-06-01T00:00:00\",\"2018-07-01T00:00:00\",\"2018-08-01T00:00:00\",\"2018-09-01T00:00:00\",\"2018-10-01T00:00:00\",\"2018-11-01T00:00:00\",\"2018-12-01T00:00:00\",\"2019-01-01T00:00:00\",\"2019-02-01T00:00:00\",\"2019-03-01T00:00:00\",\"2019-04-01T00:00:00\",\"2019-05-01T00:00:00\",\"2019-06-01T00:00:00\",\"2019-07-01T00:00:00\",\"2019-08-01T00:00:00\",\"2019-09-01T00:00:00\",\"2019-10-01T00:00:00\",\"2019-11-01T00:00:00\",\"2019-12-01T00:00:00\",\"2020-01-01T00:00:00\",\"2020-02-01T00:00:00\",\"2020-03-01T00:00:00\",\"2020-04-01T00:00:00\",\"2020-05-01T00:00:00\",\"2020-06-01T00:00:00\",\"2020-07-01T00:00:00\",\"2020-08-01T00:00:00\",\"2020-09-01T00:00:00\",\"2020-10-01T00:00:00\",\"2020-11-01T00:00:00\",\"2020-12-01T00:00:00\",\"2021-01-01T00:00:00\",\"2021-02-01T00:00:00\",\"2021-03-01T00:00:00\",\"2021-04-01T00:00:00\",\"2021-05-01T00:00:00\",\"2021-06-01T00:00:00\",\"2021-07-01T00:00:00\",\"2021-08-01T00:00:00\",\"2021-09-01T00:00:00\",\"2021-10-01T00:00:00\",\"2021-11-01T00:00:00\",\"2021-12-01T00:00:00\"],\"xaxis\":\"x\",\"y\":[89.59,89.59,89.59,89.59,89.59,89.59,89.59,89.59,89.59,89.59,89.59,84.15,84.15,84.15,84.15,84.15,84.15,84.15,84.15,84.15,84.15,84.15,84.15,79.47,79.47,79.47,79.47,79.47,79.47,79.47,79.47,79.47,79.47,79.47,79.47,74.58,74.58,74.58,74.58,74.58,74.58,74.58,74.58,74.58,74.58,74.58,74.58,69.6,69.6,69.6,69.6,69.6,69.6,69.6,69.6,69.6,69.6,69.6,69.6,65.73,65.73,65.73,65.73,65.73,65.73,65.73,65.73,65.73,65.73,65.73,65.73,63.2,63.2,63.2,63.2,63.2,63.2,63.2,63.2,63.2,63.2,63.2,63.2,59.7,59.7,59.7,59.7,59.7,59.7,59.7,59.7,59.7,59.7,59.7,59.7,54.49,54.49,54.49,54.49,54.49,54.49,54.49,54.49,54.49,54.49,54.49,54.49,50.24,50.24,50.24,50.24,50.24,50.24,50.24,50.24,50.24,50.24,50.24,50.24,47.89,47.89,47.89,47.89,47.89,47.89,47.89,47.89,47.89,47.89,47.89,47.89,44.61,44.61,44.61,44.61,44.61,44.61,44.61,44.61,44.61,44.61,44.61,44.61,40.84,40.84,40.84,40.84,40.84,40.84,40.84,40.84,40.84,40.84,40.84,40.84,36.22,36.22,36.22,36.22,36.22,36.22,36.22,36.22,36.22,36.22,36.22,36.22,31.96,31.96,31.96,31.96,31.96,31.96,31.96,31.96,31.96,31.96,31.96,31.96,28.3,28.3,28.3,28.3,28.3,28.3,28.3,28.3,28.3,28.3,28.3,28.3,23.56,23.56,23.56,23.56,23.56,23.56,23.56,23.56,23.56,23.56,24.0,24.0,24.0,24.0,24.0,24.0,24.0,24.0,24.0,24.0,24.0,24.0,22.0,22.0,22.0,22.0,22.0,22.0,22.0,22.0,22.0,22.0,22.0,22.0,18.27,18.27,18.27,18.27,18.27,18.27,18.27,18.27,18.27,18.27,18.27,18.27,15.87,15.87,15.87,15.87,15.87,15.87,15.87,15.87,15.87,15.87,15.87,15.87,14.19,14.19,14.19,14.19,14.19,14.19,14.19,14.19,14.19,14.19,14.19,14.19,12.37,12.37,12.37,12.37,12.37,12.37,12.37,12.37,12.37,12.37,12.37,12.37,12.24,12.24,12.24,12.24,12.24,12.24,12.24,12.24,12.24,12.24,12.24,12.24,10.84,10.84,10.84,10.84,10.84,10.84,10.84,10.84,10.84,10.84,10.84,10.84,8.53,8.53,8.53,8.53,8.53,8.53,8.53,8.53,8.53,8.53,8.53,8.53,5.94,5.94,5.94,5.94,5.94,5.94,5.94,5.94,5.94,5.94,5.94,5.94,4.06,4.06,4.06,4.06,4.06,4.06,4.06,4.06,4.06,4.06,4.06,4.06,2.79,2.79,2.79,2.79,2.79,2.79,2.79,2.79,2.79,2.79,2.79,2.79,-1.29,-1.29,-1.29,-1.29,-1.29,-1.29,-1.29,-1.29,-1.29,-1.29,-1.29,-1.29],\"yaxis\":\"y\",\"type\":\"scatter\"}],                        {\"template\":{\"data\":{\"histogram2dcontour\":[{\"type\":\"histogram2dcontour\",\"colorbar\":{\"outlinewidth\":0,\"ticks\":\"\"},\"colorscale\":[[0.0,\"#0d0887\"],[0.1111111111111111,\"#46039f\"],[0.2222222222222222,\"#7201a8\"],[0.3333333333333333,\"#9c179e\"],[0.4444444444444444,\"#bd3786\"],[0.5555555555555556,\"#d8576b\"],[0.6666666666666666,\"#ed7953\"],[0.7777777777777778,\"#fb9f3a\"],[0.8888888888888888,\"#fdca26\"],[1.0,\"#f0f921\"]]}],\"choropleth\":[{\"type\":\"choropleth\",\"colorbar\":{\"outlinewidth\":0,\"ticks\":\"\"}}],\"histogram2d\":[{\"type\":\"histogram2d\",\"colorbar\":{\"outlinewidth\":0,\"ticks\":\"\"},\"colorscale\":[[0.0,\"#0d0887\"],[0.1111111111111111,\"#46039f\"],[0.2222222222222222,\"#7201a8\"],[0.3333333333333333,\"#9c179e\"],[0.4444444444444444,\"#bd3786\"],[0.5555555555555556,\"#d8576b\"],[0.6666666666666666,\"#ed7953\"],[0.7777777777777778,\"#fb9f3a\"],[0.8888888888888888,\"#fdca26\"],[1.0,\"#f0f921\"]]}],\"heatmap\":[{\"type\":\"heatmap\",\"colorbar\":{\"outlinewidth\":0,\"ticks\":\"\"},\"colorscale\":[[0.0,\"#0d0887\"],[0.1111111111111111,\"#46039f\"],[0.2222222222222222,\"#7201a8\"],[0.3333333333333333,\"#9c179e\"],[0.4444444444444444,\"#bd3786\"],[0.5555555555555556,\"#d8576b\"],[0.6666666666666666,\"#ed7953\"],[0.7777777777777778,\"#fb9f3a\"],[0.8888888888888888,\"#fdca26\"],[1.0,\"#f0f921\"]]}],\"heatmapgl\":[{\"type\":\"heatmapgl\",\"colorbar\":{\"outlinewidth\":0,\"ticks\":\"\"},\"colorscale\":[[0.0,\"#0d0887\"],[0.1111111111111111,\"#46039f\"],[0.2222222222222222,\"#7201a8\"],[0.3333333333333333,\"#9c179e\"],[0.4444444444444444,\"#bd3786\"],[0.5555555555555556,\"#d8576b\"],[0.6666666666666666,\"#ed7953\"],[0.7777777777777778,\"#fb9f3a\"],[0.8888888888888888,\"#fdca26\"],[1.0,\"#f0f921\"]]}],\"contourcarpet\":[{\"type\":\"contourcarpet\",\"colorbar\":{\"outlinewidth\":0,\"ticks\":\"\"}}],\"contour\":[{\"type\":\"contour\",\"colorbar\":{\"outlinewidth\":0,\"ticks\":\"\"},\"colorscale\":[[0.0,\"#0d0887\"],[0.1111111111111111,\"#46039f\"],[0.2222222222222222,\"#7201a8\"],[0.3333333333333333,\"#9c179e\"],[0.4444444444444444,\"#bd3786\"],[0.5555555555555556,\"#d8576b\"],[0.6666666666666666,\"#ed7953\"],[0.7777777777777778,\"#fb9f3a\"],[0.8888888888888888,\"#fdca26\"],[1.0,\"#f0f921\"]]}],\"surface\":[{\"type\":\"surface\",\"colorbar\":{\"outlinewidth\":0,\"ticks\":\"\"},\"colorscale\":[[0.0,\"#0d0887\"],[0.1111111111111111,\"#46039f\"],[0.2222222222222222,\"#7201a8\"],[0.3333333333333333,\"#9c179e\"],[0.4444444444444444,\"#bd3786\"],[0.5555555555555556,\"#d8576b\"],[0.6666666666666666,\"#ed7953\"],[0.7777777777777778,\"#fb9f3a\"],[0.8888888888888888,\"#fdca26\"],[1.0,\"#f0f921\"]]}],\"mesh3d\":[{\"type\":\"mesh3d\",\"colorbar\":{\"outlinewidth\":0,\"ticks\":\"\"}}],\"scatter\":[{\"fillpattern\":{\"fillmode\":\"overlay\",\"size\":10,\"solidity\":0.2},\"type\":\"scatter\"}],\"parcoords\":[{\"type\":\"parcoords\",\"line\":{\"colorbar\":{\"outlinewidth\":0,\"ticks\":\"\"}}}],\"scatterpolargl\":[{\"type\":\"scatterpolargl\",\"marker\":{\"colorbar\":{\"outlinewidth\":0,\"ticks\":\"\"}}}],\"bar\":[{\"error_x\":{\"color\":\"#2a3f5f\"},\"error_y\":{\"color\":\"#2a3f5f\"},\"marker\":{\"line\":{\"color\":\"#E5ECF6\",\"width\":0.5},\"pattern\":{\"fillmode\":\"overlay\",\"size\":10,\"solidity\":0.2}},\"type\":\"bar\"}],\"scattergeo\":[{\"type\":\"scattergeo\",\"marker\":{\"colorbar\":{\"outlinewidth\":0,\"ticks\":\"\"}}}],\"scatterpolar\":[{\"type\":\"scatterpolar\",\"marker\":{\"colorbar\":{\"outlinewidth\":0,\"ticks\":\"\"}}}],\"histogram\":[{\"marker\":{\"pattern\":{\"fillmode\":\"overlay\",\"size\":10,\"solidity\":0.2}},\"type\":\"histogram\"}],\"scattergl\":[{\"type\":\"scattergl\",\"marker\":{\"colorbar\":{\"outlinewidth\":0,\"ticks\":\"\"}}}],\"scatter3d\":[{\"type\":\"scatter3d\",\"line\":{\"colorbar\":{\"outlinewidth\":0,\"ticks\":\"\"}},\"marker\":{\"colorbar\":{\"outlinewidth\":0,\"ticks\":\"\"}}}],\"scattermapbox\":[{\"type\":\"scattermapbox\",\"marker\":{\"colorbar\":{\"outlinewidth\":0,\"ticks\":\"\"}}}],\"scatterternary\":[{\"type\":\"scatterternary\",\"marker\":{\"colorbar\":{\"outlinewidth\":0,\"ticks\":\"\"}}}],\"scattercarpet\":[{\"type\":\"scattercarpet\",\"marker\":{\"colorbar\":{\"outlinewidth\":0,\"ticks\":\"\"}}}],\"carpet\":[{\"aaxis\":{\"endlinecolor\":\"#2a3f5f\",\"gridcolor\":\"white\",\"linecolor\":\"white\",\"minorgridcolor\":\"white\",\"startlinecolor\":\"#2a3f5f\"},\"baxis\":{\"endlinecolor\":\"#2a3f5f\",\"gridcolor\":\"white\",\"linecolor\":\"white\",\"minorgridcolor\":\"white\",\"startlinecolor\":\"#2a3f5f\"},\"type\":\"carpet\"}],\"table\":[{\"cells\":{\"fill\":{\"color\":\"#EBF0F8\"},\"line\":{\"color\":\"white\"}},\"header\":{\"fill\":{\"color\":\"#C8D4E3\"},\"line\":{\"color\":\"white\"}},\"type\":\"table\"}],\"barpolar\":[{\"marker\":{\"line\":{\"color\":\"#E5ECF6\",\"width\":0.5},\"pattern\":{\"fillmode\":\"overlay\",\"size\":10,\"solidity\":0.2}},\"type\":\"barpolar\"}],\"pie\":[{\"automargin\":true,\"type\":\"pie\"}]},\"layout\":{\"autotypenumbers\":\"strict\",\"colorway\":[\"#636efa\",\"#EF553B\",\"#00cc96\",\"#ab63fa\",\"#FFA15A\",\"#19d3f3\",\"#FF6692\",\"#B6E880\",\"#FF97FF\",\"#FECB52\"],\"font\":{\"color\":\"#2a3f5f\"},\"hovermode\":\"closest\",\"hoverlabel\":{\"align\":\"left\"},\"paper_bgcolor\":\"white\",\"plot_bgcolor\":\"#E5ECF6\",\"polar\":{\"bgcolor\":\"#E5ECF6\",\"angularaxis\":{\"gridcolor\":\"white\",\"linecolor\":\"white\",\"ticks\":\"\"},\"radialaxis\":{\"gridcolor\":\"white\",\"linecolor\":\"white\",\"ticks\":\"\"}},\"ternary\":{\"bgcolor\":\"#E5ECF6\",\"aaxis\":{\"gridcolor\":\"white\",\"linecolor\":\"white\",\"ticks\":\"\"},\"baxis\":{\"gridcolor\":\"white\",\"linecolor\":\"white\",\"ticks\":\"\"},\"caxis\":{\"gridcolor\":\"white\",\"linecolor\":\"white\",\"ticks\":\"\"}},\"coloraxis\":{\"colorbar\":{\"outlinewidth\":0,\"ticks\":\"\"}},\"colorscale\":{\"sequential\":[[0.0,\"#0d0887\"],[0.1111111111111111,\"#46039f\"],[0.2222222222222222,\"#7201a8\"],[0.3333333333333333,\"#9c179e\"],[0.4444444444444444,\"#bd3786\"],[0.5555555555555556,\"#d8576b\"],[0.6666666666666666,\"#ed7953\"],[0.7777777777777778,\"#fb9f3a\"],[0.8888888888888888,\"#fdca26\"],[1.0,\"#f0f921\"]],\"sequentialminus\":[[0.0,\"#0d0887\"],[0.1111111111111111,\"#46039f\"],[0.2222222222222222,\"#7201a8\"],[0.3333333333333333,\"#9c179e\"],[0.4444444444444444,\"#bd3786\"],[0.5555555555555556,\"#d8576b\"],[0.6666666666666666,\"#ed7953\"],[0.7777777777777778,\"#fb9f3a\"],[0.8888888888888888,\"#fdca26\"],[1.0,\"#f0f921\"]],\"diverging\":[[0,\"#8e0152\"],[0.1,\"#c51b7d\"],[0.2,\"#de77ae\"],[0.3,\"#f1b6da\"],[0.4,\"#fde0ef\"],[0.5,\"#f7f7f7\"],[0.6,\"#e6f5d0\"],[0.7,\"#b8e186\"],[0.8,\"#7fbc41\"],[0.9,\"#4d9221\"],[1,\"#276419\"]]},\"xaxis\":{\"gridcolor\":\"white\",\"linecolor\":\"white\",\"ticks\":\"\",\"title\":{\"standoff\":15},\"zerolinecolor\":\"white\",\"automargin\":true,\"zerolinewidth\":2},\"yaxis\":{\"gridcolor\":\"white\",\"linecolor\":\"white\",\"ticks\":\"\",\"title\":{\"standoff\":15},\"zerolinecolor\":\"white\",\"automargin\":true,\"zerolinewidth\":2},\"scene\":{\"xaxis\":{\"backgroundcolor\":\"#E5ECF6\",\"gridcolor\":\"white\",\"linecolor\":\"white\",\"showbackground\":true,\"ticks\":\"\",\"zerolinecolor\":\"white\",\"gridwidth\":2},\"yaxis\":{\"backgroundcolor\":\"#E5ECF6\",\"gridcolor\":\"white\",\"linecolor\":\"white\",\"showbackground\":true,\"ticks\":\"\",\"zerolinecolor\":\"white\",\"gridwidth\":2},\"zaxis\":{\"backgroundcolor\":\"#E5ECF6\",\"gridcolor\":\"white\",\"linecolor\":\"white\",\"showbackground\":true,\"ticks\":\"\",\"zerolinecolor\":\"white\",\"gridwidth\":2}},\"shapedefaults\":{\"line\":{\"color\":\"#2a3f5f\"}},\"annotationdefaults\":{\"arrowcolor\":\"#2a3f5f\",\"arrowhead\":0,\"arrowwidth\":1},\"geo\":{\"bgcolor\":\"white\",\"landcolor\":\"#E5ECF6\",\"subunitcolor\":\"white\",\"showland\":true,\"showlakes\":true,\"lakecolor\":\"white\"},\"title\":{\"x\":0.05},\"mapbox\":{\"style\":\"light\"}}},\"xaxis\":{\"anchor\":\"y\",\"domain\":[0.0,1.0],\"title\":{\"text\":\"Date\"}},\"yaxis\":{\"anchor\":\"x\",\"domain\":[0.0,1.0],\"title\":{\"text\":\"value\"}},\"legend\":{\"title\":{\"text\":\"variable\"},\"tracegroupgap\":0},\"margin\":{\"t\":60}},                        {\"responsive\": true}                    ).then(function(){\n",
       "                            \n",
       "var gd = document.getElementById('9ba9cd23-22de-4afd-9f2e-56e18dc63ad7');\n",
       "var x = new MutationObserver(function (mutations, observer) {{\n",
       "        var display = window.getComputedStyle(gd).display;\n",
       "        if (!display || display === 'none') {{\n",
       "            console.log([gd, 'removed!']);\n",
       "            Plotly.purge(gd);\n",
       "            observer.disconnect();\n",
       "        }}\n",
       "}});\n",
       "\n",
       "// Listen for the removal of the full notebook cells\n",
       "var notebookContainer = gd.closest('#notebook-container');\n",
       "if (notebookContainer) {{\n",
       "    x.observe(notebookContainer, {childList: true});\n",
       "}}\n",
       "\n",
       "// Listen for the clearing of the current output cell\n",
       "var outputEl = gd.closest('.output');\n",
       "if (outputEl) {{\n",
       "    x.observe(outputEl, {childList: true});\n",
       "}}\n",
       "\n",
       "                        })                };                });            </script>        </div>"
      ]
     },
     "metadata": {},
     "output_type": "display_data"
    }
   ],
   "source": [
    "px.line(df[['Date','Inflation_rate']].groupby('Date').agg('mean'))"
   ]
  },
  {
   "cell_type": "markdown",
   "id": "b0da0b0f",
   "metadata": {
    "papermill": {
     "duration": 0.01778,
     "end_time": "2023-08-10T13:58:45.741736",
     "exception": false,
     "start_time": "2023-08-10T13:58:45.723956",
     "status": "completed"
    },
    "tags": []
   },
   "source": [
    "**'Inflation rate' was always decreased except for dates between 2008 to 2009 it raised from 23.56 to 24 and in 2010 dropped again to 22**"
   ]
  },
  {
   "cell_type": "markdown",
   "id": "3987c010",
   "metadata": {
    "papermill": {
     "duration": 0.01797,
     "end_time": "2023-08-10T13:58:45.778015",
     "exception": false,
     "start_time": "2023-08-10T13:58:45.760045",
     "status": "completed"
    },
    "tags": []
   },
   "source": [
    "# At which month of the year does the drop in the Inflation rate happened usually?"
   ]
  },
  {
   "cell_type": "code",
   "execution_count": 41,
   "id": "570b3ae7",
   "metadata": {
    "execution": {
     "iopub.execute_input": "2023-08-10T13:58:45.816350Z",
     "iopub.status.busy": "2023-08-10T13:58:45.815702Z",
     "iopub.status.idle": "2023-08-10T13:58:45.824538Z",
     "shell.execute_reply": "2023-08-10T13:58:45.823411Z"
    },
    "papermill": {
     "duration": 0.030376,
     "end_time": "2023-08-10T13:58:45.826562",
     "exception": false,
     "start_time": "2023-08-10T13:58:45.796186",
     "status": "completed"
    },
    "tags": []
   },
   "outputs": [
    {
     "data": {
      "text/plain": [
       "0      1992\n",
       "1      1992\n",
       "2      1992\n",
       "3      1992\n",
       "4      1992\n",
       "       ... \n",
       "354    2021\n",
       "355    2021\n",
       "356    2021\n",
       "357    2021\n",
       "358    2021\n",
       "Name: Year, Length: 357, dtype: int64"
      ]
     },
     "execution_count": 41,
     "metadata": {},
     "output_type": "execute_result"
    }
   ],
   "source": [
    "df['Year']=df['Year'].astype(int)\n",
    "df['Year']"
   ]
  },
  {
   "cell_type": "code",
   "execution_count": 42,
   "id": "3d1ebccd",
   "metadata": {
    "execution": {
     "iopub.execute_input": "2023-08-10T13:58:45.864805Z",
     "iopub.status.busy": "2023-08-10T13:58:45.864422Z",
     "iopub.status.idle": "2023-08-10T13:58:45.916633Z",
     "shell.execute_reply": "2023-08-10T13:58:45.915400Z"
    },
    "papermill": {
     "duration": 0.07419,
     "end_time": "2023-08-10T13:58:45.919034",
     "exception": false,
     "start_time": "2023-08-10T13:58:45.844844",
     "status": "completed"
    },
    "tags": []
   },
   "outputs": [
    {
     "data": {
      "text/html": [
       "<div>\n",
       "<style scoped>\n",
       "    .dataframe tbody tr th:only-of-type {\n",
       "        vertical-align: middle;\n",
       "    }\n",
       "\n",
       "    .dataframe tbody tr th {\n",
       "        vertical-align: top;\n",
       "    }\n",
       "\n",
       "    .dataframe thead th {\n",
       "        text-align: right;\n",
       "    }\n",
       "</style>\n",
       "<table border=\"1\" class=\"dataframe\">\n",
       "  <thead>\n",
       "    <tr style=\"text-align: right;\">\n",
       "      <th>Month_num</th>\n",
       "      <th>1</th>\n",
       "      <th>2</th>\n",
       "      <th>3</th>\n",
       "      <th>4</th>\n",
       "      <th>5</th>\n",
       "      <th>6</th>\n",
       "      <th>7</th>\n",
       "      <th>8</th>\n",
       "      <th>9</th>\n",
       "      <th>10</th>\n",
       "      <th>11</th>\n",
       "      <th>12</th>\n",
       "    </tr>\n",
       "    <tr>\n",
       "      <th>Year</th>\n",
       "      <th></th>\n",
       "      <th></th>\n",
       "      <th></th>\n",
       "      <th></th>\n",
       "      <th></th>\n",
       "      <th></th>\n",
       "      <th></th>\n",
       "      <th></th>\n",
       "      <th></th>\n",
       "      <th></th>\n",
       "      <th></th>\n",
       "      <th></th>\n",
       "    </tr>\n",
       "  </thead>\n",
       "  <tbody>\n",
       "    <tr>\n",
       "      <th>1992</th>\n",
       "      <td>NaN</td>\n",
       "      <td>89.59</td>\n",
       "      <td>89.59</td>\n",
       "      <td>89.59</td>\n",
       "      <td>89.59</td>\n",
       "      <td>89.59</td>\n",
       "      <td>89.59</td>\n",
       "      <td>89.59</td>\n",
       "      <td>89.59</td>\n",
       "      <td>89.59</td>\n",
       "      <td>89.59</td>\n",
       "      <td>89.59</td>\n",
       "    </tr>\n",
       "    <tr>\n",
       "      <th>1993</th>\n",
       "      <td>84.15</td>\n",
       "      <td>84.15</td>\n",
       "      <td>84.15</td>\n",
       "      <td>84.15</td>\n",
       "      <td>84.15</td>\n",
       "      <td>84.15</td>\n",
       "      <td>84.15</td>\n",
       "      <td>84.15</td>\n",
       "      <td>84.15</td>\n",
       "      <td>84.15</td>\n",
       "      <td>84.15</td>\n",
       "      <td>84.15</td>\n",
       "    </tr>\n",
       "    <tr>\n",
       "      <th>1994</th>\n",
       "      <td>79.47</td>\n",
       "      <td>79.47</td>\n",
       "      <td>79.47</td>\n",
       "      <td>79.47</td>\n",
       "      <td>79.47</td>\n",
       "      <td>79.47</td>\n",
       "      <td>79.47</td>\n",
       "      <td>79.47</td>\n",
       "      <td>79.47</td>\n",
       "      <td>79.47</td>\n",
       "      <td>79.47</td>\n",
       "      <td>79.47</td>\n",
       "    </tr>\n",
       "    <tr>\n",
       "      <th>1995</th>\n",
       "      <td>74.58</td>\n",
       "      <td>74.58</td>\n",
       "      <td>74.58</td>\n",
       "      <td>74.58</td>\n",
       "      <td>74.58</td>\n",
       "      <td>74.58</td>\n",
       "      <td>74.58</td>\n",
       "      <td>74.58</td>\n",
       "      <td>74.58</td>\n",
       "      <td>74.58</td>\n",
       "      <td>74.58</td>\n",
       "      <td>74.58</td>\n",
       "    </tr>\n",
       "    <tr>\n",
       "      <th>1996</th>\n",
       "      <td>69.60</td>\n",
       "      <td>69.60</td>\n",
       "      <td>69.60</td>\n",
       "      <td>69.60</td>\n",
       "      <td>69.60</td>\n",
       "      <td>69.60</td>\n",
       "      <td>69.60</td>\n",
       "      <td>69.60</td>\n",
       "      <td>69.60</td>\n",
       "      <td>69.60</td>\n",
       "      <td>69.60</td>\n",
       "      <td>69.60</td>\n",
       "    </tr>\n",
       "    <tr>\n",
       "      <th>1997</th>\n",
       "      <td>65.73</td>\n",
       "      <td>65.73</td>\n",
       "      <td>65.73</td>\n",
       "      <td>65.73</td>\n",
       "      <td>65.73</td>\n",
       "      <td>65.73</td>\n",
       "      <td>65.73</td>\n",
       "      <td>65.73</td>\n",
       "      <td>65.73</td>\n",
       "      <td>65.73</td>\n",
       "      <td>65.73</td>\n",
       "      <td>65.73</td>\n",
       "    </tr>\n",
       "    <tr>\n",
       "      <th>1998</th>\n",
       "      <td>63.20</td>\n",
       "      <td>63.20</td>\n",
       "      <td>63.20</td>\n",
       "      <td>63.20</td>\n",
       "      <td>63.20</td>\n",
       "      <td>63.20</td>\n",
       "      <td>63.20</td>\n",
       "      <td>63.20</td>\n",
       "      <td>63.20</td>\n",
       "      <td>63.20</td>\n",
       "      <td>63.20</td>\n",
       "      <td>63.20</td>\n",
       "    </tr>\n",
       "    <tr>\n",
       "      <th>1999</th>\n",
       "      <td>59.70</td>\n",
       "      <td>59.70</td>\n",
       "      <td>59.70</td>\n",
       "      <td>59.70</td>\n",
       "      <td>59.70</td>\n",
       "      <td>59.70</td>\n",
       "      <td>59.70</td>\n",
       "      <td>59.70</td>\n",
       "      <td>59.70</td>\n",
       "      <td>59.70</td>\n",
       "      <td>59.70</td>\n",
       "      <td>59.70</td>\n",
       "    </tr>\n",
       "    <tr>\n",
       "      <th>2000</th>\n",
       "      <td>54.49</td>\n",
       "      <td>54.49</td>\n",
       "      <td>54.49</td>\n",
       "      <td>54.49</td>\n",
       "      <td>54.49</td>\n",
       "      <td>54.49</td>\n",
       "      <td>54.49</td>\n",
       "      <td>54.49</td>\n",
       "      <td>54.49</td>\n",
       "      <td>54.49</td>\n",
       "      <td>54.49</td>\n",
       "      <td>54.49</td>\n",
       "    </tr>\n",
       "    <tr>\n",
       "      <th>2001</th>\n",
       "      <td>50.24</td>\n",
       "      <td>50.24</td>\n",
       "      <td>50.24</td>\n",
       "      <td>50.24</td>\n",
       "      <td>50.24</td>\n",
       "      <td>50.24</td>\n",
       "      <td>50.24</td>\n",
       "      <td>50.24</td>\n",
       "      <td>50.24</td>\n",
       "      <td>50.24</td>\n",
       "      <td>50.24</td>\n",
       "      <td>50.24</td>\n",
       "    </tr>\n",
       "    <tr>\n",
       "      <th>2002</th>\n",
       "      <td>47.89</td>\n",
       "      <td>47.89</td>\n",
       "      <td>47.89</td>\n",
       "      <td>47.89</td>\n",
       "      <td>47.89</td>\n",
       "      <td>47.89</td>\n",
       "      <td>47.89</td>\n",
       "      <td>47.89</td>\n",
       "      <td>47.89</td>\n",
       "      <td>47.89</td>\n",
       "      <td>47.89</td>\n",
       "      <td>47.89</td>\n",
       "    </tr>\n",
       "    <tr>\n",
       "      <th>2003</th>\n",
       "      <td>44.61</td>\n",
       "      <td>44.61</td>\n",
       "      <td>44.61</td>\n",
       "      <td>44.61</td>\n",
       "      <td>44.61</td>\n",
       "      <td>44.61</td>\n",
       "      <td>44.61</td>\n",
       "      <td>44.61</td>\n",
       "      <td>44.61</td>\n",
       "      <td>44.61</td>\n",
       "      <td>44.61</td>\n",
       "      <td>44.61</td>\n",
       "    </tr>\n",
       "    <tr>\n",
       "      <th>2004</th>\n",
       "      <td>40.84</td>\n",
       "      <td>40.84</td>\n",
       "      <td>40.84</td>\n",
       "      <td>40.84</td>\n",
       "      <td>40.84</td>\n",
       "      <td>40.84</td>\n",
       "      <td>40.84</td>\n",
       "      <td>40.84</td>\n",
       "      <td>40.84</td>\n",
       "      <td>40.84</td>\n",
       "      <td>40.84</td>\n",
       "      <td>40.84</td>\n",
       "    </tr>\n",
       "    <tr>\n",
       "      <th>2005</th>\n",
       "      <td>36.22</td>\n",
       "      <td>36.22</td>\n",
       "      <td>36.22</td>\n",
       "      <td>36.22</td>\n",
       "      <td>36.22</td>\n",
       "      <td>36.22</td>\n",
       "      <td>36.22</td>\n",
       "      <td>36.22</td>\n",
       "      <td>36.22</td>\n",
       "      <td>36.22</td>\n",
       "      <td>36.22</td>\n",
       "      <td>36.22</td>\n",
       "    </tr>\n",
       "    <tr>\n",
       "      <th>2006</th>\n",
       "      <td>31.96</td>\n",
       "      <td>31.96</td>\n",
       "      <td>31.96</td>\n",
       "      <td>31.96</td>\n",
       "      <td>31.96</td>\n",
       "      <td>31.96</td>\n",
       "      <td>31.96</td>\n",
       "      <td>31.96</td>\n",
       "      <td>31.96</td>\n",
       "      <td>31.96</td>\n",
       "      <td>31.96</td>\n",
       "      <td>31.96</td>\n",
       "    </tr>\n",
       "    <tr>\n",
       "      <th>2007</th>\n",
       "      <td>28.30</td>\n",
       "      <td>28.30</td>\n",
       "      <td>28.30</td>\n",
       "      <td>28.30</td>\n",
       "      <td>28.30</td>\n",
       "      <td>28.30</td>\n",
       "      <td>28.30</td>\n",
       "      <td>28.30</td>\n",
       "      <td>28.30</td>\n",
       "      <td>28.30</td>\n",
       "      <td>28.30</td>\n",
       "      <td>28.30</td>\n",
       "    </tr>\n",
       "    <tr>\n",
       "      <th>2008</th>\n",
       "      <td>23.56</td>\n",
       "      <td>23.56</td>\n",
       "      <td>23.56</td>\n",
       "      <td>NaN</td>\n",
       "      <td>NaN</td>\n",
       "      <td>23.56</td>\n",
       "      <td>23.56</td>\n",
       "      <td>23.56</td>\n",
       "      <td>23.56</td>\n",
       "      <td>23.56</td>\n",
       "      <td>23.56</td>\n",
       "      <td>23.56</td>\n",
       "    </tr>\n",
       "    <tr>\n",
       "      <th>2009</th>\n",
       "      <td>24.00</td>\n",
       "      <td>24.00</td>\n",
       "      <td>24.00</td>\n",
       "      <td>24.00</td>\n",
       "      <td>24.00</td>\n",
       "      <td>24.00</td>\n",
       "      <td>24.00</td>\n",
       "      <td>24.00</td>\n",
       "      <td>24.00</td>\n",
       "      <td>24.00</td>\n",
       "      <td>24.00</td>\n",
       "      <td>24.00</td>\n",
       "    </tr>\n",
       "    <tr>\n",
       "      <th>2010</th>\n",
       "      <td>22.00</td>\n",
       "      <td>22.00</td>\n",
       "      <td>22.00</td>\n",
       "      <td>22.00</td>\n",
       "      <td>22.00</td>\n",
       "      <td>22.00</td>\n",
       "      <td>22.00</td>\n",
       "      <td>22.00</td>\n",
       "      <td>22.00</td>\n",
       "      <td>22.00</td>\n",
       "      <td>22.00</td>\n",
       "      <td>22.00</td>\n",
       "    </tr>\n",
       "    <tr>\n",
       "      <th>2011</th>\n",
       "      <td>18.27</td>\n",
       "      <td>18.27</td>\n",
       "      <td>18.27</td>\n",
       "      <td>18.27</td>\n",
       "      <td>18.27</td>\n",
       "      <td>18.27</td>\n",
       "      <td>18.27</td>\n",
       "      <td>18.27</td>\n",
       "      <td>18.27</td>\n",
       "      <td>18.27</td>\n",
       "      <td>18.27</td>\n",
       "      <td>18.27</td>\n",
       "    </tr>\n",
       "    <tr>\n",
       "      <th>2012</th>\n",
       "      <td>15.87</td>\n",
       "      <td>15.87</td>\n",
       "      <td>15.87</td>\n",
       "      <td>15.87</td>\n",
       "      <td>15.87</td>\n",
       "      <td>15.87</td>\n",
       "      <td>15.87</td>\n",
       "      <td>15.87</td>\n",
       "      <td>15.87</td>\n",
       "      <td>15.87</td>\n",
       "      <td>15.87</td>\n",
       "      <td>15.87</td>\n",
       "    </tr>\n",
       "    <tr>\n",
       "      <th>2013</th>\n",
       "      <td>14.19</td>\n",
       "      <td>14.19</td>\n",
       "      <td>14.19</td>\n",
       "      <td>14.19</td>\n",
       "      <td>14.19</td>\n",
       "      <td>14.19</td>\n",
       "      <td>14.19</td>\n",
       "      <td>14.19</td>\n",
       "      <td>14.19</td>\n",
       "      <td>14.19</td>\n",
       "      <td>14.19</td>\n",
       "      <td>14.19</td>\n",
       "    </tr>\n",
       "    <tr>\n",
       "      <th>2014</th>\n",
       "      <td>12.37</td>\n",
       "      <td>12.37</td>\n",
       "      <td>12.37</td>\n",
       "      <td>12.37</td>\n",
       "      <td>12.37</td>\n",
       "      <td>12.37</td>\n",
       "      <td>12.37</td>\n",
       "      <td>12.37</td>\n",
       "      <td>12.37</td>\n",
       "      <td>12.37</td>\n",
       "      <td>12.37</td>\n",
       "      <td>12.37</td>\n",
       "    </tr>\n",
       "    <tr>\n",
       "      <th>2015</th>\n",
       "      <td>12.24</td>\n",
       "      <td>12.24</td>\n",
       "      <td>12.24</td>\n",
       "      <td>12.24</td>\n",
       "      <td>12.24</td>\n",
       "      <td>12.24</td>\n",
       "      <td>12.24</td>\n",
       "      <td>12.24</td>\n",
       "      <td>12.24</td>\n",
       "      <td>12.24</td>\n",
       "      <td>12.24</td>\n",
       "      <td>12.24</td>\n",
       "    </tr>\n",
       "    <tr>\n",
       "      <th>2016</th>\n",
       "      <td>10.84</td>\n",
       "      <td>10.84</td>\n",
       "      <td>10.84</td>\n",
       "      <td>10.84</td>\n",
       "      <td>10.84</td>\n",
       "      <td>10.84</td>\n",
       "      <td>10.84</td>\n",
       "      <td>10.84</td>\n",
       "      <td>10.84</td>\n",
       "      <td>10.84</td>\n",
       "      <td>10.84</td>\n",
       "      <td>10.84</td>\n",
       "    </tr>\n",
       "    <tr>\n",
       "      <th>2017</th>\n",
       "      <td>8.53</td>\n",
       "      <td>8.53</td>\n",
       "      <td>8.53</td>\n",
       "      <td>8.53</td>\n",
       "      <td>8.53</td>\n",
       "      <td>8.53</td>\n",
       "      <td>8.53</td>\n",
       "      <td>8.53</td>\n",
       "      <td>8.53</td>\n",
       "      <td>8.53</td>\n",
       "      <td>8.53</td>\n",
       "      <td>8.53</td>\n",
       "    </tr>\n",
       "    <tr>\n",
       "      <th>2018</th>\n",
       "      <td>5.94</td>\n",
       "      <td>5.94</td>\n",
       "      <td>5.94</td>\n",
       "      <td>5.94</td>\n",
       "      <td>5.94</td>\n",
       "      <td>5.94</td>\n",
       "      <td>5.94</td>\n",
       "      <td>5.94</td>\n",
       "      <td>5.94</td>\n",
       "      <td>5.94</td>\n",
       "      <td>5.94</td>\n",
       "      <td>5.94</td>\n",
       "    </tr>\n",
       "    <tr>\n",
       "      <th>2019</th>\n",
       "      <td>4.06</td>\n",
       "      <td>4.06</td>\n",
       "      <td>4.06</td>\n",
       "      <td>4.06</td>\n",
       "      <td>4.06</td>\n",
       "      <td>4.06</td>\n",
       "      <td>4.06</td>\n",
       "      <td>4.06</td>\n",
       "      <td>4.06</td>\n",
       "      <td>4.06</td>\n",
       "      <td>4.06</td>\n",
       "      <td>4.06</td>\n",
       "    </tr>\n",
       "    <tr>\n",
       "      <th>2020</th>\n",
       "      <td>2.79</td>\n",
       "      <td>2.79</td>\n",
       "      <td>2.79</td>\n",
       "      <td>2.79</td>\n",
       "      <td>2.79</td>\n",
       "      <td>2.79</td>\n",
       "      <td>2.79</td>\n",
       "      <td>2.79</td>\n",
       "      <td>2.79</td>\n",
       "      <td>2.79</td>\n",
       "      <td>2.79</td>\n",
       "      <td>2.79</td>\n",
       "    </tr>\n",
       "    <tr>\n",
       "      <th>2021</th>\n",
       "      <td>-1.29</td>\n",
       "      <td>-1.29</td>\n",
       "      <td>-1.29</td>\n",
       "      <td>-1.29</td>\n",
       "      <td>-1.29</td>\n",
       "      <td>-1.29</td>\n",
       "      <td>-1.29</td>\n",
       "      <td>-1.29</td>\n",
       "      <td>-1.29</td>\n",
       "      <td>-1.29</td>\n",
       "      <td>-1.29</td>\n",
       "      <td>-1.29</td>\n",
       "    </tr>\n",
       "  </tbody>\n",
       "</table>\n",
       "</div>"
      ],
      "text/plain": [
       "Month_num     1      2      3      4      5      6      7      8      9   \\\n",
       "Year                                                                       \n",
       "1992         NaN  89.59  89.59  89.59  89.59  89.59  89.59  89.59  89.59   \n",
       "1993       84.15  84.15  84.15  84.15  84.15  84.15  84.15  84.15  84.15   \n",
       "1994       79.47  79.47  79.47  79.47  79.47  79.47  79.47  79.47  79.47   \n",
       "1995       74.58  74.58  74.58  74.58  74.58  74.58  74.58  74.58  74.58   \n",
       "1996       69.60  69.60  69.60  69.60  69.60  69.60  69.60  69.60  69.60   \n",
       "1997       65.73  65.73  65.73  65.73  65.73  65.73  65.73  65.73  65.73   \n",
       "1998       63.20  63.20  63.20  63.20  63.20  63.20  63.20  63.20  63.20   \n",
       "1999       59.70  59.70  59.70  59.70  59.70  59.70  59.70  59.70  59.70   \n",
       "2000       54.49  54.49  54.49  54.49  54.49  54.49  54.49  54.49  54.49   \n",
       "2001       50.24  50.24  50.24  50.24  50.24  50.24  50.24  50.24  50.24   \n",
       "2002       47.89  47.89  47.89  47.89  47.89  47.89  47.89  47.89  47.89   \n",
       "2003       44.61  44.61  44.61  44.61  44.61  44.61  44.61  44.61  44.61   \n",
       "2004       40.84  40.84  40.84  40.84  40.84  40.84  40.84  40.84  40.84   \n",
       "2005       36.22  36.22  36.22  36.22  36.22  36.22  36.22  36.22  36.22   \n",
       "2006       31.96  31.96  31.96  31.96  31.96  31.96  31.96  31.96  31.96   \n",
       "2007       28.30  28.30  28.30  28.30  28.30  28.30  28.30  28.30  28.30   \n",
       "2008       23.56  23.56  23.56    NaN    NaN  23.56  23.56  23.56  23.56   \n",
       "2009       24.00  24.00  24.00  24.00  24.00  24.00  24.00  24.00  24.00   \n",
       "2010       22.00  22.00  22.00  22.00  22.00  22.00  22.00  22.00  22.00   \n",
       "2011       18.27  18.27  18.27  18.27  18.27  18.27  18.27  18.27  18.27   \n",
       "2012       15.87  15.87  15.87  15.87  15.87  15.87  15.87  15.87  15.87   \n",
       "2013       14.19  14.19  14.19  14.19  14.19  14.19  14.19  14.19  14.19   \n",
       "2014       12.37  12.37  12.37  12.37  12.37  12.37  12.37  12.37  12.37   \n",
       "2015       12.24  12.24  12.24  12.24  12.24  12.24  12.24  12.24  12.24   \n",
       "2016       10.84  10.84  10.84  10.84  10.84  10.84  10.84  10.84  10.84   \n",
       "2017        8.53   8.53   8.53   8.53   8.53   8.53   8.53   8.53   8.53   \n",
       "2018        5.94   5.94   5.94   5.94   5.94   5.94   5.94   5.94   5.94   \n",
       "2019        4.06   4.06   4.06   4.06   4.06   4.06   4.06   4.06   4.06   \n",
       "2020        2.79   2.79   2.79   2.79   2.79   2.79   2.79   2.79   2.79   \n",
       "2021       -1.29  -1.29  -1.29  -1.29  -1.29  -1.29  -1.29  -1.29  -1.29   \n",
       "\n",
       "Month_num     10     11     12  \n",
       "Year                            \n",
       "1992       89.59  89.59  89.59  \n",
       "1993       84.15  84.15  84.15  \n",
       "1994       79.47  79.47  79.47  \n",
       "1995       74.58  74.58  74.58  \n",
       "1996       69.60  69.60  69.60  \n",
       "1997       65.73  65.73  65.73  \n",
       "1998       63.20  63.20  63.20  \n",
       "1999       59.70  59.70  59.70  \n",
       "2000       54.49  54.49  54.49  \n",
       "2001       50.24  50.24  50.24  \n",
       "2002       47.89  47.89  47.89  \n",
       "2003       44.61  44.61  44.61  \n",
       "2004       40.84  40.84  40.84  \n",
       "2005       36.22  36.22  36.22  \n",
       "2006       31.96  31.96  31.96  \n",
       "2007       28.30  28.30  28.30  \n",
       "2008       23.56  23.56  23.56  \n",
       "2009       24.00  24.00  24.00  \n",
       "2010       22.00  22.00  22.00  \n",
       "2011       18.27  18.27  18.27  \n",
       "2012       15.87  15.87  15.87  \n",
       "2013       14.19  14.19  14.19  \n",
       "2014       12.37  12.37  12.37  \n",
       "2015       12.24  12.24  12.24  \n",
       "2016       10.84  10.84  10.84  \n",
       "2017        8.53   8.53   8.53  \n",
       "2018        5.94   5.94   5.94  \n",
       "2019        4.06   4.06   4.06  \n",
       "2020        2.79   2.79   2.79  \n",
       "2021       -1.29  -1.29  -1.29  "
      ]
     },
     "execution_count": 42,
     "metadata": {},
     "output_type": "execute_result"
    }
   ],
   "source": [
    "desc_df=df.pivot_table(index='Year',columns='Month_num',values='Inflation_rate',aggfunc='mean')\n",
    "desc_df"
   ]
  },
  {
   "cell_type": "code",
   "execution_count": 43,
   "id": "84fae563",
   "metadata": {
    "execution": {
     "iopub.execute_input": "2023-08-10T13:58:45.960205Z",
     "iopub.status.busy": "2023-08-10T13:58:45.959783Z",
     "iopub.status.idle": "2023-08-10T13:58:46.025023Z",
     "shell.execute_reply": "2023-08-10T13:58:46.023828Z"
    },
    "papermill": {
     "duration": 0.088926,
     "end_time": "2023-08-10T13:58:46.027495",
     "exception": false,
     "start_time": "2023-08-10T13:58:45.938569",
     "status": "completed"
    },
    "tags": []
   },
   "outputs": [
    {
     "data": {
      "text/html": [
       "<div>                            <div id=\"78d0092e-d76e-45d8-a5a3-ec6a65cab1ef\" class=\"plotly-graph-div\" style=\"height:525px; width:100%;\"></div>            <script type=\"text/javascript\">                require([\"plotly\"], function(Plotly) {                    window.PLOTLYENV=window.PLOTLYENV || {};                                    if (document.getElementById(\"78d0092e-d76e-45d8-a5a3-ec6a65cab1ef\")) {                    Plotly.newPlot(                        \"78d0092e-d76e-45d8-a5a3-ec6a65cab1ef\",                        [{\"hovertemplate\":\"variable=1992\\u003cbr\\u003eMonth_num=%{x}\\u003cbr\\u003evalue=%{y}\\u003cextra\\u003e\\u003c\\u002fextra\\u003e\",\"legendgroup\":\"1992\",\"line\":{\"color\":\"#636efa\",\"dash\":\"solid\"},\"marker\":{\"symbol\":\"circle\"},\"mode\":\"markers+lines\",\"name\":\"1992\",\"orientation\":\"v\",\"showlegend\":true,\"x\":[1,2,3,4,5,6,7,8,9,10,11,12],\"xaxis\":\"x\",\"y\":[null,89.59,89.59,89.59,89.59,89.59,89.59,89.59,89.59,89.59,89.59,89.59],\"yaxis\":\"y\",\"type\":\"scatter\"}],                        {\"template\":{\"data\":{\"histogram2dcontour\":[{\"type\":\"histogram2dcontour\",\"colorbar\":{\"outlinewidth\":0,\"ticks\":\"\"},\"colorscale\":[[0.0,\"#0d0887\"],[0.1111111111111111,\"#46039f\"],[0.2222222222222222,\"#7201a8\"],[0.3333333333333333,\"#9c179e\"],[0.4444444444444444,\"#bd3786\"],[0.5555555555555556,\"#d8576b\"],[0.6666666666666666,\"#ed7953\"],[0.7777777777777778,\"#fb9f3a\"],[0.8888888888888888,\"#fdca26\"],[1.0,\"#f0f921\"]]}],\"choropleth\":[{\"type\":\"choropleth\",\"colorbar\":{\"outlinewidth\":0,\"ticks\":\"\"}}],\"histogram2d\":[{\"type\":\"histogram2d\",\"colorbar\":{\"outlinewidth\":0,\"ticks\":\"\"},\"colorscale\":[[0.0,\"#0d0887\"],[0.1111111111111111,\"#46039f\"],[0.2222222222222222,\"#7201a8\"],[0.3333333333333333,\"#9c179e\"],[0.4444444444444444,\"#bd3786\"],[0.5555555555555556,\"#d8576b\"],[0.6666666666666666,\"#ed7953\"],[0.7777777777777778,\"#fb9f3a\"],[0.8888888888888888,\"#fdca26\"],[1.0,\"#f0f921\"]]}],\"heatmap\":[{\"type\":\"heatmap\",\"colorbar\":{\"outlinewidth\":0,\"ticks\":\"\"},\"colorscale\":[[0.0,\"#0d0887\"],[0.1111111111111111,\"#46039f\"],[0.2222222222222222,\"#7201a8\"],[0.3333333333333333,\"#9c179e\"],[0.4444444444444444,\"#bd3786\"],[0.5555555555555556,\"#d8576b\"],[0.6666666666666666,\"#ed7953\"],[0.7777777777777778,\"#fb9f3a\"],[0.8888888888888888,\"#fdca26\"],[1.0,\"#f0f921\"]]}],\"heatmapgl\":[{\"type\":\"heatmapgl\",\"colorbar\":{\"outlinewidth\":0,\"ticks\":\"\"},\"colorscale\":[[0.0,\"#0d0887\"],[0.1111111111111111,\"#46039f\"],[0.2222222222222222,\"#7201a8\"],[0.3333333333333333,\"#9c179e\"],[0.4444444444444444,\"#bd3786\"],[0.5555555555555556,\"#d8576b\"],[0.6666666666666666,\"#ed7953\"],[0.7777777777777778,\"#fb9f3a\"],[0.8888888888888888,\"#fdca26\"],[1.0,\"#f0f921\"]]}],\"contourcarpet\":[{\"type\":\"contourcarpet\",\"colorbar\":{\"outlinewidth\":0,\"ticks\":\"\"}}],\"contour\":[{\"type\":\"contour\",\"colorbar\":{\"outlinewidth\":0,\"ticks\":\"\"},\"colorscale\":[[0.0,\"#0d0887\"],[0.1111111111111111,\"#46039f\"],[0.2222222222222222,\"#7201a8\"],[0.3333333333333333,\"#9c179e\"],[0.4444444444444444,\"#bd3786\"],[0.5555555555555556,\"#d8576b\"],[0.6666666666666666,\"#ed7953\"],[0.7777777777777778,\"#fb9f3a\"],[0.8888888888888888,\"#fdca26\"],[1.0,\"#f0f921\"]]}],\"surface\":[{\"type\":\"surface\",\"colorbar\":{\"outlinewidth\":0,\"ticks\":\"\"},\"colorscale\":[[0.0,\"#0d0887\"],[0.1111111111111111,\"#46039f\"],[0.2222222222222222,\"#7201a8\"],[0.3333333333333333,\"#9c179e\"],[0.4444444444444444,\"#bd3786\"],[0.5555555555555556,\"#d8576b\"],[0.6666666666666666,\"#ed7953\"],[0.7777777777777778,\"#fb9f3a\"],[0.8888888888888888,\"#fdca26\"],[1.0,\"#f0f921\"]]}],\"mesh3d\":[{\"type\":\"mesh3d\",\"colorbar\":{\"outlinewidth\":0,\"ticks\":\"\"}}],\"scatter\":[{\"fillpattern\":{\"fillmode\":\"overlay\",\"size\":10,\"solidity\":0.2},\"type\":\"scatter\"}],\"parcoords\":[{\"type\":\"parcoords\",\"line\":{\"colorbar\":{\"outlinewidth\":0,\"ticks\":\"\"}}}],\"scatterpolargl\":[{\"type\":\"scatterpolargl\",\"marker\":{\"colorbar\":{\"outlinewidth\":0,\"ticks\":\"\"}}}],\"bar\":[{\"error_x\":{\"color\":\"#2a3f5f\"},\"error_y\":{\"color\":\"#2a3f5f\"},\"marker\":{\"line\":{\"color\":\"#E5ECF6\",\"width\":0.5},\"pattern\":{\"fillmode\":\"overlay\",\"size\":10,\"solidity\":0.2}},\"type\":\"bar\"}],\"scattergeo\":[{\"type\":\"scattergeo\",\"marker\":{\"colorbar\":{\"outlinewidth\":0,\"ticks\":\"\"}}}],\"scatterpolar\":[{\"type\":\"scatterpolar\",\"marker\":{\"colorbar\":{\"outlinewidth\":0,\"ticks\":\"\"}}}],\"histogram\":[{\"marker\":{\"pattern\":{\"fillmode\":\"overlay\",\"size\":10,\"solidity\":0.2}},\"type\":\"histogram\"}],\"scattergl\":[{\"type\":\"scattergl\",\"marker\":{\"colorbar\":{\"outlinewidth\":0,\"ticks\":\"\"}}}],\"scatter3d\":[{\"type\":\"scatter3d\",\"line\":{\"colorbar\":{\"outlinewidth\":0,\"ticks\":\"\"}},\"marker\":{\"colorbar\":{\"outlinewidth\":0,\"ticks\":\"\"}}}],\"scattermapbox\":[{\"type\":\"scattermapbox\",\"marker\":{\"colorbar\":{\"outlinewidth\":0,\"ticks\":\"\"}}}],\"scatterternary\":[{\"type\":\"scatterternary\",\"marker\":{\"colorbar\":{\"outlinewidth\":0,\"ticks\":\"\"}}}],\"scattercarpet\":[{\"type\":\"scattercarpet\",\"marker\":{\"colorbar\":{\"outlinewidth\":0,\"ticks\":\"\"}}}],\"carpet\":[{\"aaxis\":{\"endlinecolor\":\"#2a3f5f\",\"gridcolor\":\"white\",\"linecolor\":\"white\",\"minorgridcolor\":\"white\",\"startlinecolor\":\"#2a3f5f\"},\"baxis\":{\"endlinecolor\":\"#2a3f5f\",\"gridcolor\":\"white\",\"linecolor\":\"white\",\"minorgridcolor\":\"white\",\"startlinecolor\":\"#2a3f5f\"},\"type\":\"carpet\"}],\"table\":[{\"cells\":{\"fill\":{\"color\":\"#EBF0F8\"},\"line\":{\"color\":\"white\"}},\"header\":{\"fill\":{\"color\":\"#C8D4E3\"},\"line\":{\"color\":\"white\"}},\"type\":\"table\"}],\"barpolar\":[{\"marker\":{\"line\":{\"color\":\"#E5ECF6\",\"width\":0.5},\"pattern\":{\"fillmode\":\"overlay\",\"size\":10,\"solidity\":0.2}},\"type\":\"barpolar\"}],\"pie\":[{\"automargin\":true,\"type\":\"pie\"}]},\"layout\":{\"autotypenumbers\":\"strict\",\"colorway\":[\"#636efa\",\"#EF553B\",\"#00cc96\",\"#ab63fa\",\"#FFA15A\",\"#19d3f3\",\"#FF6692\",\"#B6E880\",\"#FF97FF\",\"#FECB52\"],\"font\":{\"color\":\"#2a3f5f\"},\"hovermode\":\"closest\",\"hoverlabel\":{\"align\":\"left\"},\"paper_bgcolor\":\"white\",\"plot_bgcolor\":\"#E5ECF6\",\"polar\":{\"bgcolor\":\"#E5ECF6\",\"angularaxis\":{\"gridcolor\":\"white\",\"linecolor\":\"white\",\"ticks\":\"\"},\"radialaxis\":{\"gridcolor\":\"white\",\"linecolor\":\"white\",\"ticks\":\"\"}},\"ternary\":{\"bgcolor\":\"#E5ECF6\",\"aaxis\":{\"gridcolor\":\"white\",\"linecolor\":\"white\",\"ticks\":\"\"},\"baxis\":{\"gridcolor\":\"white\",\"linecolor\":\"white\",\"ticks\":\"\"},\"caxis\":{\"gridcolor\":\"white\",\"linecolor\":\"white\",\"ticks\":\"\"}},\"coloraxis\":{\"colorbar\":{\"outlinewidth\":0,\"ticks\":\"\"}},\"colorscale\":{\"sequential\":[[0.0,\"#0d0887\"],[0.1111111111111111,\"#46039f\"],[0.2222222222222222,\"#7201a8\"],[0.3333333333333333,\"#9c179e\"],[0.4444444444444444,\"#bd3786\"],[0.5555555555555556,\"#d8576b\"],[0.6666666666666666,\"#ed7953\"],[0.7777777777777778,\"#fb9f3a\"],[0.8888888888888888,\"#fdca26\"],[1.0,\"#f0f921\"]],\"sequentialminus\":[[0.0,\"#0d0887\"],[0.1111111111111111,\"#46039f\"],[0.2222222222222222,\"#7201a8\"],[0.3333333333333333,\"#9c179e\"],[0.4444444444444444,\"#bd3786\"],[0.5555555555555556,\"#d8576b\"],[0.6666666666666666,\"#ed7953\"],[0.7777777777777778,\"#fb9f3a\"],[0.8888888888888888,\"#fdca26\"],[1.0,\"#f0f921\"]],\"diverging\":[[0,\"#8e0152\"],[0.1,\"#c51b7d\"],[0.2,\"#de77ae\"],[0.3,\"#f1b6da\"],[0.4,\"#fde0ef\"],[0.5,\"#f7f7f7\"],[0.6,\"#e6f5d0\"],[0.7,\"#b8e186\"],[0.8,\"#7fbc41\"],[0.9,\"#4d9221\"],[1,\"#276419\"]]},\"xaxis\":{\"gridcolor\":\"white\",\"linecolor\":\"white\",\"ticks\":\"\",\"title\":{\"standoff\":15},\"zerolinecolor\":\"white\",\"automargin\":true,\"zerolinewidth\":2},\"yaxis\":{\"gridcolor\":\"white\",\"linecolor\":\"white\",\"ticks\":\"\",\"title\":{\"standoff\":15},\"zerolinecolor\":\"white\",\"automargin\":true,\"zerolinewidth\":2},\"scene\":{\"xaxis\":{\"backgroundcolor\":\"#E5ECF6\",\"gridcolor\":\"white\",\"linecolor\":\"white\",\"showbackground\":true,\"ticks\":\"\",\"zerolinecolor\":\"white\",\"gridwidth\":2},\"yaxis\":{\"backgroundcolor\":\"#E5ECF6\",\"gridcolor\":\"white\",\"linecolor\":\"white\",\"showbackground\":true,\"ticks\":\"\",\"zerolinecolor\":\"white\",\"gridwidth\":2},\"zaxis\":{\"backgroundcolor\":\"#E5ECF6\",\"gridcolor\":\"white\",\"linecolor\":\"white\",\"showbackground\":true,\"ticks\":\"\",\"zerolinecolor\":\"white\",\"gridwidth\":2}},\"shapedefaults\":{\"line\":{\"color\":\"#2a3f5f\"}},\"annotationdefaults\":{\"arrowcolor\":\"#2a3f5f\",\"arrowhead\":0,\"arrowwidth\":1},\"geo\":{\"bgcolor\":\"white\",\"landcolor\":\"#E5ECF6\",\"subunitcolor\":\"white\",\"showland\":true,\"showlakes\":true,\"lakecolor\":\"white\"},\"title\":{\"x\":0.05},\"mapbox\":{\"style\":\"light\"}}},\"xaxis\":{\"anchor\":\"y\",\"domain\":[0.0,1.0],\"title\":{\"text\":\"Month_num\"}},\"yaxis\":{\"anchor\":\"x\",\"domain\":[0.0,1.0],\"title\":{\"text\":\"value\"}},\"legend\":{\"title\":{\"text\":\"variable\"},\"tracegroupgap\":0},\"margin\":{\"t\":60}},                        {\"responsive\": true}                    ).then(function(){\n",
       "                            \n",
       "var gd = document.getElementById('78d0092e-d76e-45d8-a5a3-ec6a65cab1ef');\n",
       "var x = new MutationObserver(function (mutations, observer) {{\n",
       "        var display = window.getComputedStyle(gd).display;\n",
       "        if (!display || display === 'none') {{\n",
       "            console.log([gd, 'removed!']);\n",
       "            Plotly.purge(gd);\n",
       "            observer.disconnect();\n",
       "        }}\n",
       "}});\n",
       "\n",
       "// Listen for the removal of the full notebook cells\n",
       "var notebookContainer = gd.closest('#notebook-container');\n",
       "if (notebookContainer) {{\n",
       "    x.observe(notebookContainer, {childList: true});\n",
       "}}\n",
       "\n",
       "// Listen for the clearing of the current output cell\n",
       "var outputEl = gd.closest('.output');\n",
       "if (outputEl) {{\n",
       "    x.observe(outputEl, {childList: true});\n",
       "}}\n",
       "\n",
       "                        })                };                });            </script>        </div>"
      ]
     },
     "metadata": {},
     "output_type": "display_data"
    }
   ],
   "source": [
    "px.line(desc_df.loc[1992,:],markers=True)"
   ]
  },
  {
   "cell_type": "code",
   "execution_count": 44,
   "id": "0b3a88e1",
   "metadata": {
    "execution": {
     "iopub.execute_input": "2023-08-10T13:58:46.069262Z",
     "iopub.status.busy": "2023-08-10T13:58:46.068904Z",
     "iopub.status.idle": "2023-08-10T13:58:46.132136Z",
     "shell.execute_reply": "2023-08-10T13:58:46.131156Z"
    },
    "papermill": {
     "duration": 0.087195,
     "end_time": "2023-08-10T13:58:46.134862",
     "exception": false,
     "start_time": "2023-08-10T13:58:46.047667",
     "status": "completed"
    },
    "tags": []
   },
   "outputs": [
    {
     "data": {
      "text/html": [
       "<div>                            <div id=\"d8e87fc6-ad8a-4b19-b9c9-7f7ed6501bf7\" class=\"plotly-graph-div\" style=\"height:525px; width:100%;\"></div>            <script type=\"text/javascript\">                require([\"plotly\"], function(Plotly) {                    window.PLOTLYENV=window.PLOTLYENV || {};                                    if (document.getElementById(\"d8e87fc6-ad8a-4b19-b9c9-7f7ed6501bf7\")) {                    Plotly.newPlot(                        \"d8e87fc6-ad8a-4b19-b9c9-7f7ed6501bf7\",                        [{\"hovertemplate\":\"variable=1993\\u003cbr\\u003eMonth_num=%{x}\\u003cbr\\u003evalue=%{y}\\u003cextra\\u003e\\u003c\\u002fextra\\u003e\",\"legendgroup\":\"1993\",\"line\":{\"color\":\"#636efa\",\"dash\":\"solid\"},\"marker\":{\"symbol\":\"circle\"},\"mode\":\"markers+lines\",\"name\":\"1993\",\"orientation\":\"v\",\"showlegend\":true,\"x\":[1,2,3,4,5,6,7,8,9,10,11,12],\"xaxis\":\"x\",\"y\":[84.15,84.15,84.15,84.15,84.15,84.15,84.15,84.15,84.15,84.15,84.15,84.15],\"yaxis\":\"y\",\"type\":\"scatter\"}],                        {\"template\":{\"data\":{\"histogram2dcontour\":[{\"type\":\"histogram2dcontour\",\"colorbar\":{\"outlinewidth\":0,\"ticks\":\"\"},\"colorscale\":[[0.0,\"#0d0887\"],[0.1111111111111111,\"#46039f\"],[0.2222222222222222,\"#7201a8\"],[0.3333333333333333,\"#9c179e\"],[0.4444444444444444,\"#bd3786\"],[0.5555555555555556,\"#d8576b\"],[0.6666666666666666,\"#ed7953\"],[0.7777777777777778,\"#fb9f3a\"],[0.8888888888888888,\"#fdca26\"],[1.0,\"#f0f921\"]]}],\"choropleth\":[{\"type\":\"choropleth\",\"colorbar\":{\"outlinewidth\":0,\"ticks\":\"\"}}],\"histogram2d\":[{\"type\":\"histogram2d\",\"colorbar\":{\"outlinewidth\":0,\"ticks\":\"\"},\"colorscale\":[[0.0,\"#0d0887\"],[0.1111111111111111,\"#46039f\"],[0.2222222222222222,\"#7201a8\"],[0.3333333333333333,\"#9c179e\"],[0.4444444444444444,\"#bd3786\"],[0.5555555555555556,\"#d8576b\"],[0.6666666666666666,\"#ed7953\"],[0.7777777777777778,\"#fb9f3a\"],[0.8888888888888888,\"#fdca26\"],[1.0,\"#f0f921\"]]}],\"heatmap\":[{\"type\":\"heatmap\",\"colorbar\":{\"outlinewidth\":0,\"ticks\":\"\"},\"colorscale\":[[0.0,\"#0d0887\"],[0.1111111111111111,\"#46039f\"],[0.2222222222222222,\"#7201a8\"],[0.3333333333333333,\"#9c179e\"],[0.4444444444444444,\"#bd3786\"],[0.5555555555555556,\"#d8576b\"],[0.6666666666666666,\"#ed7953\"],[0.7777777777777778,\"#fb9f3a\"],[0.8888888888888888,\"#fdca26\"],[1.0,\"#f0f921\"]]}],\"heatmapgl\":[{\"type\":\"heatmapgl\",\"colorbar\":{\"outlinewidth\":0,\"ticks\":\"\"},\"colorscale\":[[0.0,\"#0d0887\"],[0.1111111111111111,\"#46039f\"],[0.2222222222222222,\"#7201a8\"],[0.3333333333333333,\"#9c179e\"],[0.4444444444444444,\"#bd3786\"],[0.5555555555555556,\"#d8576b\"],[0.6666666666666666,\"#ed7953\"],[0.7777777777777778,\"#fb9f3a\"],[0.8888888888888888,\"#fdca26\"],[1.0,\"#f0f921\"]]}],\"contourcarpet\":[{\"type\":\"contourcarpet\",\"colorbar\":{\"outlinewidth\":0,\"ticks\":\"\"}}],\"contour\":[{\"type\":\"contour\",\"colorbar\":{\"outlinewidth\":0,\"ticks\":\"\"},\"colorscale\":[[0.0,\"#0d0887\"],[0.1111111111111111,\"#46039f\"],[0.2222222222222222,\"#7201a8\"],[0.3333333333333333,\"#9c179e\"],[0.4444444444444444,\"#bd3786\"],[0.5555555555555556,\"#d8576b\"],[0.6666666666666666,\"#ed7953\"],[0.7777777777777778,\"#fb9f3a\"],[0.8888888888888888,\"#fdca26\"],[1.0,\"#f0f921\"]]}],\"surface\":[{\"type\":\"surface\",\"colorbar\":{\"outlinewidth\":0,\"ticks\":\"\"},\"colorscale\":[[0.0,\"#0d0887\"],[0.1111111111111111,\"#46039f\"],[0.2222222222222222,\"#7201a8\"],[0.3333333333333333,\"#9c179e\"],[0.4444444444444444,\"#bd3786\"],[0.5555555555555556,\"#d8576b\"],[0.6666666666666666,\"#ed7953\"],[0.7777777777777778,\"#fb9f3a\"],[0.8888888888888888,\"#fdca26\"],[1.0,\"#f0f921\"]]}],\"mesh3d\":[{\"type\":\"mesh3d\",\"colorbar\":{\"outlinewidth\":0,\"ticks\":\"\"}}],\"scatter\":[{\"fillpattern\":{\"fillmode\":\"overlay\",\"size\":10,\"solidity\":0.2},\"type\":\"scatter\"}],\"parcoords\":[{\"type\":\"parcoords\",\"line\":{\"colorbar\":{\"outlinewidth\":0,\"ticks\":\"\"}}}],\"scatterpolargl\":[{\"type\":\"scatterpolargl\",\"marker\":{\"colorbar\":{\"outlinewidth\":0,\"ticks\":\"\"}}}],\"bar\":[{\"error_x\":{\"color\":\"#2a3f5f\"},\"error_y\":{\"color\":\"#2a3f5f\"},\"marker\":{\"line\":{\"color\":\"#E5ECF6\",\"width\":0.5},\"pattern\":{\"fillmode\":\"overlay\",\"size\":10,\"solidity\":0.2}},\"type\":\"bar\"}],\"scattergeo\":[{\"type\":\"scattergeo\",\"marker\":{\"colorbar\":{\"outlinewidth\":0,\"ticks\":\"\"}}}],\"scatterpolar\":[{\"type\":\"scatterpolar\",\"marker\":{\"colorbar\":{\"outlinewidth\":0,\"ticks\":\"\"}}}],\"histogram\":[{\"marker\":{\"pattern\":{\"fillmode\":\"overlay\",\"size\":10,\"solidity\":0.2}},\"type\":\"histogram\"}],\"scattergl\":[{\"type\":\"scattergl\",\"marker\":{\"colorbar\":{\"outlinewidth\":0,\"ticks\":\"\"}}}],\"scatter3d\":[{\"type\":\"scatter3d\",\"line\":{\"colorbar\":{\"outlinewidth\":0,\"ticks\":\"\"}},\"marker\":{\"colorbar\":{\"outlinewidth\":0,\"ticks\":\"\"}}}],\"scattermapbox\":[{\"type\":\"scattermapbox\",\"marker\":{\"colorbar\":{\"outlinewidth\":0,\"ticks\":\"\"}}}],\"scatterternary\":[{\"type\":\"scatterternary\",\"marker\":{\"colorbar\":{\"outlinewidth\":0,\"ticks\":\"\"}}}],\"scattercarpet\":[{\"type\":\"scattercarpet\",\"marker\":{\"colorbar\":{\"outlinewidth\":0,\"ticks\":\"\"}}}],\"carpet\":[{\"aaxis\":{\"endlinecolor\":\"#2a3f5f\",\"gridcolor\":\"white\",\"linecolor\":\"white\",\"minorgridcolor\":\"white\",\"startlinecolor\":\"#2a3f5f\"},\"baxis\":{\"endlinecolor\":\"#2a3f5f\",\"gridcolor\":\"white\",\"linecolor\":\"white\",\"minorgridcolor\":\"white\",\"startlinecolor\":\"#2a3f5f\"},\"type\":\"carpet\"}],\"table\":[{\"cells\":{\"fill\":{\"color\":\"#EBF0F8\"},\"line\":{\"color\":\"white\"}},\"header\":{\"fill\":{\"color\":\"#C8D4E3\"},\"line\":{\"color\":\"white\"}},\"type\":\"table\"}],\"barpolar\":[{\"marker\":{\"line\":{\"color\":\"#E5ECF6\",\"width\":0.5},\"pattern\":{\"fillmode\":\"overlay\",\"size\":10,\"solidity\":0.2}},\"type\":\"barpolar\"}],\"pie\":[{\"automargin\":true,\"type\":\"pie\"}]},\"layout\":{\"autotypenumbers\":\"strict\",\"colorway\":[\"#636efa\",\"#EF553B\",\"#00cc96\",\"#ab63fa\",\"#FFA15A\",\"#19d3f3\",\"#FF6692\",\"#B6E880\",\"#FF97FF\",\"#FECB52\"],\"font\":{\"color\":\"#2a3f5f\"},\"hovermode\":\"closest\",\"hoverlabel\":{\"align\":\"left\"},\"paper_bgcolor\":\"white\",\"plot_bgcolor\":\"#E5ECF6\",\"polar\":{\"bgcolor\":\"#E5ECF6\",\"angularaxis\":{\"gridcolor\":\"white\",\"linecolor\":\"white\",\"ticks\":\"\"},\"radialaxis\":{\"gridcolor\":\"white\",\"linecolor\":\"white\",\"ticks\":\"\"}},\"ternary\":{\"bgcolor\":\"#E5ECF6\",\"aaxis\":{\"gridcolor\":\"white\",\"linecolor\":\"white\",\"ticks\":\"\"},\"baxis\":{\"gridcolor\":\"white\",\"linecolor\":\"white\",\"ticks\":\"\"},\"caxis\":{\"gridcolor\":\"white\",\"linecolor\":\"white\",\"ticks\":\"\"}},\"coloraxis\":{\"colorbar\":{\"outlinewidth\":0,\"ticks\":\"\"}},\"colorscale\":{\"sequential\":[[0.0,\"#0d0887\"],[0.1111111111111111,\"#46039f\"],[0.2222222222222222,\"#7201a8\"],[0.3333333333333333,\"#9c179e\"],[0.4444444444444444,\"#bd3786\"],[0.5555555555555556,\"#d8576b\"],[0.6666666666666666,\"#ed7953\"],[0.7777777777777778,\"#fb9f3a\"],[0.8888888888888888,\"#fdca26\"],[1.0,\"#f0f921\"]],\"sequentialminus\":[[0.0,\"#0d0887\"],[0.1111111111111111,\"#46039f\"],[0.2222222222222222,\"#7201a8\"],[0.3333333333333333,\"#9c179e\"],[0.4444444444444444,\"#bd3786\"],[0.5555555555555556,\"#d8576b\"],[0.6666666666666666,\"#ed7953\"],[0.7777777777777778,\"#fb9f3a\"],[0.8888888888888888,\"#fdca26\"],[1.0,\"#f0f921\"]],\"diverging\":[[0,\"#8e0152\"],[0.1,\"#c51b7d\"],[0.2,\"#de77ae\"],[0.3,\"#f1b6da\"],[0.4,\"#fde0ef\"],[0.5,\"#f7f7f7\"],[0.6,\"#e6f5d0\"],[0.7,\"#b8e186\"],[0.8,\"#7fbc41\"],[0.9,\"#4d9221\"],[1,\"#276419\"]]},\"xaxis\":{\"gridcolor\":\"white\",\"linecolor\":\"white\",\"ticks\":\"\",\"title\":{\"standoff\":15},\"zerolinecolor\":\"white\",\"automargin\":true,\"zerolinewidth\":2},\"yaxis\":{\"gridcolor\":\"white\",\"linecolor\":\"white\",\"ticks\":\"\",\"title\":{\"standoff\":15},\"zerolinecolor\":\"white\",\"automargin\":true,\"zerolinewidth\":2},\"scene\":{\"xaxis\":{\"backgroundcolor\":\"#E5ECF6\",\"gridcolor\":\"white\",\"linecolor\":\"white\",\"showbackground\":true,\"ticks\":\"\",\"zerolinecolor\":\"white\",\"gridwidth\":2},\"yaxis\":{\"backgroundcolor\":\"#E5ECF6\",\"gridcolor\":\"white\",\"linecolor\":\"white\",\"showbackground\":true,\"ticks\":\"\",\"zerolinecolor\":\"white\",\"gridwidth\":2},\"zaxis\":{\"backgroundcolor\":\"#E5ECF6\",\"gridcolor\":\"white\",\"linecolor\":\"white\",\"showbackground\":true,\"ticks\":\"\",\"zerolinecolor\":\"white\",\"gridwidth\":2}},\"shapedefaults\":{\"line\":{\"color\":\"#2a3f5f\"}},\"annotationdefaults\":{\"arrowcolor\":\"#2a3f5f\",\"arrowhead\":0,\"arrowwidth\":1},\"geo\":{\"bgcolor\":\"white\",\"landcolor\":\"#E5ECF6\",\"subunitcolor\":\"white\",\"showland\":true,\"showlakes\":true,\"lakecolor\":\"white\"},\"title\":{\"x\":0.05},\"mapbox\":{\"style\":\"light\"}}},\"xaxis\":{\"anchor\":\"y\",\"domain\":[0.0,1.0],\"title\":{\"text\":\"Month_num\"}},\"yaxis\":{\"anchor\":\"x\",\"domain\":[0.0,1.0],\"title\":{\"text\":\"value\"}},\"legend\":{\"title\":{\"text\":\"variable\"},\"tracegroupgap\":0},\"margin\":{\"t\":60}},                        {\"responsive\": true}                    ).then(function(){\n",
       "                            \n",
       "var gd = document.getElementById('d8e87fc6-ad8a-4b19-b9c9-7f7ed6501bf7');\n",
       "var x = new MutationObserver(function (mutations, observer) {{\n",
       "        var display = window.getComputedStyle(gd).display;\n",
       "        if (!display || display === 'none') {{\n",
       "            console.log([gd, 'removed!']);\n",
       "            Plotly.purge(gd);\n",
       "            observer.disconnect();\n",
       "        }}\n",
       "}});\n",
       "\n",
       "// Listen for the removal of the full notebook cells\n",
       "var notebookContainer = gd.closest('#notebook-container');\n",
       "if (notebookContainer) {{\n",
       "    x.observe(notebookContainer, {childList: true});\n",
       "}}\n",
       "\n",
       "// Listen for the clearing of the current output cell\n",
       "var outputEl = gd.closest('.output');\n",
       "if (outputEl) {{\n",
       "    x.observe(outputEl, {childList: true});\n",
       "}}\n",
       "\n",
       "                        })                };                });            </script>        </div>"
      ]
     },
     "metadata": {},
     "output_type": "display_data"
    }
   ],
   "source": [
    "px.line(desc_df.loc[1993,:],markers=True)"
   ]
  },
  {
   "cell_type": "markdown",
   "id": "20fc92aa",
   "metadata": {
    "papermill": {
     "duration": 0.019005,
     "end_time": "2023-08-10T13:58:46.174249",
     "exception": false,
     "start_time": "2023-08-10T13:58:46.155244",
     "status": "completed"
    },
    "tags": []
   },
   "source": [
    "**the drop usually happened in Jan of each year**"
   ]
  },
  {
   "cell_type": "markdown",
   "id": "3f92aed4",
   "metadata": {
    "papermill": {
     "duration": 0.019549,
     "end_time": "2023-08-10T13:58:46.212916",
     "exception": false,
     "start_time": "2023-08-10T13:58:46.193367",
     "status": "completed"
    },
    "tags": []
   },
   "source": [
    "# Recommendation check records"
   ]
  },
  {
   "cell_type": "markdown",
   "id": "1950ab15",
   "metadata": {
    "papermill": {
     "duration": 0.018913,
     "end_time": "2023-08-10T13:58:46.251106",
     "exception": false,
     "start_time": "2023-08-10T13:58:46.232193",
     "status": "completed"
    },
    "tags": []
   },
   "source": [
    "**I think this dataset is not real**"
   ]
  }
 ],
 "metadata": {
  "kernelspec": {
   "display_name": "Python 3",
   "language": "python",
   "name": "python3"
  },
  "language_info": {
   "codemirror_mode": {
    "name": "ipython",
    "version": 3
   },
   "file_extension": ".py",
   "mimetype": "text/x-python",
   "name": "python",
   "nbconvert_exporter": "python",
   "pygments_lexer": "ipython3",
   "version": "3.10.12"
  },
  "papermill": {
   "default_parameters": {},
   "duration": 18.663663,
   "end_time": "2023-08-10T13:58:47.292606",
   "environment_variables": {},
   "exception": null,
   "input_path": "__notebook__.ipynb",
   "output_path": "__notebook__.ipynb",
   "parameters": {},
   "start_time": "2023-08-10T13:58:28.628943",
   "version": "2.4.0"
  }
 },
 "nbformat": 4,
 "nbformat_minor": 5
}
